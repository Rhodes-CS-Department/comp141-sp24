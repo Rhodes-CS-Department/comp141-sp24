{
 "cells": [
  {
   "cell_type": "code",
   "execution_count": null,
   "metadata": {},
   "outputs": [],
   "source": [
    "#Lab-01 Address.py Solution\n",
    "\n",
    "#This program prompts the user for name and address and prints it out using proper formatting\n",
    "\n",
    "#Get inputs from the user separately\n",
    "first = input(\"First name: \")\n",
    "last = input(\"Last name: \")\n",
    "street = input(\"Street address: \")\n",
    "city = input(\"City: \")\n",
    "state = input(\"State: \")\n",
    "zip = input(\"Zip code: \")\n",
    "\n",
    "#Output name and address with proper formatting\n",
    "print(last, \", \", first, sep='') #overwrite sep argument to remove spaces\n",
    "print(street)\n",
    "print(city, \", \", state, \" \", zip, sep='')\n",
    "\n",
    "\n",
    "#Here's another way to print out the statement\n",
    "print(\"Printed again using alt method of formatting strings:\")\n",
    "print(f'{last}, {first} \\n{street}\\n{city}, {state} {zip}')"
   ]
  },
  {
   "cell_type": "code",
   "execution_count": null,
   "metadata": {},
   "outputs": [],
   "source": [
    "#Lab-01 Quadratic.py Solution\n",
    "import math\n",
    "\n",
    "a = int(input(\"Enter a: \"))\n",
    "b = int(input(\"Enter b: \"))\n",
    "c = int(input(\"Enter c: \"))\n",
    "sol1 = (-b + math.sqrt(b**2 - 4*a*c))/2*a\n",
    "sol2 = (-b - math.sqrt(b**2 - 4*a*c))/2*a\n",
    "print(\"The 2 solutions are: \", sol1, \"and\", sol2)"
   ]
  },
  {
   "cell_type": "markdown",
   "metadata": {},
   "source": [
    "## Challenge question\n",
    "The following problem is __not__ required to get full credit for the lab. It is __optional__ practice.\n",
    "\n",
    "You win a small lottery and suddenly have $50,000 to invest. You decide to put it in the stock market, which historically average about a 7\\% annual return (in other words, your money will increase by 7\\% each year).\n",
    "\n",
    "Write a program which allows the user to enter an amount of money they hope to earn, and your program should print the number of years it will take to earn that amount, compounding 7\\% annually.\n",
    "\n",
    "The formula for calculating the amount of money you'll have after Y years, if you start with P dollars, with an interest rate of r, with compound interest is:\n",
    "\n",
    "$$Value = P[(1+r)^Y]$$\n",
    "\n",
    "Hint: Use import math again, along with the function math.log(x). This calculates the natural logarithm of x. \n",
    "\n",
    "Assuming you need one million dollars to retire, how many years will it take you? What if you need two million? What if the initial amount is increased to $60,000? (Change your program to let the user input an amount). What if the stock market only averages 6\\%?\t"
   ]
  },
  {
   "cell_type": "code",
   "execution_count": null,
   "metadata": {},
   "outputs": [],
   "source": [
    "#Lab-01 Challenge Question Solution\n",
    "import math\n",
    "\n",
    "# Assuming 7% annual return\n",
    "r = 0.07\n",
    "\n",
    "#Asssuming we have $50,000 to invest\n",
    "P = 50000\n",
    "\n",
    "Value = float(input(\"How much money do you hope to earn? \"))\n",
    "\n",
    "#Need to rearrange the equation to solve for Years\n",
    "\n",
    "years = (math.log(Value/P))/(math.log(1+r))\n",
    "print(\"Years: \", years)\n"
   ]
  },
  {
   "attachments": {},
   "cell_type": "markdown",
   "metadata": {},
   "source": [
    "# Day 4 - Branching Statements and conditionals\n",
    "\n",
    "## if-statement\n",
    "![if-statement.png](attachment:if-statement.png)\n",
    "\n",
    "Python syntax:\n",
    "```\n",
    "if condition:\n",
    "\tstatement\n",
    "\tstatement\n",
    "    more statements...\n",
    "statement\n",
    "statement\n",
    "more statements...\n",
    "```\n",
    "* First line known as the if clause\n",
    "* Includes the keyword `if` followed by condition\n",
    "* The condition can be __True__ or __False__\n",
    "* The indented group of statements is called the *body* of the if statement.\n",
    "* When the `if` statement executes, the condition is tested, and if it is `True`, all the statements in the *body* are executed. Otherwise, the *body* is skipped.\n",
    "* Either way, whether the *body* is executed or skipped, Python then continues by running the unindented statements below the *body*."
   ]
  },
  {
   "cell_type": "markdown",
   "metadata": {},
   "source": [
    "## Boolean Expressions and Relational Operators\n",
    "\n",
    "__Boolean expression:__ expression tested by if statement to determine if it is true or false\n",
    "* Example: `a > b` (True if `a` is greater than `b`; False otherwise)\n",
    "\n",
    "__Relational operator:__ determines whether a specific relationship exists between two values\n",
    "* Example: greater than (>)\n",
    "\n",
    "Expression | Meaning\n",
    "------------ | -------------\n",
    "x > y | Is x greater than y?\n",
    "x < y | Is x less than y?\n",
    "x >= y | Is x greater than or equal to y?\n",
    "x <= y | Is x less than or equal to y?\n",
    "x == y | Is x equal to y?\n",
    "x != y | Is x not equal to y?\n",
    "\n",
    "== operator determines whether the two operands are equal to one another - __Do not confuse with assignment operator (=)__\n",
    "\n",
    "__Any relational operator can be used in a conditional statement__\n",
    "* Example: if balance == 0:\n",
    "* Example: if payment != balance:\n"
   ]
  },
  {
   "cell_type": "code",
   "execution_count": null,
   "metadata": {},
   "outputs": [],
   "source": [
    "#Exam-if.py\n",
    "#This program asks the user for their 3 exam scores and calculates their average\n",
    "#If the user says they did the extra credit assignment, 5 points is added to their average\n",
    "\n",
    "exam1 = int(input(\"What is your first exam score? \"))\n",
    "exam2 = int(input(\"What is your second exam score? \"))\n",
    "exam3 = int(input(\"What is your third exam score? \"))\n",
    "\n",
    "average = (exam1 + exam2 + exam3) / 3\n",
    "\n",
    "choice = input(\"Did you do the extra credit assignment (yes or no): \")\n",
    "if choice == 'yes':\n",
    "    average = average + 5\n",
    "\n",
    "print(\"Your exam average is\", average)"
   ]
  },
  {
   "cell_type": "code",
   "execution_count": null,
   "metadata": {},
   "outputs": [],
   "source": [
    "#Change the values of a and b below and re-run the code to see how the output changes\n",
    "a = 3\n",
    "b = 5\n",
    "\n",
    "if a < b:\n",
    "    print(\"a is less than b\")\n",
    "\n",
    "if a > b:\n",
    "    print(\"a is greater than b\")\n",
    "\n",
    "if a <= b:\n",
    "    print(\"a is less than or equal to b\")\n",
    "\n",
    "if a >= b:\n",
    "    print(\"a is greater than or equal to b\")"
   ]
  },
  {
   "attachments": {
    "if-else-explanation.png": {
     "image/png": "[encoded data removed]"
    },
    "if-else-statement.png": {
     "image/png": "[encoded data removed]"
    }
   },
   "cell_type": "markdown",
   "metadata": {},
   "source": [
    "## The if-else Statement\n",
    "![if-else-statement.png](attachment:if-else-statement.png) ![if-else-explanation.png](attachment:if-else-explanation.png)\n",
    "\n",
    "* The two parts are known as the *if clause* and the *else clause*.\n",
    "* Uses the keyword `if` followed by a *condition*, followed by a block of statements called the *body* of the `if`.\n",
    "* Then the keyword `else`, followed by another block of statements called the *body* of the `else`.\n",
    "* When the `if-else` statement executes, the *condition* is tested, and if it is `True`, all the statements in the first block of code are executed, and the second block of code is skipped.\n",
    "* If the condition is `False`, all the statements in the first block are skipped, and the second block is executed."
   ]
  },
  {
   "cell_type": "code",
   "execution_count": null,
   "metadata": {},
   "outputs": [],
   "source": [
    "#Exam-if-else.py\n",
    "#This program asks the user for their 3 exam scores and calculates their average\n",
    "#If the user says they did the extra credit assignment, 5 points is added to their average\n",
    "#Else no points are added to their average\n",
    "\n",
    "exam1 = int(input(\"What is your first exam score? \"))\n",
    "exam2 = int(input(\"What is your second exam score? \"))\n",
    "exam3 = int(input(\"What is your third exam score? \"))\n",
    "\n",
    "average = (exam1 + exam2 + exam3) / 3\n",
    "\n",
    "choice = input(\"Did you do the extra credit assignment (yes or no): \")\n",
    "if choice == 'yes':\n",
    "    print(\"Your exam average is\", average+5)\n",
    "else:\n",
    "    print(\"Your exam average is\", average)"
   ]
  },
  {
   "attachments": {
    "stringComparison.png": {
     "image/png": "[encoded data removed]"
    }
   },
   "cell_type": "markdown",
   "metadata": {},
   "source": [
    "## Comparing Strings\n",
    "\n",
    "* Strings can be compared using the == and != operators\n",
    "* String comparisons are __case sensitive__\n",
    "* Strings can also be compared using >, <, >=, and <=\n",
    "<ul>\n",
    "    <li>Compared character by character based on the ASCII values for each character</li>\n",
    "    <li>If shorter word is substring of longer word, longer word is greater than shorter word</li>\n",
    "</ul>\n",
    "\n",
    "![stringComparison.png](attachment:stringComparison.png)"
   ]
  },
  {
   "cell_type": "code",
   "execution_count": null,
   "metadata": {},
   "outputs": [],
   "source": [
    "#CompareStrings.py\n",
    "#This program takes in two names and prints them out in alphbetical order\n",
    "\n",
    "name1 = input(\"Enter name 1: \")\n",
    "name2 = input(\"Enter name 2: \")\n",
    "\n",
    "print(\"Here are the names, listed alphabetically: \")\n",
    "\n",
    "if name1 < name2:\n",
    "    print(name1)\n",
    "    print(name2)\n",
    "else:\n",
    "    print(name2)\n",
    "    print(name1)"
   ]
  },
  {
   "cell_type": "markdown",
   "metadata": {},
   "source": [
    "## Tracing Code\n",
    "\n",
    "Being able to trace through code, without running it, helps you learn how to read code well.\n",
    "\n",
    "Trace through the following code and predict the output of the code without running it. Once you have your solution, run the code and see if you're correct."
   ]
  },
  {
   "cell_type": "code",
   "execution_count": null,
   "metadata": {},
   "outputs": [],
   "source": [
    "x = 1\n",
    "y = 2\n",
    "z = 3\n",
    "\n",
    "if x < y:\n",
    "    x = x + 1\n",
    "    z = x - 1\n",
    "\n",
    "if y < z:\n",
    "    y = y - 1\n",
    "if x < y:\n",
    "    x = x + 1\n",
    "else:\n",
    "    z = z + x + 1\n",
    "\n",
    "print(x, y, z)\n"
   ]
  },
  {
   "cell_type": "markdown",
   "metadata": {},
   "source": [
    "## Practice Problems\n",
    "\n",
    "__legal.py__\n",
    "\n",
    "Write a program that prompts a user for his or her age and prints out whether or not they are (legally) allowed to drink alcohol."
   ]
  },
  {
   "cell_type": "code",
   "execution_count": null,
   "metadata": {},
   "outputs": [],
   "source": [
    "# Write your program here."
   ]
  },
  {
   "cell_type": "markdown",
   "metadata": {},
   "source": [
    "__area.py__\n",
    "\n",
    "Write a program that asks the user if they want to calculate the area of a square or a triangle. (The user will type in square or triangle.) \n",
    "* If they enter square, then ask the user for the length of a side and print the area. \n",
    "* If they enter triangle, then ask the user for the base and height and print the area."
   ]
  },
  {
   "cell_type": "code",
   "execution_count": null,
   "metadata": {},
   "outputs": [],
   "source": [
    "# Write your program here."
   ]
  },
  {
   "cell_type": "markdown",
   "metadata": {},
   "source": [
    "Please do the following:\n",
    "\n",
    "1. Zybooks Assignment 2 - due by 11:59pm Sunday\n",
    "2. Take Quiz 2 - due by 11:59pm on Sunday\n",
    "3. Keep working on Project 1 (project 01) - due Sunday, Jan. 28th by 11:59pm"
   ]
  },
  {
   "cell_type": "code",
   "execution_count": null,
   "metadata": {},
   "outputs": [],
   "source": []
  }
 ],
 "metadata": {
  "kernelspec": {
   "display_name": "Python 3 (ipykernel)",
   "language": "python",
   "name": "python3"
  },
  "language_info": {
   "codemirror_mode": {
    "name": "ipython",
    "version": 3
   },
   "file_extension": ".py",
   "mimetype": "text/x-python",
   "name": "python",
   "nbconvert_exporter": "python",
   "pygments_lexer": "ipython3",
   "version": "3.11.4"
  },
  "varInspector": {
   "cols": {
    "lenName": 16,
    "lenType": 16,
    "lenVar": 40
   },
   "kernels_config": {
    "python": {
     "delete_cmd_postfix": "",
     "delete_cmd_prefix": "del ",
     "library": "var_list.py",
     "varRefreshCmd": "print(var_dic_list())"
    },
    "r": {
     "delete_cmd_postfix": ") ",
     "delete_cmd_prefix": "rm(",
     "library": "var_list.r",
     "varRefreshCmd": "cat(var_dic_list()) "
    }
   },
   "types_to_exclude": [
    "module",
    "function",
    "builtin_function_or_method",
    "instance",
    "_Feature"
   ],
   "window_display": false
  }
 },
 "nbformat": 4,
 "nbformat_minor": 2
}
