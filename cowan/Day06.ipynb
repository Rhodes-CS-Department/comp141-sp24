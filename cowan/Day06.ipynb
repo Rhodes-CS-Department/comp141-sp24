{
 "cells": [
  {
   "cell_type": "markdown",
   "metadata": {},
   "source": [
    "## Practice Problems from Friday\n",
    "\n",
    "__birthday.py__\n",
    "* Create a program that asks the user when their birthday is (month and day as integers).\n",
    "* Print a message to the user specifying whether their birthday has passed for the year,\n",
    "has yet to come for the year, or is today.\n"
   ]
  },
  {
   "cell_type": "code",
   "execution_count": null,
   "metadata": {},
   "outputs": [],
   "source": []
  },
  {
   "cell_type": "markdown",
   "metadata": {},
   "source": [
    "__hobby.py__\n",
    "* Write a program to help people choose an outdoor hobby. \n",
    "* Ask the user what kind of weather they prefer: hot, mild, or cold. The user should be able to answer either with a\n",
    "word, or just the first letter (h, m, or c).\n",
    "<ul>\n",
    "    <li> If they chose hot weather, ask the user if they like water. If they say yes, tell the user they should take up swimming. If they say no, tell them to take up beach volleyball.</li>\n",
    "    <li>If they chose mild weather, ask the user if they like to run. If they say yes, tell them to take up soccer. If they say no, recommend golf.</li>\n",
    "    <li> If they chose cold weather, ask the user if they are afraid of heights. If they say yes, tell them to take up ice skating. If they say no, tell them to take up downhill skiing.</li>\n",
    "</ul>\n",
    "* For each secondary yes/no question, the user should be able to type in the entire word or just the first letter (y/n).\n"
   ]
  },
  {
   "cell_type": "code",
   "execution_count": null,
   "metadata": {},
   "outputs": [],
   "source": []
  },
  {
   "attachments": {},
   "cell_type": "markdown",
   "metadata": {},
   "source": [
    "# Day 6: Writing our own functions\n",
    "\n",
    "## Writing modular programs\n",
    "__Modular programming__ is a coding technique that separates the functionality of a program into independent sections, or modules. Many programming languages refer to modules as functions or methods. \n",
    "![functions.png](attachment:functions.png)\n",
    "\n",
    "__Functions:__ group of statements within a program that perform as specific task\n",
    "* Usually one task of a large program\n",
    "* Functions can be executed in order to perform overall program task\n",
    "* Known as divide and conquer approach\n",
    "\n",
    "__Example__\n",
    "![function_Example.png](attachment:function_Example.png)\n",
    "\n",
    "__Benefits of Modular Programming__\n",
    "* Simpler code\n",
    "* Code reuse - write the code once and call it multiple times\n",
    "* Better testing and debugging - can test and debug each function individually\n",
    "* Faster development\n",
    "* Easier facilitation of teamwork - different team members can write different functions\n",
    "\n",
    "__Defining a Function__\n",
    "\n",
    "Give your function a name so it can be run later\n",
    "* Pick a name that describes what it does!\n",
    "* Same naming rules as variable names\n",
    "\n",
    "Syntax:\n",
    "\n",
    "```\n",
    "def name( ):    #This is the function header\n",
    "    statement\n",
    "    statement\n",
    "    statement\n",
    "```\n",
    "\n",
    "__Calling a Function__: Runs the code inside the function definition\n",
    "\n",
    "Syntax:\n",
    "`name()`\n",
    "\n",
    "* After defining a function, you can call it as many times as you'd like.\n",
    "* Each time you call it, Python acts as if you had typed in all the lines of the function definition, and executes them all in order.\n",
    "\n",
    "__Defining and Calling a Function__\n",
    "* To use a function, we must define it first.\n",
    "* After defining a function, to run the code inside, you call the function.\n",
    "* When a function is called:\n",
    "<ul>\n",
    "    <li> Interpreter jumps to the function and executes statements in the block</li>\n",
    "    <li> Interpreter jumps back to part of program that called the function</li>\n",
    "</ul>\n",
    "\n",
    "__The `main` function__: Defines the mainline logic of the program.\n",
    "* From this point on, always define a `main()` function in your programs.\n",
    "* Always call the `main()` function as the last line in your program.\n",
    "* `main` function: called when the program starts\n",
    "* Calls other functions when they are needed \n",
    "\n",
    "__Note about Indentation in Python__: each block of code must be indented\n",
    "* All lines within the same block must begin with the same number of spaces\n",
    "* Use tabs or spaces to indent lines in a block, but not both as this can confuse the Python interpreter\n",
    "* Blank lines that appear in a block are ignored\n"
   ]
  },
  {
   "cell_type": "code",
   "execution_count": 1,
   "metadata": {},
   "outputs": [
    {
     "name": "stdout",
     "output_type": "stream",
     "text": [
      "Twinkle twinkle little star\n",
      "How I wonder what you are\n",
      "Up above the world so high\n",
      "Like a diamond in the sky\n",
      "Twinkle twinkle little star\n",
      "How I wonder what you are\n",
      "What year were you born? 1988\n",
      "What year is it? 2024\n",
      "You are  36 years old.\n"
     ]
    }
   ],
   "source": [
    "#Twinkle.py - example with functions\n",
    "\n",
    "def twinkle():   \n",
    "    print(\"Twinkle twinkle little star\")\n",
    "    print(\"How I wonder what you are\")\n",
    "    \n",
    "\n",
    "def main():\n",
    "    twinkle()  #Call (run) the twinkle function\n",
    "    print(\"Up above the world so high\")\n",
    "    print(\"Like a diamond in the sky\")\n",
    "    twinkle()  #Call the twinkle function again\n",
    "\n",
    "main()       #Call the main function to start the program"
   ]
  },
  {
   "cell_type": "markdown",
   "metadata": {},
   "source": [
    "## Practice\n",
    "__desserts.py__\n",
    "* You are in charge of desserts at Thanksgiving dinner. You decide to make 2 pumpkin pies and 1 apple pie. \n",
    "* Write a program that defines these functions:\n",
    "<ul>\n",
    "    <li> make_apple() should print a description of how to make 1 apple pie </li>\n",
    "    <li> make_pumpkin() should print a description of how to make 1 pumpkin pie </li>\n",
    "    <li> main() should call make_apple() and make_pumpkin() appropriately to make all the pies. </li>\n",
    "</ul>\n",
    "* Don’t forget to call main() at the end of your code!\n",
    "* If you get done early, modify main() to ask the user for how many people are coming to dinner. If the number of people is more than 6, make 1 extra apple pie and 1 extra pumpkin pie."
   ]
  },
  {
   "cell_type": "code",
   "execution_count": null,
   "metadata": {},
   "outputs": [],
   "source": []
  },
  {
   "cell_type": "markdown",
   "metadata": {},
   "source": [
    "Please do the following:\n",
    "* Zybooks Assignment 3 - due Wednesday\n",
    "* Finish Project 1 - due tonight\n",
    "* Start working on Project 2 (project-02) - due by 2/5"
   ]
  },
  {
   "cell_type": "code",
   "execution_count": null,
   "metadata": {},
   "outputs": [],
   "source": []
  }
 ],
 "metadata": {
  "kernelspec": {
   "display_name": "Python 3 (ipykernel)",
   "language": "python",
   "name": "python3"
  },
  "language_info": {
   "codemirror_mode": {
    "name": "ipython",
    "version": 3
   },
   "file_extension": ".py",
   "mimetype": "text/x-python",
   "name": "python",
   "nbconvert_exporter": "python",
   "pygments_lexer": "ipython3",
   "version": "3.11.4"
  },
  "varInspector": {
   "cols": {
    "lenName": 16,
    "lenType": 16,
    "lenVar": 40
   },
   "kernels_config": {
    "python": {
     "delete_cmd_postfix": "",
     "delete_cmd_prefix": "del ",
     "library": "var_list.py",
     "varRefreshCmd": "print(var_dic_list())"
    },
    "r": {
     "delete_cmd_postfix": ") ",
     "delete_cmd_prefix": "rm(",
     "library": "var_list.r",
     "varRefreshCmd": "cat(var_dic_list()) "
    }
   },
   "types_to_exclude": [
    "module",
    "function",
    "builtin_function_or_method",
    "instance",
    "_Feature"
   ],
   "window_display": false
  }
 },
 "nbformat": 4,
 "nbformat_minor": 2
}
