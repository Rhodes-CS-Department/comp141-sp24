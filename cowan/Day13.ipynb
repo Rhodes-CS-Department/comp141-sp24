{
 "cells": [
  {
   "cell_type": "markdown",
   "metadata": {},
   "source": [
    "# Day 13: General procedure for writing a while loop"
   ]
  },
  {
   "cell_type": "markdown",
   "metadata": {},
   "source": [
    "## Practice from last time\n",
    "* Write a while loop that does the following:\n",
    "<ol>\n",
    "    <li> asks the user for 2 names </li>\n",
    "    <li> compares the names</li>\n",
    "    <li>outputs the name that comes first alphabetically.  </li>\n",
    "    <li>asks the user if they want to do it again at the end of the loop. </li>\n",
    "    <li>keeps the loop going until the user replies 'no'.</li>\n",
    "</ol>"
   ]
  },
  {
   "cell_type": "code",
   "execution_count": null,
   "metadata": {},
   "outputs": [],
   "source": [
    "def main():\n",
    "    #write your code here\n",
    "    \n",
    "\n",
    "main()"
   ]
  },
  {
   "cell_type": "markdown",
   "metadata": {},
   "source": [
    "## Remember: While Loop General Algorithm\n",
    "\n",
    "```\n",
    "while  some condition is true :\t\n",
    "    # Do this code  \n",
    "\t#Something here should modify the condition above\n",
    "```"
   ]
  },
  {
   "cell_type": "markdown",
   "metadata": {},
   "source": [
    "## Modification as a class\n",
    "* Edit the previous loop so that the loop ends when the user enters \"STOP\" for the first name. That is, the user no longer explicitly has to answer the question, \"Do you want to keep going?\""
   ]
  },
  {
   "cell_type": "code",
   "execution_count": null,
   "metadata": {},
   "outputs": [],
   "source": [
    "#Copy/Paste the code from above, and then we'll modify it \n"
   ]
  },
  {
   "cell_type": "markdown",
   "metadata": {},
   "source": [
    "## Pseudo-code\n",
    "* An informal way of writing algorithms for humans to read (not computers!)\n",
    "* Illustrates the logic of an algorithm, but omits details that people can fill in automatically.\n",
    "* You get to make it up as you go along, as long as you (and other people) can easily understand it. \n",
    "\n",
    "Example: \n",
    "* Instead of saying: `name = input(\"What is your name? \")`, pseudocode might use a line that says `name = ask user for name`\n",
    "* Instead of saying: `if x >= 0 and x <= 100: print(\"$\", format(x,'.2f', sep =\"\")`, pseudocode might say\n",
    "```\n",
    "if x is between 0 and 100:\n",
    "\tprint x with 2 decimal places\n",
    "```\n",
    "* The point is to get your ideas down on paper quickly, so you can worry about the programming details and exact syntax later.\n"
   ]
  },
  {
   "cell_type": "markdown",
   "metadata": {},
   "source": [
    "__To write any while loop:__\n",
    "1. Write out pseudocode for what the loop does, explicitly repeating lines until you've repeated the code at least twice.\n",
    "2. Include an \"if\" statement in your code that will be True if you want the loop to keep going.\n",
    "3. Make sure the code repeats the \"if\" statement at least twice. \n",
    "4. Find the statements between consecutive \"if\" statements. These statements will become the body of the loop.\n",
    "5. The \"if\" test will become the \"while\" test.\n",
    "6. If there's anything before the first \"if\" test, it will go immediately before the while loop (outside of the body). \n"
   ]
  },
  {
   "cell_type": "markdown",
   "metadata": {},
   "source": [
    "__Pseudocode for Name Comparison Program__\n",
    "```\n",
    "name1 = ask for first name\n",
    "if name1 is not STOP, then keep going\n",
    "name2 = ask for second name\n",
    "if name1 < name2, print out name1,\n",
    "else print name2\n",
    "name1 = ask for first name\n",
    "if name1 is not STOP, then keep going\n",
    "name2 = ask for second name\n",
    "if name1 < name 2....blah blah blah\n",
    "```"
   ]
  },
  {
   "cell_type": "code",
   "execution_count": null,
   "metadata": {},
   "outputs": [],
   "source": [
    "def main():\n",
    "    name1 = input(\"What is name1? \")\n",
    "    while name1 != 'STOP':\n",
    "        name2 = input(\"What is name2? \")\n",
    "        if name1 < name2:\n",
    "            print(name1, \"comes first alphabetically.\")\n",
    "        else:\n",
    "            print(name2, \"comes first alphabetically.\")\n",
    "        name1 = input(\"What is name1? \")\n",
    "\n",
    "    print(\"End of loop\")\n",
    "\n",
    "main()"
   ]
  },
  {
   "cell_type": "markdown",
   "metadata": {},
   "source": [
    "## Calling Functions in a Loop\n",
    "* Functions can be called from statements in the body of a loop (Often improves the design)\n",
    "* Example: Write a function to calculate then display the commission for a sales amount (Call the function inside a loop)\n"
   ]
  },
  {
   "cell_type": "code",
   "execution_count": null,
   "metadata": {},
   "outputs": [],
   "source": [
    "# This program calculates sales commission based on user inputs \n",
    "\n",
    "def calculate_commission(sales_amt, commission_rate):\n",
    "    #Calculate the commission\n",
    "    commission = sales_amt * commission_rate\n",
    "    return commission\n",
    "\n",
    "def main():\n",
    "    keep_going = 'y'\n",
    "\n",
    "    #Calculate a series of commissions\n",
    "    while keep_going == 'y':\n",
    "        sales = float(input(\"Enter the amount of sales: \"))\n",
    "        comm_rate = float(input(\"Enter the commission rate: \"))\n",
    "\n",
    "        commission = calculate_commission(sales, comm_rate)\n",
    "\n",
    "        print(\"The commission is $\", format(commission, '.2f'), '.', sep='')\n",
    "\n",
    "        #See if the user wants to do another one.\n",
    "        keep_going = input(\"Do you want to calculate another commission (y for yes)? \")\n",
    "\n",
    "main()"
   ]
  },
  {
   "cell_type": "markdown",
   "metadata": {},
   "source": [
    "## In-class Exercise\n",
    "\n",
    "Let's use the postage function from the lab to write a program that takes as input the weight (in ounces) of a package and calculates the required postage amount to mail it. Allow the user to continue to calculate postage for as long as they’d like."
   ]
  },
  {
   "cell_type": "code",
   "execution_count": null,
   "metadata": {},
   "outputs": [],
   "source": [
    "#This function calculates how much postage will cost, based on weight of mailing\n",
    "#Parameters: ounces - a number representing weight of a piece of mail\n",
    "#Returns: a floating-point number that represents the cost of mailing a letter\n",
    "def postage(ounces):\n",
    "    if ounces <= 0 or ounces > 13:\n",
    "        return 0\n",
    "    else:\n",
    "        cost = .90 + (ounces-1) * .20\n",
    "        return cost\n"
   ]
  },
  {
   "cell_type": "markdown",
   "metadata": {},
   "source": [
    "## You try\n",
    "\n",
    "Write a program below that uses a loop to repeatedly ask the user to type in an integer from the keyboard. Stop the loop when the number is between 1 and 10, inclusive.\n"
   ]
  },
  {
   "cell_type": "code",
   "execution_count": null,
   "metadata": {},
   "outputs": [],
   "source": []
  },
  {
   "attachments": {
    "random.png": {
     "image/png": "[encoded data removed]"
    }
   },
   "cell_type": "markdown",
   "metadata": {},
   "source": [
    "## Generating Random Numbers\n",
    "* Random number are useful in a lot of programming tasks\n",
    "* `random` module: includes library functions for working with random numbers\n",
    "* `randint` function: generates a random number in the range provided by the arguments\n",
    "\n",
    "![random.png](attachment:random.png)"
   ]
  },
  {
   "cell_type": "code",
   "execution_count": null,
   "metadata": {},
   "outputs": [],
   "source": [
    "# Using random numbers Example\n",
    "\n",
    "#This program displays a random number between 1 and 10 (inclusive)\n",
    "import random\n",
    "\n",
    "def main():\n",
    "    #Get a random number\n",
    "    number = random.randint(1, 10)\n",
    "  \n",
    "    #Display the number\n",
    "    print(\"The number is\", number)\n",
    "\n",
    "main()"
   ]
  },
  {
   "cell_type": "markdown",
   "metadata": {},
   "source": [
    "## Practice\n",
    "Using the pseudocode below, write a \"Guess that Number\" game\n",
    "\n",
    "__Pseudocode for Guess the Number Game__\n",
    "```\n",
    "number = generate a random number between 1 and 100\n",
    "guess = ask user to guess a number between 1 and 100\n",
    "if number does not equal guess, then keep going\n",
    "if guess is greater than number, tell user this\n",
    "else if guess is less than number, tell user this\n",
    "guess = ask user to guess a number between 0 and 100\n",
    "if number does not equal guess, then keep going\n",
    "if guess is greater than number, tell user this\n",
    "else if guess is less than number, tell user this\n",
    "guess = ask user to guess a number between 0 and 100\n",
    "if number does not equal guess, then keep going\n",
    "if guess is greater than number, tell user this\n",
    "else if guess is less than number, tell user this\n",
    ". . .\n",
    "When user guesses correct number, tell them so\n",
    "```\n",
    "\n",
    "Here's a Sample Output for the Program:\n",
    "```\n",
    "Guess a number between 1 and 100: 50\n",
    "Your guess was too high.\n",
    "Please try again: 40\n",
    "Your guess was to high.\n",
    "Please try again: 30\n",
    "Your guess was too low.\n",
    "Please try again: 35\n",
    "You guessed correctly! Great work!\n",
    "```\n"
   ]
  },
  {
   "cell_type": "code",
   "execution_count": null,
   "metadata": {},
   "outputs": [],
   "source": [
    "#Guess that Number Game \n",
    "\n",
    "\n"
   ]
  },
  {
   "cell_type": "markdown",
   "metadata": {},
   "source": [
    "## More practice\n",
    "Try these problems:\n",
    "\n",
    "Write a program that asks the user to type in two integers, over and over again. Print the sum of the two integers. Make the loop stop when the second integer is less than zero (and don’t print the sum in this case).\n",
    "\n",
    "a. Change the loop so the sum is printed when the second integer is less than zero.\n",
    "\n",
    "b. Make the loop stop when the sum of the two integers is odd. (try it both with printing the sum and not printing).\n",
    "\n",
    "c. Make the loop stop when the first integer is less than zero (and then don’t ask for the second one)."
   ]
  },
  {
   "cell_type": "code",
   "execution_count": null,
   "metadata": {},
   "outputs": [],
   "source": [
    "#Practice space"
   ]
  },
  {
   "cell_type": "code",
   "execution_count": null,
   "metadata": {},
   "outputs": [],
   "source": [
    "#Practice space"
   ]
  },
  {
   "cell_type": "code",
   "execution_count": null,
   "metadata": {},
   "outputs": [],
   "source": [
    "#Practice space"
   ]
  },
  {
   "cell_type": "markdown",
   "metadata": {},
   "source": [
    "Please do the following:\n",
    "1. Quiz 5 - due tomorrow by 11:59pm\n",
    "2. Assignment 5 - due tomorrow by 11:59pm\n",
    "2. Start working on Project 4 - due by 11:59pm on Feb. 19th\n"
   ]
  },
  {
   "cell_type": "code",
   "execution_count": null,
   "metadata": {},
   "outputs": [],
   "source": []
  }
 ],
 "metadata": {
  "kernelspec": {
   "display_name": "Python 3 (ipykernel)",
   "language": "python",
   "name": "python3"
  },
  "language_info": {
   "codemirror_mode": {
    "name": "ipython",
    "version": 3
   },
   "file_extension": ".py",
   "mimetype": "text/x-python",
   "name": "python",
   "nbconvert_exporter": "python",
   "pygments_lexer": "ipython3",
   "version": "3.11.4"
  },
  "varInspector": {
   "cols": {
    "lenName": 16,
    "lenType": 16,
    "lenVar": 40
   },
   "kernels_config": {
    "python": {
     "delete_cmd_postfix": "",
     "delete_cmd_prefix": "del ",
     "library": "var_list.py",
     "varRefreshCmd": "print(var_dic_list())"
    },
    "r": {
     "delete_cmd_postfix": ") ",
     "delete_cmd_prefix": "rm(",
     "library": "var_list.r",
     "varRefreshCmd": "cat(var_dic_list()) "
    }
   },
   "types_to_exclude": [
    "module",
    "function",
    "builtin_function_or_method",
    "instance",
    "_Feature"
   ],
   "window_display": false
  }
 },
 "nbformat": 4,
 "nbformat_minor": 2
}
