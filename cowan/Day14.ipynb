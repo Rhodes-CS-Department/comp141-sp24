{
 "cells": [
  {
   "cell_type": "markdown",
   "metadata": {},
   "source": [
    "## Warm-up & Practice From Last Time\n",
    "Write a program that asks the user to type in two integers, over and over again. Print the sum of the two integers. Make the loop stop when the second integer is less than zero (and don’t print the sum in this case).\n",
    "\n",
    "a. Change the loop so the sum is printed when the second integer is less than zero.\n",
    "\n",
    "b. Make the loop stop when the sum of the two integers is odd. (try it both with printing the sum and not printing).\n",
    "\n",
    "c. Make the loop stop when the first integer is less than zero (and then don’t ask for the second one)."
   ]
  },
  {
   "cell_type": "code",
   "execution_count": null,
   "metadata": {},
   "outputs": [],
   "source": [
    "#Asks the user to type in two integers, over and over and prints the sum of the two integers.\n"
   ]
  },
  {
   "cell_type": "code",
   "execution_count": null,
   "metadata": {},
   "outputs": [],
   "source": [
    "#Change the loop so the sum is printed when the second integer is less than zero.\n"
   ]
  },
  {
   "cell_type": "code",
   "execution_count": null,
   "metadata": {},
   "outputs": [],
   "source": [
    "#Make the loop stop when the sum of the two integers is odd.\n"
   ]
  },
  {
   "cell_type": "code",
   "execution_count": null,
   "metadata": {},
   "outputs": [],
   "source": [
    "#Make the loop stop when the first integer is less than zero (and then don’t ask for the second one).\n",
    "\n"
   ]
  },
  {
   "cell_type": "markdown",
   "metadata": {},
   "source": [
    "## Practice from last time\n",
    "Using the pseudocode below, write a \"Guess that Number\" game\n",
    "\n",
    "__Pseudocode for Guess the Number Game__\n",
    "```\n",
    "number = generate a random number between 1 and 100\n",
    "guess = ask user to guess a number between 1 and 100\n",
    "if number does not equal guess, then keep going\n",
    "if guess is greater than number, tell user this\n",
    "else if guess is less than number, tell user this\n",
    "guess = ask user to guess a number between 0 and 100\n",
    "if number does not equal guess, then keep going\n",
    "if guess is greater than number, tell user this\n",
    "else if guess is less than number, tell user this\n",
    "guess = ask user to guess a number between 0 and 100\n",
    "if number does not equal guess, then keep going\n",
    "if guess is greater than number, tell user this\n",
    "else if guess is less than number, tell user this\n",
    ". . .\n",
    "When user guesses correct number, tell them so\n",
    "```\n",
    "\n",
    "Here's a Sample Output for the Program:\n",
    "```\n",
    "Guess a number between 1 and 100: 50\n",
    "Your guess was too high.\n",
    "Please try again: 40\n",
    "Your guess was to high.\n",
    "Please try again: 30\n",
    "Your guess was too low.\n",
    "Please try again: 35\n",
    "You guessed correctly! Great work!\n",
    "```\n"
   ]
  },
  {
   "cell_type": "code",
   "execution_count": null,
   "metadata": {},
   "outputs": [],
   "source": [
    "#Guess the Number Game \n",
    "\n"
   ]
  },
  {
   "cell_type": "code",
   "execution_count": null,
   "metadata": {},
   "outputs": [],
   "source": [
    "#Quiz 5, Question 1\n",
    "def main():\n",
    "    x = 3\n",
    "    y = 0\n",
    "    while x < 9:\n",
    "        y += x\n",
    "        x += 2        \n",
    "    print(x, y)\n",
    "main()"
   ]
  },
  {
   "cell_type": "code",
   "execution_count": null,
   "metadata": {},
   "outputs": [],
   "source": [
    "#Quiz 5, Question 2\n",
    "counter = 1\n",
    "while counter < 11:\n",
    "    counter += 1\n",
    "print(counter)"
   ]
  },
  {
   "cell_type": "code",
   "execution_count": null,
   "metadata": {},
   "outputs": [],
   "source": [
    "#Quiz 5, Question 3\n",
    "output = \"\"\n",
    "x = -5\n",
    "while x < 0:\n",
    "    x = x + 1\n",
    "    output = output + str(x) + \" \"\n",
    "print(output)"
   ]
  },
  {
   "cell_type": "code",
   "execution_count": null,
   "metadata": {},
   "outputs": [],
   "source": [
    "#Quiz 5, Question 4\n",
    "cat = 0\n",
    "while cat > 5:\n",
    "    cat = cat + 1\n",
    "    print(cat, end=\"\")\n",
    "print(\"Meow\")"
   ]
  },
  {
   "cell_type": "code",
   "execution_count": null,
   "metadata": {},
   "outputs": [],
   "source": [
    "#Quiz 5, Question 5\n",
    "apples = 1\n",
    "bananas = 4\n",
    "count = 0\n",
    "while apples < bananas:\n",
    "    apples = apples * 2\n",
    "    bananas = bananas + 2\n",
    "    count += 1\n",
    "print(count)"
   ]
  },
  {
   "cell_type": "markdown",
   "metadata": {},
   "source": [
    "# Day 14: Loops that Count"
   ]
  },
  {
   "cell_type": "markdown",
   "metadata": {},
   "source": [
    "A common type of loop is one that is controlled by an integer that counts up from a initial value to an upper limit. Such a loop is called a __counting loop__. The integer is called a **loop control variable**. \n",
    "\n",
    "For example, we could have a computer count up from 1 to 10. We will use a counter variable that we will increment inside the loop. Increment means increase the value by one. Note that  the loop continues as long as the counter is less than or equal to the desired last value."
   ]
  },
  {
   "cell_type": "code",
   "execution_count": null,
   "metadata": {},
   "outputs": [],
   "source": [
    "cnt = 1\n",
    "while cnt <= 10:\n",
    "    print(cnt)\n",
    "    cnt = cnt + 1"
   ]
  },
  {
   "cell_type": "code",
   "execution_count": null,
   "metadata": {},
   "outputs": [],
   "source": [
    "#This loop counts by 2s instead, from 2 up to and including 100\n",
    "cnt = 2\n",
    "while cnt <= 100:\n",
    "    print(cnt)\n",
    "    cnt = cnt + 2 #cnt += 2"
   ]
  },
  {
   "cell_type": "code",
   "execution_count": null,
   "metadata": {},
   "outputs": [],
   "source": [
    "# What's the output of this loop?\n",
    "cnt = 2\n",
    "while cnt <= 100:\n",
    "    print(cnt)\n",
    "    cnt = cnt * 2"
   ]
  },
  {
   "cell_type": "markdown",
   "metadata": {},
   "source": [
    "### Practice\n",
    "For each of the following cells, follow the instructions in the cell and write a loop that does as specifies.\n",
    "\n",
    "You don't need to write any functions or main() for these, just the loop code is fine."
   ]
  },
  {
   "cell_type": "code",
   "execution_count": null,
   "metadata": {},
   "outputs": [],
   "source": [
    "# Write a loop to print the multiples of 3 (between 3 and 60, inclusive).\n"
   ]
  },
  {
   "cell_type": "code",
   "execution_count": null,
   "metadata": {},
   "outputs": [],
   "source": [
    "# Write a loop to print the multiples of 5 (between 5 and 60, inclusive).\n"
   ]
  },
  {
   "cell_type": "code",
   "execution_count": null,
   "metadata": {},
   "outputs": [],
   "source": [
    "# Write a loop to print the multiples of 3 and/or 5 (between 3 and 60, inclusive).\n",
    "# (This should be one single increasing list of numbers.)\n",
    "# Hint: a value is a multiple of 3 if value % 3 == 0:\n"
   ]
  },
  {
   "cell_type": "code",
   "execution_count": null,
   "metadata": {},
   "outputs": [],
   "source": [
    "#  Write a loop to print the numbers from 1 to 30, each labeled with the word\n",
    "# \"even\" or \"odd\" depending on the number.\n"
   ]
  },
  {
   "cell_type": "code",
   "execution_count": null,
   "metadata": {},
   "outputs": [],
   "source": [
    "# Write a loop to print the numbers from 1 to 30, each labeled with whether the number is \n",
    "# divisible by 3, by 5, by both 3 and 5, or neither 3 nor 5.\n"
   ]
  },
  {
   "cell_type": "markdown",
   "metadata": {},
   "source": [
    "## Accumulating a String\n",
    "In addition to accumlating number values inside a loop, you can also accumulate a string using string concatenation.  One way to do this is to initialize an empty string and then accumulate the value inside the loop.\n",
    "\n",
    "` s = ''`\n",
    "\n",
    "` s = s + '*'  #the order of the additions here matters sometimes`\n",
    "\n",
    "### Practice\n",
    "Now you try.   Create a snippet of code that asks the user for the length of a fence.  The posts will be the '|' character and the beams will be the '-' character.   When the user gives the value 5, the fence that will be printed will look like:  '|-|-|-|-|-|'  (it has 6 posts and 5 beams).   For this problem, I want you to use a loop to solve it.  There is a shorter way to do it."
   ]
  },
  {
   "cell_type": "code",
   "execution_count": null,
   "metadata": {},
   "outputs": [],
   "source": [
    "def main():\n",
    "    x = int(input(\"Length of fence: \"))\n",
    "    #ADD the rest of your code here\n",
    "\n",
    "main()\n",
    "  "
   ]
  },
  {
   "cell_type": "markdown",
   "metadata": {},
   "source": [
    "## Greatest Common Divisor\n",
    "\n",
    "Finding the greatest common divisor of 2 numbers is a common problem that mathematicians need to solve. It is especially useful for reducing fractions to be in lowest terms. \n",
    "\n",
    "The greatest common divisor (gcd) of two or more integers, which are not all zero, is the largest positive integer that divides each of the integers. For example, the gcd of 8 and 12 is 4.\n",
    "\n",
    "### Practice \n",
    "Write code to find the gcd of any 2 numbers.\n",
    "\n",
    "1. Start by writing a loop that prints all divisors of 30. Your code should print out the following: 1, 2, 3, 5, 6, 10, 15, 30\n",
    "2. Next, modify this loop to print out all common divisors of 30 AND 50. Your code should print out 1, 2, 5, 10\n",
    "3. Now let the user select any 2 integers and print out the common divisors of these 2 integers.\n",
    "4. Finally, modify your code so it only prints out the largest of the common divisors of these 2 numbers."
   ]
  },
  {
   "cell_type": "code",
   "execution_count": null,
   "metadata": {},
   "outputs": [],
   "source": []
  },
  {
   "cell_type": "markdown",
   "metadata": {},
   "source": [
    "### More Practice\n",
    "If you're done early with the GCD problem above, please try the following.\n",
    "\n",
    "### Simulating Flipping Coins\n",
    "* Simulate a coin flip by randomly selecting between 0 (heads) and 1 (tails).\n",
    "* After you get that working, write a program that counts the number of times it takes to get 3 consecutive heads.\n",
    "* Hints:\n",
    "    * What is the condition of the while?\n",
    "    * A variable needs to initialized before the while and updated inside the while loop. What sort of information should this variable store?\n",
    "    * When a person gets tails what happens to the total count of heads?\n",
    "    * When a person gets heads what happens to the total count of heads?"
   ]
  },
  {
   "cell_type": "code",
   "execution_count": null,
   "metadata": {},
   "outputs": [],
   "source": [
    "import random\n",
    "\n",
    "#global constants to use in your program\n",
    "HEADS = 0\n",
    "TAILS = 1\n"
   ]
  },
  {
   "cell_type": "markdown",
   "metadata": {},
   "source": [
    "Please do the following:\n",
    "1. Keep working Project 4 (due Monday by 11:59pm)"
   ]
  },
  {
   "cell_type": "code",
   "execution_count": null,
   "metadata": {},
   "outputs": [],
   "source": []
  },
  {
   "cell_type": "code",
   "execution_count": null,
   "metadata": {},
   "outputs": [],
   "source": [
    "# Write a program that asks the user to type in two integers, over and over again. \n",
    "#Print the sum of the two integers. Make the loop stop when the second integer is \n",
    "# less than zero (and don’t print the sum in this case).\n",
    "\n",
    "num1 = int(input(\"Integer 1: \"))\n",
    "num2 = int(input(\"Integer 2: \"))\n",
    "while num2 >= 0:\n",
    "    print(\"Sum is:\", num1 + num2)\n",
    "    num1 = int(input(\"Integer 1: \"))\n",
    "    num2 = int(input(\"Integer 2: \"))"
   ]
  },
  {
   "cell_type": "code",
   "execution_count": null,
   "metadata": {},
   "outputs": [],
   "source": [
    "#Change the loop so the sum is printed when the second integer is less than zero.\n",
    "num2 = 0\n",
    "while num2 >= 0:\n",
    "    num1 = int(input(\"Integer 1: \"))\n",
    "    num2 = int(input(\"Integer 2: \"))\n",
    "    print(\"Sum is:\", num1 + num2)"
   ]
  },
  {
   "cell_type": "code",
   "execution_count": null,
   "metadata": {},
   "outputs": [],
   "source": [
    "#Make the loop stop when the sum of the two integers is odd. (with printing the sum).\n",
    "num1 = 0\n",
    "num2 = 0\n",
    "while (num1 + num2) % 2 == 0:\n",
    "    num1 = int(input(\"Integer 1: \"))\n",
    "    num2 = int(input(\"Integer 2: \"))\n",
    "    print(\"Sum is:\", num1 + num2)"
   ]
  }
 ],
 "metadata": {
  "kernelspec": {
   "display_name": "Python 3 (ipykernel)",
   "language": "python",
   "name": "python3"
  },
  "language_info": {
   "codemirror_mode": {
    "name": "ipython",
    "version": 3
   },
   "file_extension": ".py",
   "mimetype": "text/x-python",
   "name": "python",
   "nbconvert_exporter": "python",
   "pygments_lexer": "ipython3",
   "version": "3.11.4"
  },
  "varInspector": {
   "cols": {
    "lenName": 16,
    "lenType": 16,
    "lenVar": 40
   },
   "kernels_config": {
    "python": {
     "delete_cmd_postfix": "",
     "delete_cmd_prefix": "del ",
     "library": "var_list.py",
     "varRefreshCmd": "print(var_dic_list())"
    },
    "r": {
     "delete_cmd_postfix": ") ",
     "delete_cmd_prefix": "rm(",
     "library": "var_list.r",
     "varRefreshCmd": "cat(var_dic_list()) "
    }
   },
   "types_to_exclude": [
    "module",
    "function",
    "builtin_function_or_method",
    "instance",
    "_Feature"
   ],
   "window_display": false
  }
 },
 "nbformat": 4,
 "nbformat_minor": 2
}
