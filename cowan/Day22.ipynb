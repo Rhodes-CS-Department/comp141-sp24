{
 "cells": [
  {
   "cell_type": "markdown",
   "metadata": {},
   "source": [
    "## Practice 1 from Last Time\n",
    "Using two for loops, a variable with value \"She loves you,\" and another variable with value\n",
    "\"yeah\", print out the Beatles lyrics:\n",
    "\n",
    "```\n",
    "She loves you, yeah, yeah, yeah \n",
    "She loves you, yeah, yeah, yeah \n",
    "She loves you, yeah, yeah, yeah\n",
    "Yea-aahh\n",
    "```"
   ]
  },
  {
   "cell_type": "code",
   "execution_count": null,
   "metadata": {},
   "outputs": [],
   "source": [
    "def main():\n",
    "    loves = \"She loves you\"\n",
    "    #To get the commas right, you can do the following, instead of just using \"yeah\"\n",
    "    yeah = \", yeah\"\n",
    "  \n",
    "    for i in range(3):\n",
    "        print(loves, end=\"\")\n",
    "        for j in range(3):\n",
    "            print(yeah, end=\"\")\n",
    "        print()\n",
    "    print(\"Yea-aahh\")\n",
    "    \n",
    "main()"
   ]
  },
  {
   "cell_type": "markdown",
   "metadata": {},
   "source": [
    "## Practice 2 from Last Time\n",
    "\n",
    "Write a program that displays the multiplication tables from 0 to 12. Example output:\n",
    "\n",
    "\n",
    "```\n",
    " x |   0 |   1 |   2 |   3 |   4 |   5 |   6 |   7 |   8 |   9 |  10 |  11 |  12 |\n",
    "----------------------------------------------------------------------------------\n",
    " 0 |   0 |   0 |   0 |   0 |   0 |   0 |   0 |   0 |   0 |   0 |   0 |   0 |   0 |\n",
    " 1 |   0 |   1 |   2 |   3 |   4 |   5 |   6 |   7 |   8 |   9 |  10 |  11 |  12 |\n",
    " 2 |   0 |   2 |   4 |   6 |   8 |  10 |  12 |  14 |  16 |  18 |  20 |  22 |  24 |\n",
    " 3 |   0 |   3 |   6 |   9 |  12 |  15 |  18 |  21 |  24 |  27 |  30 |  33 |  36 |\n",
    " 4 |   0 |   4 |   8 |  12 |  16 |  20 |  24 |  28 |  32 |  36 |  40 |  44 |  48 |\n",
    " 5 |   0 |   5 |  10 |  15 |  20 |  25 |  30 |  35 |  40 |  45 |  50 |  55 |  60 |\n",
    " 6 |   0 |   6 |  12 |  18 |  24 |  30 |  36 |  42 |  48 |  54 |  60 |  66 |  72 |\n",
    " 7 |   0 |   7 |  14 |  21 |  28 |  35 |  42 |  49 |  56 |  63 |  70 |  77 |  84 |\n",
    " 8 |   0 |   8 |  16 |  24 |  32 |  40 |  48 |  56 |  64 |  72 |  80 |  88 |  96 |\n",
    " 9 |   0 |   9 |  18 |  27 |  36 |  45 |  54 |  63 |  72 |  81 |  90 |  99 | 108 |\n",
    "10 |   0 |  10 |  20 |  30 |  40 |  50 |  60 |  70 |  80 |  90 | 100 | 110 | 120 |\n",
    "11 |   0 |  11 |  22 |  33 |  44 |  55 |  66 |  77 |  88 |  99 | 110 | 121 | 132 |\n",
    "12 |   0 |  12 |  24 |  36 |  48 |  60 |  72 |  84 |  96 | 108 | 120 | 132 | 144 |\n",
    "```"
   ]
  },
  {
   "cell_type": "code",
   "execution_count": null,
   "metadata": {},
   "outputs": [],
   "source": [
    "#Print the first 2 lines before the loop (headers are often printed before the loop)\n",
    "print(\"   x |   0 |   1 |   2 |   3 |   4 |   5 |   6 |   7 |   8 |   9 |  10 |  11 |  12 |\")\n",
    "print(\"------------------------------------------------------------------------------------\")\n",
    "for i in range(0, 13):\n",
    "    print(format(i, '4d'), end=' | ')\n",
    "    for j in range(0, 13):\n",
    "        print(format(i*j, '3d'), end=' | ')\n",
    "    print()\n",
    "    \n",
    "    \n",
    "'''\n",
    "print (\" x   |\", end=\"\")\n",
    "for i in range(0,13):\n",
    "    print(format(i, '^4d'),\"|\", end=\"\")\n",
    "print()\n",
    "for i in range(0,12):\n",
    "    print(\"-------\", end=\"\")\n",
    "print()\n",
    "for i in range (0,13):\n",
    "    print(format(i, \"^4d\"), \"|\" , end=\"\")\n",
    "    for j in range (0,13):\n",
    "        print(format(i*j, \"^4d\"), \"|\", end=\"\")\n",
    "    print()\n",
    "'''"
   ]
  },
  {
   "cell_type": "markdown",
   "metadata": {},
   "source": [
    "## LAB 05 Solutions"
   ]
  },
  {
   "cell_type": "code",
   "execution_count": null,
   "metadata": {},
   "outputs": [],
   "source": [
    "#Lab 05 - Exercise 2\n",
    "\n",
    "def lower_right(size):\n",
    "    for i in range(size-1, -1,-1):\n",
    "        print(\" \"* i, end=\"\")\n",
    "        for j in range(1,size+1 -i):\n",
    "            print(j, end=\"\")\n",
    "        print()\n",
    "        \n",
    "lower_right(6)"
   ]
  },
  {
   "cell_type": "code",
   "execution_count": null,
   "metadata": {},
   "outputs": [],
   "source": [
    "#Lab 05 - Exercise 3\n",
    "\n",
    "def upper_right(size):\n",
    "    for i in range (size):\n",
    "        print(\" \"*i, end=\"\")\n",
    "        for j in range(1, size-i+1):\n",
    "            print(j, end=\"\")\n",
    "        print()\n",
    "    \n",
    "\n",
    "    \n",
    "#Another solution\n",
    "\n",
    "'''\n",
    "#Lab 5 upper_right\n",
    "def upper_right(size):\n",
    "    for i in range (size, 0, -1):\n",
    "        for k in range(size-i):\n",
    "            print(' ', end='')\n",
    "        for j in range (1, i+1):\n",
    "            print(j, end = \"\")\n",
    "        print()'''\n",
    "    \n",
    "upper_right(6)"
   ]
  },
  {
   "cell_type": "code",
   "execution_count": null,
   "metadata": {},
   "outputs": [],
   "source": [
    "from cs1.graphics import *\n",
    "#Lab 5 - draw circles with nested loop\n",
    "def main():  \n",
    "    open_canvas(400, 400)\n",
    "    set_color(\"black\")\n",
    "    for i in range(10):\n",
    "        for j in range(10):\n",
    "            draw_circle(20 + j * 40, 20 + i*40, 10)\n",
    "\n",
    "main()"
   ]
  },
  {
   "cell_type": "code",
   "execution_count": null,
   "metadata": {},
   "outputs": [],
   "source": [
    "#Lab 5 - is_prime function\n",
    "\n",
    "def is_prime(num):\n",
    "    prime = True\n",
    "    for i in range(2, num):\n",
    "        if num % i == 0:\n",
    "            prime = False\n",
    "            break\n",
    "    return prime\n",
    "\n",
    "print(\"Is 12 prime? \", is_prime(12))\n",
    "print(\"Is 5 prime? \", is_prime(5))"
   ]
  },
  {
   "cell_type": "code",
   "execution_count": null,
   "metadata": {},
   "outputs": [],
   "source": [
    "#Lab 5 - print all prime numbers less than 100\n",
    "\n",
    "def main():\n",
    "    for x in range(2, 100):\n",
    "        if is_prime(x):\n",
    "            print(x, \"is prime\")\n",
    "        \n",
    "main()"
   ]
  },
  {
   "cell_type": "code",
   "execution_count": null,
   "metadata": {},
   "outputs": [],
   "source": [
    "#Lab 5 - print first 50 prime numbers - we'll do this together in class\n",
    "        "
   ]
  },
  {
   "cell_type": "markdown",
   "metadata": {},
   "source": [
    "# Day 22: File Reading and Writing\n",
    "\n"
   ]
  },
  {
   "cell_type": "markdown",
   "metadata": {},
   "source": [
    "## Writing to a File\n",
    "* For a program to retain data between the times it is run, you must save the data\n",
    "* Data is saved to a file, typically on computer disk\n",
    "* Saved data can be retrieved and used at a later time\n",
    "* __\"Writing data to\"__: saving data on a file\n",
    "* __Output file__: a file that data is written to\n",
    "\n",
    "## Reading From a File\n",
    "* An easy way to get data into your program is to read it in from a file.\n",
    "* For program's that require lots of data, this is much more efficient than having someone manually enter the data\n",
    "* __Reading data from__: process of retrieving data from a file\n",
    "* __Input file__: a file from which data is read\n",
    "\n",
    "\n",
    "## Types of Files and File Access Methods\n",
    "There are two main types of files\n",
    "* Text file: contains data that has been encoded as text (human readable)\n",
    "* Binary file: contains data that has not been converted to text\n",
    "\n",
    "There are two ways to access data stored in a file\n",
    "* Sequential access: file read sequentially from beginning to end, can’t skip ahead\n",
    "* Direct access: can jump directly to any piece of data in the file\n",
    "\n",
    "In this class, we will only use text files, and access them sequentially.\n",
    "\n",
    "\n",
    "__Filename extensions__: short sequences of characters that appear at the end of a filename preceded by a period\n",
    "* Extension indicates type of data stored in the file\n",
    "* Examples: .py, .docx, .xlsx, .pdf, .txt\n",
    "\n",
    "## File Objects: object associated with a specific file\n",
    "* Provides a way for a program to work with the file: file object referenced by a variable\n",
    "\n",
    "To create a file object, you use the built-in `open` function, which is used to open a file\n",
    "* Creates a file object and associates it with a file on the disk\n",
    "* General format: `file_object = open(filename, mode)`\n",
    "* __Mode__: string specifying how the file will be opened\n",
    "* Example: reading only (r'), writing ('w'), and appending ('a')\n",
    "\n",
    "__Write vs. Append Mode__\n",
    "* __Write__ Mode ('w'): if the file already exists it is overwritten (previous contents are lost forever)\n",
    "* __Append__ Mode ('a'): if file exists, new data is written to the file at the end of the current contents. If the file does not exist, it is created.\n",
    "\n",
    "\n",
    "\n",
    "\n",
    "__Specifying the Location of a File__\n",
    "\n",
    "* If `open` function receives a filename that does not contain a path, assumes that file is in same directory as program\n",
    "* If program is running and file is created, it is created in the same directory as the program\n",
    "* Can specify alternative path and file name in the `open` function argument\n",
    "* You can assume that all files are in the same directory as your python code.\n",
    "\n",
    "\n",
    "__File Object Methods__ (functions that belong to an object)\n",
    "* `write`: used to write data to a file (assumes file is opened in write/append mode)\n",
    "* Format: `file_object.write(string)`\n",
    "\n",
    "* `close`: need to close the file when you are done writing to it/reading from it\n",
    "* Format: `file_object.close()`\n",
    "\n",
    "* `read`: reads entire file contents into memory and returns it as a string (assumes file is opened in read mode)\n",
    "* Format: `contents = file_object.read()`\n",
    "\n",
    "* `readline`: reads a single line from the file and returns it as a string (assumes file is opened in read mode)\n",
    "* Format: `line = file_object.readline()`\n",
    "\n",
    "* __Read position__: marks the location of the next item to be read from a file. Every time you call the readline method, the next line of the file will be read. (Never reads the same line twice).\n",
    "\n",
    "\n"
   ]
  },
  {
   "cell_type": "markdown",
   "metadata": {},
   "source": [
    " "
   ]
  },
  {
   "cell_type": "code",
   "execution_count": null,
   "metadata": {},
   "outputs": [],
   "source": [
    "# Writing to a file code example\n",
    "\n",
    "#This program writes three lines of data to a file\n",
    "\n",
    "def main():\n",
    "    # Opens a file called philosophers.txt for writing, and creates a file object called outfile\n",
    "    outfile = open(\"philosophers.txt\", 'w')\n",
    "  \n",
    "    #Writes the names of three philosophers to the file\n",
    "    outfile.write(\"John Locke\\n\")\n",
    "    outfile.write(\"David Hume\\n\")\n",
    "    outfile.write(\"Edmund Burke\\n\")\n",
    "  \n",
    "    #Close the file when you're done processing it\n",
    "    outfile.close()\n",
    "\n",
    "main()\n",
    "\n",
    "#When you run this code, it will look like \"nothing happened\"\n",
    "#However, if you go to your notebook homepage, you will now see a file called philosophers.txt that was not there previously"
   ]
  },
  {
   "cell_type": "code",
   "execution_count": null,
   "metadata": {},
   "outputs": [],
   "source": [
    "# Reading data from a file using the read function example\n",
    "\n",
    "#Be sure to run the cell above first to create the philosophers.txt file!\n",
    "\n",
    "#This program reads and displays the contents of the philosophers.txt file\n",
    "\n",
    "def main():\n",
    "    # Opens a file called philosophers.txt for reading - file must already exist\n",
    "    infile = open(\"philosophers.txt\", 'r')\n",
    "  \n",
    "    #Read the file's contents\n",
    "    contents = infile.read()\n",
    "  \n",
    "    #Close the file when you're done processing it\n",
    "    infile.close()\n",
    "  \n",
    "    #Print the data that was read into memory\n",
    "    print(contents)\n",
    "\n",
    "main()"
   ]
  },
  {
   "cell_type": "code",
   "execution_count": null,
   "metadata": {},
   "outputs": [],
   "source": [
    "# Reading data from a file using the readline function example\n",
    "\n",
    "#This program reads the contents of the philosophers.txt file one line at a time\n",
    "\n",
    "def main():\n",
    "    # Opens a file called philosophers.txt for reading - file must already exist\n",
    "    infile = open(\"philosophers.txt\", 'r')\n",
    "  \n",
    "    #Reads three lines from the file\n",
    "    line1 = infile.readline()\n",
    "    line2 = infile.readline()\n",
    "    line3 = infile.readline()\n",
    "  \n",
    "    #Close the file when you're done processing it\n",
    "    infile.close()\n",
    "  \n",
    "    #Print the data that was read into memory\n",
    "    print(line1)\n",
    "    print(line2)\n",
    "    print(line3)\n",
    "\n",
    "main()"
   ]
  },
  {
   "cell_type": "markdown",
   "metadata": {},
   "source": [
    "## Concatenating a Newline to and Stripping it From a String\n",
    "When writing to a file, you need to be sure to include any newline characters you'd like to be in the file\n",
    "* In most cases, data items written to a file are values referenced by variables\n",
    "* Usually necessary to concatenate a ‘\\n’ to data before writing it (use the + operator in the write method argument)\n",
    "* Example: `file_object.write(a + '\\n')` #assuming that a is a string variable\n",
    "\n",
    "When reading from a file, you need to deal with the newline characters at the end of each line\n",
    "* In many cases need to remove `\\n` from string after it is read from a file\n",
    "* `rstrip` method: string method that strips specific characters from end of the string\n",
    "* Example: `line = line.rstrip()`"
   ]
  },
  {
   "cell_type": "code",
   "execution_count": null,
   "metadata": {},
   "outputs": [],
   "source": [
    "# Fixing our example from above by stripping off newline characters\n",
    "#This program reads the contents of the philosophers.txt file one line at a time\n",
    "\n",
    "def main():\n",
    "    #Opens a file called philosophers.txt for reading - file must already exist\n",
    "    infile = open(\"philosophers.txt\", 'r')\n",
    "  \n",
    "    #Reads three lines from the file\n",
    "    line1 = infile.readline()\n",
    "    line2 = infile.readline()\n",
    "    line3 = infile.readline()\n",
    "  \n",
    "    #Strips any whitespace characters off the end of the string ('\\n' is a whitespace character)\n",
    "    line1 = line1.rstrip()\n",
    "    line2 = line2.rstrip()\n",
    "    line3 = line3.rstrip()\n",
    "  \n",
    "    #Close the file when you're done processing it\n",
    "    infile.close()\n",
    "  \n",
    "    #Print the data that was read into memory\n",
    "    print(line1)\n",
    "    print(line2)\n",
    "    print(line3)\n",
    "\n",
    "main()"
   ]
  },
  {
   "cell_type": "markdown",
   "metadata": {},
   "source": [
    "## Writing and Reading Numeric Data\n",
    "* Numbers must be converted to strings before they are written to a file\n",
    "* `str` function: converts value to string\n",
    "* Number are read from a text file as strings\n",
    "* Must be converted to numeric type in order to perform mathematical operations\n",
    "* Use `int` and `float` functions to convert string to numeric value\n"
   ]
  },
  {
   "cell_type": "code",
   "execution_count": null,
   "metadata": {},
   "outputs": [],
   "source": [
    "#Writing numbers to a file example\n",
    "#This program demonstrates how numbers must be converted to strings before they are written to a text file\n",
    "\n",
    "def main():\n",
    "    #open a file for writing\n",
    "    outfile = open(\"numbers.txt\", 'w')\n",
    "  \n",
    "    #Get three numbers from the user\n",
    "    num1 = int(input(\"Enter a number: \"))\n",
    "    num2 = int(input(\"Enter another number: \"))\n",
    "    num3 = int(input(\"Enter another number: \"))\n",
    "  \n",
    "    #Write the numbers to the file\n",
    "    outfile.write(str(num1) + '\\n')\n",
    "    outfile.write(str(num2) + '\\n')\n",
    "    outfile.write(str(num3) + '\\n')\n",
    "  \n",
    "    #Close the file\n",
    "    outfile.close()\n",
    "    print(\"Data written to numbers.txt.\")\n",
    "\n",
    "main()"
   ]
  },
  {
   "cell_type": "code",
   "execution_count": null,
   "metadata": {},
   "outputs": [],
   "source": [
    "# Reading numbers from a file example\n",
    "\n",
    "#This program demonstrates how numbers that are read from a file must be converted\n",
    "#from strings into ints or floats before they are used in a math operation.\n",
    "\n",
    "def main():\n",
    "    #open a file for reading\n",
    "    infile = open(\"numbers.txt\", 'r')\n",
    "  \n",
    "    #Read three numbers from the file\n",
    "    num1 = int(infile.readline())\n",
    "    num2 = int(infile.readline())\n",
    "    num3 = int(infile.readline())\n",
    "  \n",
    "    #Close the file\n",
    "    infile.close()\n",
    " \n",
    "    #Add the three numbers\n",
    "    total = num1 + num2 + num3\n",
    "  \n",
    "    #Display the numbers and their total\n",
    "    print(\"The numbers are:\", num1, num2, num3)\n",
    "    print(\"Their total is:\", total)\n",
    "\n",
    "main()"
   ]
  },
  {
   "cell_type": "markdown",
   "metadata": {},
   "source": [
    "## Practice\n",
    "* Write a program that writes a series of random numbers to a file. \n",
    "* Each random number should be in the range of 1 through 100. \n",
    "* Write at least 5 random numbers to the file – 1 number/line.\n",
    "* Call your output file __randomNums.txt__\n"
   ]
  },
  {
   "cell_type": "code",
   "execution_count": null,
   "metadata": {},
   "outputs": [],
   "source": [
    "import random\n"
   ]
  },
  {
   "cell_type": "markdown",
   "metadata": {},
   "source": [
    "Please do the following:\n",
    "1. Take Quiz 6 by 11:59pm tomorrow, March, 5th.\n",
    "2. Finish the lab, if you're not done.\n",
    "3. Keep working on Project 5 - due by 11:59pm on Thursday (3/7)"
   ]
  },
  {
   "cell_type": "code",
   "execution_count": null,
   "metadata": {},
   "outputs": [],
   "source": []
  }
 ],
 "metadata": {
  "kernelspec": {
   "display_name": "Python 3 (ipykernel)",
   "language": "python",
   "name": "python3"
  },
  "language_info": {
   "codemirror_mode": {
    "name": "ipython",
    "version": 3
   },
   "file_extension": ".py",
   "mimetype": "text/x-python",
   "name": "python",
   "nbconvert_exporter": "python",
   "pygments_lexer": "ipython3",
   "version": "3.11.4"
  },
  "varInspector": {
   "cols": {
    "lenName": 16,
    "lenType": 16,
    "lenVar": 40
   },
   "kernels_config": {
    "python": {
     "delete_cmd_postfix": "",
     "delete_cmd_prefix": "del ",
     "library": "var_list.py",
     "varRefreshCmd": "print(var_dic_list())"
    },
    "r": {
     "delete_cmd_postfix": ") ",
     "delete_cmd_prefix": "rm(",
     "library": "var_list.r",
     "varRefreshCmd": "cat(var_dic_list()) "
    }
   },
   "types_to_exclude": [
    "module",
    "function",
    "builtin_function_or_method",
    "instance",
    "_Feature"
   ],
   "window_display": false
  }
 },
 "nbformat": 4,
 "nbformat_minor": 2
}
