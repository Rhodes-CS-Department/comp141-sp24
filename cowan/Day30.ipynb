{
 "cells": [
  {
   "cell_type": "markdown",
   "metadata": {},
   "source": [
    "# Day 30: Midterm 2 Review\n",
    "\n",
    "__Your test is on Wednesday!__\n"
   ]
  },
  {
   "cell_type": "markdown",
   "metadata": {},
   "source": [
    "## Practice from Last Time\n",
    "The following program has the main function written for you and stubs for 2 other functions that you will need to write.\n",
    "* `findAverage(numbers)` – will return the average of all the numbers in the list\n",
    "* `countNumbers(numbers, average)` - will return 2 values; it counts the number of above average and below average numbers in a list"
   ]
  },
  {
   "cell_type": "code",
   "execution_count": null,
   "metadata": {},
   "outputs": [],
   "source": [
    "#Fill in the code for the following 2 functions, findAverage and countNumbers\n",
    "\n",
    "#This function finds the average of a list of numbers\n",
    "#Parameters: numbers, a list of integers\n",
    "#Returns: average, a floating point number \n",
    "def findAverage(numbers):\n",
    "    pass\n",
    "    \n",
    "    return average\n",
    "\n",
    "#This function counts the number of above average and below average numbers in a list\n",
    "#Parameters: numbers, a list of integers; average, the average of the values in the list\n",
    "#Returns: numBelow, the # of values below average; numAbove, the number of values above average\n",
    "def countNumbers(numbers, average):\n",
    "    pass\n",
    "            \n",
    "    return numBelow, numAbove  #note we can return two items!\n",
    "\n",
    "def main():\n",
    "    numList = [62, 57, 35, 27, 45, 44, 46, 68, 86, 27, 88, 33,\n",
    "               11, 61, 64, 45, 56, 9, 33, 32, 56, 63, 24, 26,\n",
    "               100, 95, 62, 10, 87, 58, 69, 54, 75, 41, 22, 93,\n",
    "               82, 16, 92, 49, 6, 71, 85, 59, 56, 22, 3, 50, 1,\n",
    "               20, 54, 18, 27, 78, 17, 7, 41, 83, 92, 38, 5, 64,\n",
    "               60, 92, 15, 26, 57, 39, 80, 41, 67, 56, 24, 77,\n",
    "               28, 90, 24, 72, 2, 46, 75, 53, 58, 47, 50, 18,\n",
    "               40, 65, 24, 58, 4, 58, 81, 40, 6, 77, 85, 86, 68]\n",
    "    \n",
    "    avg = findAverage(numList)\n",
    "    print(\"Average is:\", avg)\n",
    "    below, above = countNumbers(numList, avg)\n",
    "    print(\"Below Average:\", below, \"\\nAbove Average:\", above)\n",
    "\n",
    "main()"
   ]
  },
  {
   "cell_type": "markdown",
   "metadata": {},
   "source": [
    "## Midterm 2 practice problems\n"
   ]
  },
  {
   "cell_type": "code",
   "execution_count": null,
   "metadata": {},
   "outputs": [],
   "source": [
    "# Problem 1\n",
    "\n",
    "# FIGURE THIS OUT ON PAPER FIRST, BEFORE RUNNING THIS CELL.\n",
    "\n",
    "# What does this code print?\n",
    "\n",
    "x = 0\n",
    "while x < 10:\n",
    "    x += 1\n",
    "    if x % 2 == 0:\n",
    "        x += 2 \n",
    "    print(x)"
   ]
  },
  {
   "cell_type": "code",
   "execution_count": null,
   "metadata": {},
   "outputs": [],
   "source": [
    "# Problem 2\n",
    "\n",
    "# FIGURE THIS OUT ON PAPER FIRST, BEFORE RUNNING THIS CELL.\n",
    "\n",
    "# What does this code print?\n",
    "\n",
    "for i in range(0, 3):\n",
    "    for j in range(i+1, 6):\n",
    "        print(i, j)"
   ]
  },
  {
   "cell_type": "code",
   "execution_count": null,
   "metadata": {},
   "outputs": [],
   "source": [
    "# Problem 3\n",
    "\n",
    "# Write a loop to print the following sequence of numbers:\n",
    "# 1, 2, 4, 7, 11, 16, 22, 29, 37, 46, ... etc, \n",
    "# stopping when the number 100 (or more) is reached. That is, do not print \n",
    "# any number greater than or equal to 100. Formatting doesn’t matter \n",
    "# (one number per line is fine). \n",
    "\n",
    "# Hint: Figure out the pattern between the numbers. This can be done with \n",
    "# a for loop or while loop, though I think a while loop makes more sense.\n",
    "\n",
    "\n",
    "# Your code here."
   ]
  },
  {
   "cell_type": "code",
   "execution_count": null,
   "metadata": {},
   "outputs": [],
   "source": [
    "# Problem 4\n",
    "\n",
    "# Write a function called count_evens which counts the number of even-numbered \n",
    "# digits in a string. Example: count_evens(\"abc425a\")  would return 2.\n",
    "\n",
    "\n",
    "def count_evens(string):\n",
    "    # your code here\n",
    "    \n",
    "count_evens(\"abc425a\")"
   ]
  },
  {
   "cell_type": "code",
   "execution_count": null,
   "metadata": {},
   "outputs": [],
   "source": [
    "# Problem 5\n",
    "\n",
    "# Write a function called common_factors that takes two arguments. \n",
    "# This function counts the number of factors greater than or equal to 1 \n",
    "# that divide evenly into both arguments.\n",
    "# Example: common_factors(12, 18) returns 4 because both numbers have factors of 1, 2, 3, and 6.\n",
    "\n",
    "\n",
    "def common_factors(num1, num2):\n",
    "    # your code here\n",
    "    "
   ]
  },
  {
   "cell_type": "code",
   "execution_count": null,
   "metadata": {},
   "outputs": [],
   "source": [
    "# Problem 6\n",
    "\n",
    "# Alice and Bob are running in an election. You have a file called results.txt that \n",
    "# stores the election results. (This file is in this folder.) Each line of the file \n",
    "# contains the time of day that someone voted, along with the name of the person \n",
    "# whom they voted for. Each line has three pieces: the hour [24-hour format], \n",
    "# the minute, and the name Alice or Bob. The file is sorted by time. \n",
    "\n",
    "# Write a program to answer the following questions (I suggest solving each part in order, \n",
    "# not writing all parts at once).\n",
    "\n",
    "# a. Print out who won the election (Alice or Bob).\n",
    "# b. Print out all the times where two people cast ballots at the exact same time (two consecutive identical\n",
    "# times in row).\n",
    "# c. Print out the largest gap in time between ballots being cast (the largest amount of time between two\n",
    "# consecutive ballot castings).\n",
    "# d. Print out the total number of consecutive ballots cast for Alice, and the number for Bob. (The total\n",
    "# number of times Alice or Bob received multiple votes in a row.)\n",
    "\n",
    "\n",
    "\n",
    "# Your code here."
   ]
  },
  {
   "cell_type": "code",
   "execution_count": null,
   "metadata": {},
   "outputs": [],
   "source": [
    "# Problem 7\n",
    "\n",
    "# Suppose you want to write a program that contains a part where the user \n",
    "# must enter their age. You know that everyone using this computer system \n",
    "# must be at least 18 years old. Write a piece of code (can be a function \n",
    "# or just a section of code) that asks the user for their age and uses \n",
    "# input validation to continue asking for it until they type in an age that \n",
    "# is at least 18.\n",
    "\n",
    "\n",
    "# Your code here."
   ]
  },
  {
   "cell_type": "code",
   "execution_count": null,
   "metadata": {},
   "outputs": [],
   "source": [
    "# Problem 8\n",
    "\n",
    "# Write a guess-the-number program. Use random.randint() to have the computer \n",
    "# pick a random number between 1 and 100. Write a loop that lets the user guess \n",
    "# numbers until they guess right --- the computer reports back for each guess \n",
    "# whether it was “too low” or “too high.”\n",
    "\n",
    "import random\n",
    "\n",
    "# Your code here."
   ]
  },
  {
   "cell_type": "markdown",
   "metadata": {},
   "source": [
    "## The following problems are from the practice midterm"
   ]
  },
  {
   "cell_type": "markdown",
   "metadata": {},
   "source": [
    "The solutions are on canvas but you can use the space below to test your solution, if it's slightly different"
   ]
  },
  {
   "cell_type": "code",
   "execution_count": null,
   "metadata": {},
   "outputs": [],
   "source": [
    "#midProblem 21\n",
    "\n",
    "#Write a function called productDigits that takes in a string containing letters and numbers and returns \n",
    "#the product of all the single digits in the string. \n",
    "\n",
    "\n",
    "\n",
    "#Example: string = “a2514b” returns 40 since 2*5*1*4 = 40. "
   ]
  },
  {
   "cell_type": "code",
   "execution_count": null,
   "metadata": {},
   "outputs": [],
   "source": [
    "#midProblem 22\n",
    "# Write a function called total_time that takes in a string in the format “Hours:Minutes:Seconds” where \n",
    "# Hours, Minutes and Seconds can be any number of digits, and it returns the total seconds in that time. \n",
    "\n"
   ]
  },
  {
   "cell_type": "code",
   "execution_count": null,
   "metadata": {},
   "outputs": [],
   "source": [
    "#midProblem 23\n",
    "# Write a function called indexSmallest that takes in a list of integers, and returns the index of the \n",
    "# smallest integer in the list. \n",
    "\n"
   ]
  },
  {
   "cell_type": "code",
   "execution_count": null,
   "metadata": {},
   "outputs": [],
   "source": [
    "#midProblem 24 \n",
    "    \n",
    "#Write a function called isValid that takes in as parameters the 3 sides of a triangle as integers, \n",
    "#and returns True if the sum of any two sides is greater than the third side, and returns False \n",
    "#otherwise. \n",
    "\n"
   ]
  },
  {
   "cell_type": "code",
   "execution_count": null,
   "metadata": {},
   "outputs": [],
   "source": [
    "#midProblem 25\n",
    "\n",
    "#Write a function called sumFile that takes in as a parameter the name of the file, and returns the \n",
    "#sum of the numbers in that file. (You can assume that the file will have exactly 1 number per line.) \n",
    "\n"
   ]
  },
  {
   "cell_type": "code",
   "execution_count": null,
   "metadata": {},
   "outputs": [],
   "source": [
    "#midProblem 26\n",
    "# Write a function called interleave that takes two string arguments, called s1 and s2, and returns a new \n",
    "# string that combines their characters in the following manner: the first character from s1, then the first \n",
    "# character from s2, then the second character from s1, then the second character from s2, and so on. \n",
    "\n",
    "\n",
    "\n",
    "# For example, interleave(“abc”, “xyz”) would return “axbycz”.   \n",
    "# You may assume that s1 and s2 have the same number of characters. "
   ]
  },
  {
   "cell_type": "markdown",
   "metadata": {},
   "source": [
    "Please do the following:\n",
    "* Study for Midterm 2 - in class on Wednesday!\n",
    "* Keep working on Project 7 "
   ]
  },
  {
   "cell_type": "code",
   "execution_count": null,
   "metadata": {},
   "outputs": [],
   "source": [
    "\n",
    "    \n"
   ]
  }
 ],
 "metadata": {
  "kernelspec": {
   "display_name": "Python 3 (ipykernel)",
   "language": "python",
   "name": "python3"
  },
  "language_info": {
   "codemirror_mode": {
    "name": "ipython",
    "version": 3
   },
   "file_extension": ".py",
   "mimetype": "text/x-python",
   "name": "python",
   "nbconvert_exporter": "python",
   "pygments_lexer": "ipython3",
   "version": "3.11.4"
  },
  "varInspector": {
   "cols": {
    "lenName": 16,
    "lenType": 16,
    "lenVar": 40
   },
   "kernels_config": {
    "python": {
     "delete_cmd_postfix": "",
     "delete_cmd_prefix": "del ",
     "library": "var_list.py",
     "varRefreshCmd": "print(var_dic_list())"
    },
    "r": {
     "delete_cmd_postfix": ") ",
     "delete_cmd_prefix": "rm(",
     "library": "var_list.r",
     "varRefreshCmd": "cat(var_dic_list()) "
    }
   },
   "types_to_exclude": [
    "module",
    "function",
    "builtin_function_or_method",
    "instance",
    "_Feature"
   ],
   "window_display": false
  }
 },
 "nbformat": 4,
 "nbformat_minor": 2
}
