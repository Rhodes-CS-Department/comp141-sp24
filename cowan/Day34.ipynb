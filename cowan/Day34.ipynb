{
 "cells": [
  {
   "cell_type": "code",
   "execution_count": null,
   "metadata": {},
   "outputs": [],
   "source": [
    "#WarmUp  What does this print?\n",
    "def changeMe(param1, param2):\n",
    "    param1[0] = 0\n",
    "    param2 = 0\n",
    "    return\n",
    "\n",
    "\n",
    "x = [1,2,3,4,5]\n",
    "y = 1\n",
    "print(\"Before: x:\", x,\"y:\", y)\n",
    "changeMe(x, y)\n",
    "print(\"After: x:\", x,\"y:\", y)"
   ]
  },
  {
   "cell_type": "markdown",
   "metadata": {},
   "source": [
    "### Solutions to Practice Problems from Last Time (Do problem #2)\n",
    "<ol>\n",
    "    <li>Text Shorthand Generator: Write a program that creates a text shorthand message for a phrase using the first letters of each word from a phrase/sentence.</li>\n",
    "        \n",
    "__Hint:__ Using one of the string methods to break the phrase into a list of words, and another method to make the resulting phrase all lowercase.\n",
    "\n",
    "__Example interations:__\n",
    "```\n",
    "Enter a phrase: This phrase doesn't stand for anything\n",
    "Shorthand is: tpdsfa\n",
    "       \n",
    "Enter a phrase: Laughing out loud\n",
    "Shorthand is: lol\n",
    "```\n",
    "<li> Dot Products: The dot product of two vectors, $A = [A_1, A_2,...A_n]$ and $B=[B_1, B_2, ..., B_n]$, is defined as $A_1*B_1 + A_2 * B_2 + ... + A_n * B_n$. Write a function called `dot_product` that takes in 2 lists of equal length, and returns the dot product of these two lists (vectors). The dot product of two empty lists is 0.</li>\n",
    "\n",
    "__Example:__ `dot_product([2, 3, 4], [4, 5, 6])` returns 47\n",
    "</ol>"
   ]
  },
  {
   "cell_type": "code",
   "execution_count": null,
   "metadata": {},
   "outputs": [],
   "source": [
    "#1\n",
    "def main():\n",
    "    \n",
    "    phrase = input(\"Enter a phrase: \")\n",
    "    phrase = phrase.lower()\n",
    "    \n",
    "    #create an empty string to build the acronym\n",
    "    shorthand = ''\n",
    "    \n",
    "    words = phrase.split() #split apart the phrase by spaces, into a list of strings\n",
    "    #loop over the list of strings by index\n",
    "    for i in range(0, len(words)):\n",
    "        #get a single string from the list by its index\n",
    "        word = words[i]\n",
    "        #add the first letter of word to the acronym\n",
    "        shorthand += word[0]\n",
    "        \n",
    "    print(\"Shorthand is: \", shorthand)\n",
    "\n",
    "main()\n"
   ]
  },
  {
   "cell_type": "code",
   "execution_count": null,
   "metadata": {},
   "outputs": [],
   "source": [
    "#2 \n",
    "def dot_product(A, B):\n",
    "\n",
    "        \n",
    "    return total\n",
    "\n",
    "dot_product([2, 3, 4], [4, 5, 6])"
   ]
  },
  {
   "cell_type": "markdown",
   "metadata": {},
   "source": [
    "# Day 34: Parallel Lists"
   ]
  },
  {
   "cell_type": "markdown",
   "metadata": {},
   "source": [
    "Parallel lists are two or more lists of the same length, where there is a relationship between `list1[p]` and `list2[p]`  (for any index/position p.)\n",
    "\n",
    "\n",
    "<table>\n",
    "    <tr>\n",
    "        <td></td>\n",
    "        <td>0</td>\n",
    "        <td>1</td>\n",
    "        <td>2</td>\n",
    "    </tr>\n",
    "    <tr>\n",
    "        <td>list1</td>\n",
    "        <td>\"hello\"</td>\n",
    "        <td>\"my\"</td>\n",
    "        <td>\"friend\"</td>\n",
    "    </tr>\n",
    "    <tr>\n",
    "        <td>list2</td>\n",
    "        <td>\"ahoy\"</td>\n",
    "        <td>\"me\"</td>\n",
    "        <td>\"matey\"</td>\n",
    "    </tr>\n",
    "</table>\n",
    "\n",
    "\n",
    "|          | 0        | 1         | 2         | 3         | 4       |\n",
    "|----------|----------|-----------|-----------|-----------|---------|\n",
    "| products  | \"apples\" | \"oranges\" | \"peaches\" | \"bananas\" | \"pears\" |\n",
    "| quantities | 100      | 50        | 75        | 125       | 80      |\n",
    "\n",
    "```\n",
    "products = [\"apples\", \"oranges\", \"peaches\", \"bananas\", \"pears\"]\n",
    "quantities = [100, 50, 75, 125, 80]\n",
    "```"
   ]
  },
  {
   "cell_type": "code",
   "execution_count": null,
   "metadata": {},
   "outputs": [],
   "source": [
    "# Using Parallel Lists with Files Example\n",
    "\n",
    "def main():\n",
    "    file = open(\"products1.txt\", \"r\")\n",
    "    \n",
    "    products = []  # empty lists for products and quantities\n",
    "    quantities = []  \n",
    "    \n",
    "    for line in file:\n",
    "        prod, quant = line.split(\" \") #can also call line.split() since default argument is space\n",
    "        quant = int(quant)\n",
    "        \n",
    "        products.append(prod)\n",
    "        quantities.append(quant)\n",
    "        \n",
    "    file.close()\n",
    "        \n",
    "    print(\"Products are: \", products)\n",
    "    print(\"Quantities are: \", quantities)\n",
    "    \n",
    "    # Loop over both lists simultaneously:\n",
    "    for idx in range(0, len(products)):\n",
    "        print(\"Product\", idx, \"is\", products[idx], \"and the quantity is\", quantities[idx])\n",
    "    \n",
    "main()"
   ]
  },
  {
   "cell_type": "markdown",
   "metadata": {},
   "source": [
    "## Maximum and minimum for lists\n",
    "\n",
    "Find the smallest item in a list called `lst`:\n",
    "\n",
    "```python\n",
    "smallest = lst[0]                # no longer use \"a really big number\"\n",
    "for idx in range(1, len(lst)):   # start at index 1\n",
    "    if lst[idx] < smallest:\n",
    "        smallest = lst[idx]\n",
    "```\n",
    "\n",
    "After this loop finishes, `smallest` holds the minimum\n",
    "item in `lst`."
   ]
  },
  {
   "cell_type": "code",
   "execution_count": null,
   "metadata": {},
   "outputs": [],
   "source": [
    "# Demonstration of minimum and maximum for lists:\n",
    "\n",
    "def main():\n",
    "    # Read the products file.\n",
    "    \n",
    "    file = open(\"products1.txt\", \"r\")\n",
    "    \n",
    "    products = []\n",
    "    quantities = []  \n",
    "    \n",
    "    for line in file:\n",
    "        prod, quant = line.split(\" \")\n",
    "        quant = int(quant)\n",
    "        \n",
    "        products.append(prod)\n",
    "        quantities.append(quant)\n",
    "        \n",
    "    file.close()\n",
    "    \n",
    "    # Find the minimum and maximum quantities.\n",
    "        \n",
    "    least_quant = quantities[0]\n",
    "    most_quant = quantities[0]\n",
    "\n",
    "    for idx in range(1, len(quantities)):\n",
    "        if quantities[idx] < least_quant:  # minimum algorithm\n",
    "            least_quant = quantities[idx]\n",
    "            \n",
    "        if quantities[idx] > most_quant:  # maximum algorithm\n",
    "            most_quant = quantities[idx]\n",
    "            \n",
    "    print(\"Highest quantity:\", most_quant)\n",
    "    print(\"Lowest quantity:\", least_quant)\n",
    "    \n",
    "main()"
   ]
  },
  {
   "cell_type": "markdown",
   "metadata": {},
   "source": [
    "#### But why does this code below not work?"
   ]
  },
  {
   "cell_type": "code",
   "execution_count": null,
   "metadata": {},
   "outputs": [],
   "source": [
    "def main():\n",
    "    # Read the products file.\n",
    "    file = open(\"products1.txt\", \"r\")\n",
    "    \n",
    "    products = []\n",
    "    quantities = []  \n",
    "    \n",
    "    for line in file:\n",
    "        prod, quant = line.split(\" \")\n",
    "        quant = int(quant)\n",
    "        \n",
    "        products.append(prod)\n",
    "        quantities.append(quant)\n",
    "        \n",
    "    file.close()\n",
    "    \n",
    "    # Find the smallest quantity.\n",
    "    least_quant = quantities[0]\n",
    "    for idx in range(1, len(quantities)):\n",
    "        if quantities[idx] < least_quant:\n",
    "            least_quant = quantities[idx]\n",
    "            \n",
    "    print(\"Lowest quantity:\", least_quant)\n",
    "    \n",
    "    # Buy ten more of the least-quantity product:\n",
    "    least_quant += 10\n",
    "    \n",
    "    # Print out the products, after buying more of the least one:\n",
    "    for idx in range(0, len(products)):\n",
    "        print(\"Product\", idx, \"is\", products[idx], \"and the quantity is\", quantities[idx])\n",
    "    \n",
    "main()"
   ]
  },
  {
   "cell_type": "markdown",
   "metadata": {},
   "source": [
    "**Key idea**: To modify an item in a list, we must know **what index the item is at.**\n",
    "\n",
    "Therefore, we should save the **index** of the smallest item,\n",
    "alongside the value of the item itself."
   ]
  },
  {
   "cell_type": "code",
   "execution_count": null,
   "metadata": {},
   "outputs": [],
   "source": [
    "def main():\n",
    "    file = open(\"products1.txt\", \"r\")\n",
    "    \n",
    "    products = []\n",
    "    quantities = []  \n",
    "    \n",
    "    for line in file:\n",
    "        prod, quant = line.split(\" \")\n",
    "        quant = int(quant)\n",
    "        \n",
    "        products.append(prod)\n",
    "        quantities.append(quant)\n",
    "        \n",
    "    file.close()\n",
    "        \n",
    "    # Find the smallest quantity.\n",
    "    least_quant = quantities[0]\n",
    "    least_quant_idx = 0             # save the index!\n",
    "    for idx in range(1, len(quantities)):\n",
    "        if quantities[idx] < least_quant:\n",
    "            least_quant = quantities[idx]\n",
    "            least_quant_idx = idx   # save the index!\n",
    "            \n",
    "    # Key idea for the loop above: whenever we change least_quant,\n",
    "    # we also change least_quant_idx, so they are always kept in sync.\n",
    "            \n",
    "    print(\"Lowest quantity:\", least_quant)\n",
    "    print(\"...is located at index:\", least_quant_idx)\n",
    "    print(\"...and the product is\", products[least_quant_idx])\n",
    "    # Look at the line above: I can also use the saved index to\n",
    "    # print the name of the product corresponding to the smallest quantity!\n",
    "    \n",
    "    # Buy ten more of the least-quantity product:\n",
    "    # least_quant += 10  <--- No, doesn't work.\n",
    "    quantities[least_quant_idx] += 10   # <--- This works!\n",
    "    \n",
    "    # Print out the products, after buying more of the least one:\n",
    "    for idx in range(0, len(products)):\n",
    "        print(\"Product\", idx, \"is\", products[idx], \"and the quantity is\", quantities[idx])\n",
    "    \n",
    "    \n",
    "main()"
   ]
  },
  {
   "cell_type": "markdown",
   "metadata": {},
   "source": [
    "Please do the following:\n",
    "1. Lab 8 - due by 11:59pm tomorrow night\n",
    "2. Finish up Project 7 - Due Sunday night by 11:59pm\n",
    "3. Start working on Project 8 - due by 11:59pm on April 26th\n",
    "\n",
    "Project 8 will take you much longer than most programs you have written this semester. Be sure to start early and ask questions! I'm giving you quite a few days to work on the program, so that you have ample time to finish it before the deadline.\n"
   ]
  },
  {
   "cell_type": "code",
   "execution_count": null,
   "metadata": {},
   "outputs": [],
   "source": []
  }
 ],
 "metadata": {
  "kernelspec": {
   "display_name": "Python 3 (ipykernel)",
   "language": "python",
   "name": "python3"
  },
  "language_info": {
   "codemirror_mode": {
    "name": "ipython",
    "version": 3
   },
   "file_extension": ".py",
   "mimetype": "text/x-python",
   "name": "python",
   "nbconvert_exporter": "python",
   "pygments_lexer": "ipython3",
   "version": "3.11.4"
  },
  "varInspector": {
   "cols": {
    "lenName": 16,
    "lenType": 16,
    "lenVar": 40
   },
   "kernels_config": {
    "python": {
     "delete_cmd_postfix": "",
     "delete_cmd_prefix": "del ",
     "library": "var_list.py",
     "varRefreshCmd": "print(var_dic_list())"
    },
    "r": {
     "delete_cmd_postfix": ") ",
     "delete_cmd_prefix": "rm(",
     "library": "var_list.r",
     "varRefreshCmd": "cat(var_dic_list()) "
    }
   },
   "types_to_exclude": [
    "module",
    "function",
    "builtin_function_or_method",
    "instance",
    "_Feature"
   ],
   "window_display": false
  }
 },
 "nbformat": 4,
 "nbformat_minor": 2
}
