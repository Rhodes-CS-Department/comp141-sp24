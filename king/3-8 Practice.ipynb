{
 "cells": [
  {
   "cell_type": "markdown",
   "id": "ca8d52dc",
   "metadata": {},
   "source": [
    "# Practice 1\n",
    "\n",
    "Write a function called split_user_input which asks the user for an input, then asks the user for a character to split the input on, then splits the input on that character, and prints the result.\n",
    "\n",
    "For example:\n",
    "* **Prompt:** Input a sentence:\n",
    "* **Input:** I like to nap; I love cats; I need coffee.\n",
    "* **Prompt:** What character should the sentence be split on? \n",
    "* **Input:** ;\n",
    "* **Output:** ['I like to nap', 'I love cats', 'I need coffee.']"
   ]
  },
  {
   "cell_type": "code",
   "execution_count": null,
   "id": "0aaa9af1",
   "metadata": {},
   "outputs": [],
   "source": [
    "def split_user_input():\n",
    "    # get input from user\n",
    "    \n",
    "    # get split character from user\n",
    "    \n",
    "    # split the input on the character\n",
    "    \n",
    "    # print the result\n",
    "    print()\n",
    "    "
   ]
  },
  {
   "cell_type": "markdown",
   "id": "fc4a36dc",
   "metadata": {},
   "source": [
    "# Practice 2\n",
    "\n",
    "Write a function `generate_and_write_numbers` that generates 100 random floating point numbers (use `random.uniform(low, high)`) and writes each number to a file named `randomFloats.txt`. Remember to open the file in write (`w`) mode and to close the file when you finish. Write a different function `read_and_split_numbers` which reads the numbers from the file and splits them into their integer and decimal components (split on the decimal `.`). Print out all the integer components."
   ]
  },
  {
   "cell_type": "code",
   "execution_count": null,
   "id": "541fb0da",
   "metadata": {},
   "outputs": [],
   "source": [
    "import random\n",
    "\n",
    "def generate_and_write_numbers():\n",
    "    # open the flie in write mode\n",
    "    \n",
    "    # use a for loop to generate 100 random numbers, write each number to the file\n",
    "    \n",
    "    # close the file\n",
    "    pass\n",
    "\n",
    "def read_and_split_numbers():\n",
    "    # open the file in read mode\n",
    "    \n",
    "    # use a for loop to loop over the lines of the file\n",
    "    \n",
    "    # split each line on .\n",
    "    # Hint: a, b = c.split(d) will split c on the character d, giving a and b as a result\n",
    "    \n",
    "    # print the integer part\n",
    "    pass"
   ]
  },
  {
   "cell_type": "markdown",
   "id": "783024fb",
   "metadata": {},
   "source": [
    "# Practice 3\n",
    "\n",
    "Write new functions `find_max_int_component` which finds the largest integer component and `find_min_dec_component` which finds the smallest decimal component. The functions can either print or return the max/min they find. Modify `read_and_split_numbers` function from Practice 2."
   ]
  },
  {
   "cell_type": "code",
   "execution_count": null,
   "id": "450f3abb",
   "metadata": {},
   "outputs": [],
   "source": [
    "def find_max_int_component():\n",
    "    max = 0\n",
    "    return max\n",
    "\n",
    "def find_min_dec_component():\n",
    "    min = 0\n",
    "    return min"
   ]
  },
  {
   "cell_type": "code",
   "execution_count": null,
   "id": "3f888218",
   "metadata": {},
   "outputs": [],
   "source": []
  }
 ],
 "metadata": {
  "kernelspec": {
   "display_name": "Python 3 (ipykernel)",
   "language": "python",
   "name": "python3"
  },
  "language_info": {
   "codemirror_mode": {
    "name": "ipython",
    "version": 3
   },
   "file_extension": ".py",
   "mimetype": "text/x-python",
   "name": "python",
   "nbconvert_exporter": "python",
   "pygments_lexer": "ipython3",
   "version": "3.11.4"
  },
  "varInspector": {
   "cols": {
    "lenName": 16,
    "lenType": 16,
    "lenVar": 40
   },
   "kernels_config": {
    "python": {
     "delete_cmd_postfix": "",
     "delete_cmd_prefix": "del ",
     "library": "var_list.py",
     "varRefreshCmd": "print(var_dic_list())"
    },
    "r": {
     "delete_cmd_postfix": ") ",
     "delete_cmd_prefix": "rm(",
     "library": "var_list.r",
     "varRefreshCmd": "cat(var_dic_list()) "
    }
   },
   "types_to_exclude": [
    "module",
    "function",
    "builtin_function_or_method",
    "instance",
    "_Feature"
   ],
   "window_display": false
  }
 },
 "nbformat": 4,
 "nbformat_minor": 5
}
