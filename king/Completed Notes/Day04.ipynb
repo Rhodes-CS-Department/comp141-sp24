{
 "cells": [
  {
   "cell_type": "markdown",
   "metadata": {},
   "source": [
    "# Day 4\n",
    "\n",
    "\n",
    "## Review of Intro Material\n",
    "\n",
    "__Terminology__\n",
    "* A __literal__ is a piece of data that you type directly into your program's code.(Ex: 6, 9.25, \"Blah blah blah\")\n",
    "* A __variable__ is a placeholder for a piece of data.\n",
    "* Every literal and variable in a program has a data type. \n",
    "\n",
    "__Comments__\n",
    "* Lines that Python ignores completely.\n",
    "* Used to tell a person reading your program what the program is doing.\n",
    "* For any line that has a `#` sign, Python will ignore everything to the right of the `#`. \n",
    "\n",
    "__Key concepts__ \n",
    "* algorithms, variables, data types (int/float/string), comments, literals\n",
    "* Python statements you should understand:\n",
    "<ul>\n",
    "    <li>print</li>\n",
    "    <li>input </li>\n",
    "    <li>math calculations</li>\n",
    "</ul>\n"
   ]
  },
  {
   "cell_type": "markdown",
   "metadata": {},
   "source": [
    "## String formatting\n",
    "\n",
    "Often, once we get the functionality of our program working, we want to go back and improve the user experience with our program. For instance, when I am first writing a program, I may simply type `print(x)` to verify that I'm getting the correct value for `x`. However, as a user of your program, I won't know what that output is actually referring to. Is it the value of x, or some other variable that's not related?\n",
    "\n",
    "You want to make it clear to the user exactly what you're outputting, and you may also want that output to look nice. This can include $ and rounding to 2 decimal places for monetary values, adding whitespace to make output look more tabular, or many other ways to make your output easier for the user to understand.\n",
    "\n",
    "Below are some examples of various formatting that one can use within a program.\n",
    "\n",
    "The first cell includes various methods for formatting strings.\n",
    "The second cell inclues various methods for formatting numbers.\n",
    "\n",
    "Read through the code in each cell and run them to understand what the output will look like.\n"
   ]
  },
  {
   "cell_type": "code",
   "execution_count": null,
   "metadata": {},
   "outputs": [],
   "source": [
    "#Formatting strings\n",
    "\n",
    "#Using tabs '\\t'\n",
    "print(\"Mon\\tTues\\tWed\\tThurs\\tFri\\tSat\")\n",
    "\n",
    "#Escaping out ' character so it's not treated as the end of the string\n",
    "print('I\\'m going to the park this weekend.')\n",
    "\n",
    "#Using the \\ character to let you continue writing code on next line\n",
    "#limit lines of code to 80 characters!\n",
    "print(\"I want to print a really, really, really, really, really, \\\n",
    "really long sentence.\")\n",
    "#prints an empty line\n",
    "print()\n",
    "#(this line of code is just to help explain the previous line)\n",
    "print(\"here\")    "
   ]
  },
  {
   "cell_type": "code",
   "execution_count": 1,
   "metadata": {},
   "outputs": [
    {
     "name": "stdout",
     "output_type": "stream",
     "text": [
      "50%\n",
      "1,234,567\n",
      "Rounded the number is  234.56\n",
      "Rounded, the number is  234.56\n"
     ]
    }
   ],
   "source": [
    "#Formatting Numbers\n",
    "\n",
    "#format is a built-in function that takes in 2 arguments\n",
    "#1st argument is the value you want to format\n",
    "#2nd argument is a string representing the format you would like\n",
    "\n",
    "#prints the decimal as a percentage (50%)\n",
    "print(format(0.5, '.0%'))\n",
    "\n",
    "#prints the integer (d) with commas (1,234,567)\n",
    "print(format(1234567, ',d'))    \n",
    "\n",
    "num = 234.5555555\n",
    "#rounds properly and prints out the decimal to 2 decimal places (234.56)\n",
    "print('Rounded the number is ', format(num, '.2f'))\n",
    "print('Rounded, the number is ', round(num, 2))"
   ]
  },
  {
   "cell_type": "markdown",
   "metadata": {},
   "source": [
    "The `print` function in python automatically assumes two things:\n",
    "* It assumes that you want each print statement to end with a newline character, so each output will be on a separate line.\n",
    "* It assumes that you want each item that you're printing to have a space between it and the next item, so `print` automatically puts spaces between each item you've separated by commas in the function call.\n",
    "\n",
    "The reason these things happen automatically is because the `print` function has 2 optional arguments with default values.\n",
    "* `end` argument has the default value of '\\n' (newline character).\n",
    "* `sep` argument has the default value of ' ' (space).\n",
    "\n",
    "Most of the time, Python's assumption is correct and you don't need to change these arguments. However, if you would like different functionality, here are some examples of how to do that. Run the cell to see how the changes affect the output."
   ]
  },
  {
   "cell_type": "code",
   "execution_count": null,
   "metadata": {},
   "outputs": [],
   "source": [
    "#end and sep arguments with print examples\n",
    "\n",
    "#below I've overwritten the end argument to be an empty string instead\n",
    "# print(message, sep, end)\n",
    "# message can be one or more strings\n",
    "# sep is the separator between the strings (if there are more than 1)\n",
    "# end is what gets print at the end (eg, \"\\n\")\n",
    "print(\"I want the next output to appear on this line too: \", end='')\n",
    "print(\"Hello world\")\n",
    "\n",
    "#below I've overwritten the sep argument to be an empty string instead\n",
    "#the sep='' removes the space between the $ and the value\n",
    "#properly formatted money example\n",
    "print(\"The total cost is $\", format(num, '.2f'), sep='')\n"
   ]
  },
  {
   "cell_type": "code",
   "execution_count": 2,
   "metadata": {},
   "outputs": [
    {
     "name": "stdout",
     "output_type": "stream",
     "text": [
      "hello\n",
      "\n",
      "\n",
      "\n",
      "\n",
      "\n",
      "\n",
      "\n",
      "\n",
      "\n",
      "goodbye\n"
     ]
    }
   ],
   "source": [
    "print('hello')\n",
    "print('\\n\\n\\n\\n\\n\\n\\n\\n')\n",
    "print('goodbye')\n",
    "# print() always skips a line at the end"
   ]
  },
  {
   "cell_type": "markdown",
   "metadata": {},
   "source": [
    "## Differences between the `print` and `input` functions\n",
    "\n",
    "The `print` function allows you to enter as many arguments as you'd like, of whatever data type you would like, all separated by a comma. If you want to output both text and variable/mathematical expression values, you can simply separate them with a comma.\n",
    "\n",
    "However, the `input` function only takes in 1 argument, and that argument must be a string! If you'd like to make the input prompt very specific, it can be helpful to allow the value of a variable to be output to the user as part of the prompt. Since we can only use 1 argument for the input function, we must concatenate (or add (+)) all the strings together that we want to output. See the \"using variables in your input prompt\" example below. "
   ]
  },
  {
   "cell_type": "code",
   "execution_count": 4,
   "metadata": {},
   "outputs": [
    {
     "name": "stdout",
     "output_type": "stream",
     "text": [
      "What is your favorite color? red\n",
      "Your favorite color is red\n",
      "How many pets do you have? 2\n",
      "4\n",
      "How many of your 2 pets are red? 0\n",
      "0 of your 2 pets are red\n"
     ]
    }
   ],
   "source": [
    "#Interacting with input and output examples\n",
    "\n",
    "#Getting a string as input  \n",
    "# the input function RETURNS a string\n",
    "# it is almost always useful assign the RETURN of the input function to a variable\n",
    "color = input(\"What is your favorite color? \")\n",
    "\n",
    "#Using the value that the user entered as output (using a variable)\n",
    "print(\"Your favorite color is\", color)\n",
    "\n",
    "#Getting an integer as input\n",
    "numPets = int(input(\"How many pets do you have? \"))\n",
    "\n",
    "#Using the user inputted value in a mathematical formula and outputting\n",
    "print(numPets*2)\n",
    "\n",
    "#Using variables in your input prompt\n",
    "numColor = int(input(\"How many of your \" + str(numPets) + \" pets are \" \\\n",
    "                     + color + \"? \")) \n",
    "\n",
    "#Using variables in your output\n",
    "# we can print multiple strings by separating them with commas\n",
    "print(numColor, \"of your\", numPets, \"pets are\", color)  "
   ]
  },
  {
   "cell_type": "markdown",
   "metadata": {},
   "source": [
    "Please do the following:\n",
    "1. Lab 01 (lab01 in the labs folder) - due by 11:59pm on 1/24\n",
    "2. Lab 01 self-assessment (due with Lab 01, link on Canvas)\n",
    "3. Start working on Project 1 (project-01 in the projects folder) - due 11:59pm on 1/26"
   ]
  },
  {
   "cell_type": "code",
   "execution_count": null,
   "metadata": {},
   "outputs": [],
   "source": []
  }
 ],
 "metadata": {
  "kernelspec": {
   "display_name": "Python 3 (ipykernel)",
   "language": "python",
   "name": "python3"
  },
  "language_info": {
   "codemirror_mode": {
    "name": "ipython",
    "version": 3
   },
   "file_extension": ".py",
   "mimetype": "text/x-python",
   "name": "python",
   "nbconvert_exporter": "python",
   "pygments_lexer": "ipython3",
   "version": "3.11.4"
  },
  "varInspector": {
   "cols": {
    "lenName": 16,
    "lenType": 16,
    "lenVar": 40
   },
   "kernels_config": {
    "python": {
     "delete_cmd_postfix": "",
     "delete_cmd_prefix": "del ",
     "library": "var_list.py",
     "varRefreshCmd": "print(var_dic_list())"
    },
    "r": {
     "delete_cmd_postfix": ") ",
     "delete_cmd_prefix": "rm(",
     "library": "var_list.r",
     "varRefreshCmd": "cat(var_dic_list()) "
    }
   },
   "types_to_exclude": [
    "module",
    "function",
    "builtin_function_or_method",
    "instance",
    "_Feature"
   ],
   "window_display": false
  }
 },
 "nbformat": 4,
 "nbformat_minor": 2
}
