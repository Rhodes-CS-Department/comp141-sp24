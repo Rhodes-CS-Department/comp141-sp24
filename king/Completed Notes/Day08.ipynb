{
 "cells": [
  {
   "cell_type": "markdown",
   "metadata": {},
   "source": [
    "# Day 8: Arguments and Parameters\n",
    "__Argument:__ piece of data that is sent into a function (inputs into functions)\n",
    "* Function can use argument in calculations\n",
    "* When calling the function, the argument is placed in parentheses following the function name\n",
    "\n",
    "__Parameters:__ variable that is assigned the value of an argument when the function is called\n",
    "\n",
    "__Pass:__ (verb) what we do with arguments we want a function to use (eg, we *pass* 1, 0, 4 in to the quadratic(a, b, c) function\n",
    "\n",
    "In the example below, we are not using any arguments or parameters. Without them, it is impossible to send information from one function to another.\n",
    "\n",
    "Let's modify the program below and fix it so it will properly sing happy birthday!"
   ]
  },
  {
   "cell_type": "code",
   "execution_count": 14,
   "metadata": {},
   "outputs": [
    {
     "name": "stdout",
     "output_type": "stream",
     "text": [
      "10\n"
     ]
    }
   ],
   "source": [
    "print(a)"
   ]
  },
  {
   "cell_type": "code",
   "execution_count": 26,
   "metadata": {},
   "outputs": [
    {
     "name": "stdout",
     "output_type": "stream",
     "text": [
      "What is your name? Jace\n",
      "Happy birthday to you!          \n",
      "Happy birthday to you!\n",
      "Happy birthday dear UNKNOWN \n",
      "Happy birthday to you!\n"
     ]
    }
   ],
   "source": [
    "#This program is supposed to sing happy birthday to you, but it\n",
    "#DOES NOT WORK!\n",
    "\n",
    "def main():\n",
    "    my_name = input(prompt=\"What is your name? \")\n",
    "    sing_song()\n",
    "    \n",
    "def sing_song(my_name):\n",
    "    print(\"Happy birthday to you!\\\n",
    "          \\nHappy birthday to you!\")\n",
    "    print(\"Happy birthday dear\", my_name, \\\n",
    "          \"\\nHappy birthday to you!\")\n",
    "\n",
    "\n",
    "main()\n"
   ]
  },
  {
   "cell_type": "code",
   "execution_count": null,
   "metadata": {},
   "outputs": [],
   "source": [
    "def set_alarm(time_until_alarm, alarm_duration, alarm_volume):\n",
    "    # implement later\n",
    "    pass\n",
    "\n",
    "# ex1:\n",
    "set_alarm(time_until_alarm=100, alarm_duration=10, alarm_volume=100) # easier to understand\n",
    "# ex2:\n",
    "set_alarm(60, 5, 50) # unclear what the numbers are\n",
    "# ex3:\n",
    "time_until_alarm = 100\n",
    "alarm_duration = 5\n",
    "alarm_volume = 75\n",
    "set_alarm(time_until_alarm, alarm_duration, alarm_volume) # becomes set_alarm(100, 5, 75)\n",
    "set_alarm(time_until_alarm=time_until_alarm, alarm_duration=alarm_duration, alarm_volume=alarm_volume)\n",
    "# ex4:\n",
    "time = 50\n",
    "duration = 6\n",
    "vol = 10\n",
    "set_alarm(time_until_alarm=time, alarm_duration=duration, alarm_volume=vol)\n"
   ]
  },
  {
   "attachments": {
    "function_Example2.png": {
     "image/png": "[encoded data removed]"
    }
   },
   "cell_type": "markdown",
   "metadata": {},
   "source": [
    "__Functions can accept multiple arguments__\n",
    "* Parameter list replaces single parameter\n",
    "* Parameter list items separated by comma\n",
    "* Arguments are passed by position to corresponding parameters (First parameter receives value of first argument, second parameter receives value of second argument, etc.)\n",
    "* When a function is called, all the values inside the parenthesis from the calling line are __immediately copied__ into the variables given in the function definition.\n",
    "* The values being copied from the calling function are called __arguments__.\n",
    "* The variables being copied into are called __parameters__.\n",
    "\n",
    "![function_Example2.png](attachment:function_Example2.png)\n",
    "\n",
    "__Scope of a variable__: variables (including parameters) have a scope, meaning the part of a program in which a variable may be accessed\n",
    "* __Local variable:__ belongs to the function in which it is defined (also called function scope)\n",
    "* __Global variable:__ the entire program has access to this variable (Don't use these!)\n",
    "* Scope of a parameter: the function in which the parameter is used (local)\n",
    "\n",
    "__Local Variables__: \n",
    "* A local variable cannot be accessed by statements inside its function which precede its creation\n",
    "* Different functions may have local variables with the same name \n",
    "* Each function does not see the other function’s local variables, so no confusion\n",
    "\n"
   ]
  },
  {
   "cell_type": "code",
   "execution_count": 32,
   "metadata": {},
   "outputs": [
    {
     "name": "stdout",
     "output_type": "stream",
     "text": [
      "What is your name? Jace\n",
      "Happy birthday to you!          \n",
      "Happy birthday to you!\n",
      "Happy birthday dear Jace \n",
      "Happy birthday to you!\n",
      "What is your twin's name? Jack\n",
      "Happy birthday to you!          \n",
      "Happy birthday to you!\n",
      "Happy birthday dear Jack \n",
      "Happy birthday to you!\n"
     ]
    }
   ],
   "source": [
    "#Description: This program 'sings' Happy birthday to you and your twin\n",
    "#Input: Your name and your twin's name\n",
    "#Output: Happy birthday song for both you and your twin.\n",
    "\n",
    "def sing_song(name):\n",
    "    print(\"Happy birthday to you!\\\n",
    "          \\nHappy birthday to you!\")\n",
    "    print(\"Happy birthday dear\", name, \\\n",
    "          \"\\nHappy birthday to you!\")\n",
    "    name = \"New Name\"\n",
    "\n",
    "\n",
    "def main():\n",
    "    my_name = input(\"What is your name? \")\n",
    "    sing_song(my_name)\n",
    "    twin_name = input(\"What is your twin's name? \")\n",
    "    sing_song(twin_name)\n",
    "\n",
    "main()"
   ]
  },
  {
   "cell_type": "markdown",
   "metadata": {},
   "source": [
    "* In the above example, you could use the same variable name for both my_name and twin_name (call them both name)\n",
    "* However, each function (sing_song and main) have their own copy of the variable\n",
    "* Changes made to a parameter value within the function do not affect the argument\n",
    "* There is no permanent link between the variables\n",
    "* Arguments and Parameters provide a way for one-way-only communication between one function and another function\n",
    "* We will learn later how to get information from the called function back to the calling function."
   ]
  },
  {
   "cell_type": "code",
   "execution_count": null,
   "metadata": {},
   "outputs": [],
   "source": [
    "# Let's trace this code and determine what the output will be before we run it.\n",
    "def some_function(x):\n",
    "    print(\"Inside the function, x is\", x)\n",
    "    x = 17\n",
    "    print(\"Inside the function, x is changed to\", x)\n",
    "\n",
    "def main():\n",
    "    x = 2\n",
    "    print(\"Before the function call, x is\", x)\n",
    "    some_function(x)\n",
    "    print(\"After the function call, x is\", x)\n",
    "\n",
    "main()"
   ]
  },
  {
   "cell_type": "markdown",
   "metadata": {},
   "source": [
    "__Recap__\n",
    "* There is no permanent connection between the `x` in main and the `x` in some_function.\n",
    "* Arguments are passed ---one way only--- from main to some_function when main calls some_function.\n",
    "* This copies main’s value of `x` into some_function’s `x`.\n",
    "* Any assignments to `x` inside of some_function do not come back to main.\n",
    "\n",
    "\n",
    "__Average.py using functions example__\n",
    "* Using functions, write a program that prompts the user for 3 numbers and outputs the average of those numbers."
   ]
  },
  {
   "cell_type": "code",
   "execution_count": 38,
   "metadata": {},
   "outputs": [
    {
     "name": "stdout",
     "output_type": "stream",
     "text": [
      "Enter a number: 1\n",
      "Enter a number: 2\n",
      "Enter a number: 3\n"
     ]
    }
   ],
   "source": [
    "#Write your code here ^^^\n",
    "# you might want a function for:\n",
    "# - that does everything\n",
    "# - getting user input\n",
    "# - averaging the numbers\n",
    "# - print the output\n",
    "def get_input():\n",
    "    return float(input(\"Enter a number: \"))\n",
    "\n",
    "def get_average(a, b, c):\n",
    "    return (a + b + c) / 3\n",
    "\n",
    "def main():\n",
    "    x = get_input()\n",
    "    y = get_input()\n",
    "    z = get_input()\n",
    "    \n",
    "    avg = get_average(x, y, z)\n",
    "\n",
    "def do_everything():\n",
    "    x = float(input(\"Enter a number: \"))\n",
    "    y = float(input())\n",
    "    z = float(input())\n",
    "    avg = (x+y+z)/3\n",
    "    print(avg)\n",
    "    \n",
    "main()\n"
   ]
  },
  {
   "cell_type": "code",
   "execution_count": 34,
   "metadata": {},
   "outputs": [
    {
     "name": "stdout",
     "output_type": "stream",
     "text": [
      "<function main at 0x7fe10b0c1e40>\n"
     ]
    }
   ],
   "source": [
    "def main():\n",
    "    x = 1\n",
    "    y = 2\n",
    "    z = 1+2\n",
    "    \n",
    "print(main)\n",
    "main()"
   ]
  },
  {
   "cell_type": "code",
   "execution_count": 39,
   "metadata": {},
   "outputs": [
    {
     "name": "stdout",
     "output_type": "stream",
     "text": [
      "2 4\n",
      "9 3\n",
      "-7 -12\n"
     ]
    }
   ],
   "source": [
    "#Trace through the following tricky example by hand and predict the output before running the code\n",
    "\n",
    "def mystery(x, z, y): # 5, 2, 9; 2, 9, 5; 14, -7, 2\n",
    "    print(z, y - x) # 2, 9-5; 9, 3; -7, -12\n",
    "\n",
    "def main():\n",
    "    x = 9\n",
    "    y = 2 \n",
    "    z = 5\n",
    "    mystery(z, y, x) # (5, 2, 9)\n",
    "    mystery(y, x, z) # (2, 9, 5)\n",
    "    mystery(x + z, y - x, y)\n",
    "\n",
    "main()\n",
    "\n",
    "# what will this program print?\n",
    "# prediction:\n",
    "# 2, 4\n",
    "# 9, 3\n",
    "# -7, -12"
   ]
  },
  {
   "cell_type": "markdown",
   "metadata": {},
   "source": [
    "## Practice\n",
    "* Modify singHappyBirthday.py\n",
    "* You no longer have a twin. Now you have a sibling that is two years older than you, but you share the same birthday.\n",
    "* Edit code so that sing_song now will print the lyrics but also print how old the person is.\n",
    "* Add a second parameter to sing_song called age. \n",
    "* Edit main() to ask for your age, as well as your name and sibling's name. \n",
    "* Edit the two calls to sing_song so appropriate ages are passed as arguments.\n",
    "\n",
    "I have copied the previous version of the program below for you to modify."
   ]
  },
  {
   "cell_type": "code",
   "execution_count": null,
   "metadata": {},
   "outputs": [],
   "source": [
    "#Description: This program 'sings' Happy birthday to you and your twin\n",
    "#Input: Your name and your twin's name\n",
    "#Output: Happy birthday song for both you and your twin.\n",
    "\n",
    "def sing_song(name):\n",
    "    print(\"Happy birthday to you!\\\n",
    "          \\nHappy birthday to you!\")\n",
    "    print(\"Happy birthday dear\", name, \\\n",
    "          \"\\nHappy birthday to you!\")\n",
    "\n",
    "\n",
    "def main():\n",
    "    my_name = input(\"What is your name? \")\n",
    "    sing_song(my_name)\n",
    "    twin_name = input(\"What is your twin's name? \")\n",
    "    sing_song(twin_name)\n",
    "\n",
    "main()"
   ]
  },
  {
   "cell_type": "markdown",
   "metadata": {},
   "source": [
    "### Please do the following:\n",
    "\n",
    "* Continue working on Project 2 (project-02) - due 2/4 by 11:59 PM\n",
    "* Zybooks Assignment 4 - due 2/6 by 11:59 PM\n",
    "* Complete Lab 02 on your own - due 2/7 by 11:59 PM\n"
   ]
  }
 ],
 "metadata": {
  "kernelspec": {
   "display_name": "Python 3 (ipykernel)",
   "language": "python",
   "name": "python3"
  },
  "language_info": {
   "codemirror_mode": {
    "name": "ipython",
    "version": 3
   },
   "file_extension": ".py",
   "mimetype": "text/x-python",
   "name": "python",
   "nbconvert_exporter": "python",
   "pygments_lexer": "ipython3",
   "version": "3.11.4"
  },
  "varInspector": {
   "cols": {
    "lenName": 16,
    "lenType": 16,
    "lenVar": 40
   },
   "kernels_config": {
    "python": {
     "delete_cmd_postfix": "",
     "delete_cmd_prefix": "del ",
     "library": "var_list.py",
     "varRefreshCmd": "print(var_dic_list())"
    },
    "r": {
     "delete_cmd_postfix": ") ",
     "delete_cmd_prefix": "rm(",
     "library": "var_list.r",
     "varRefreshCmd": "cat(var_dic_list()) "
    }
   },
   "types_to_exclude": [
    "module",
    "function",
    "builtin_function_or_method",
    "instance",
    "_Feature"
   ],
   "window_display": false
  }
 },
 "nbformat": 4,
 "nbformat_minor": 2
}
