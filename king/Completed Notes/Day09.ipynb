{
 "cells": [
  {
   "cell_type": "markdown",
   "metadata": {},
   "source": [
    "# Go Over Lab 01\n",
    " \n",
    "Make submissions now -- anything submitted after right now will only get half credit. Consider it \"punting\"."
   ]
  },
  {
   "cell_type": "markdown",
   "metadata": {},
   "source": [
    "# Go Over Project 01\n",
    "\n",
    "Make submissions now -- anything submitted after right now will only get half credit. Consider it \"punting\"."
   ]
  },
  {
   "cell_type": "markdown",
   "metadata": {},
   "source": [
    "# Day 9: Graphics\n",
    "\n",
    "* Many programming languages include a library for computer graphics \n",
    "* A __library__ is a pre-written collection of functions usually centered around a theme (graphics, networking, math, sound, etc.)\n",
    "* Python provides many libraries: https://docs.python.org/3/library/\n",
    "* Using libraries (rather than starting from scratch) enables you to write programs faster\n",
    "* Libraries are centered around functions because we know functions are abstractions of algorithms.\n",
    "\n",
    "## The Canvas\n",
    "* All graphics in Python are drawn in a separate window called the canvas.\n",
    "* The canvas is laid out similarly to the Cartesian plane, but with a flipped y-axis.\n",
    "![canvas.png](attachment:canvas.png)\n",
    "\n",
    "\n",
    "## Graphics and Colors\n",
    "* Everything represented by a computer is fundamentally comprised of discrete numeric values… Including things like music, images, sounds, etc.\n",
    "* A color, for example, is represented by three values (between 0 and 255).\n",
    "* These values dictate how much Red, Green, and Blue comprise the color. What are these colors? \n",
    "```\n",
    "0, 0, 0 #black\n",
    "255, 255, 255 #white\n",
    "255, 0, 0 #red\n",
    "0, 255, 0 #green\n",
    "0, 0, 255 #blue\n",
    "255, 0, 255 #purple\n",
    "```\n",
    "\n",
    "## Your first Graphics program\n",
    "\n",
    "For more information about the functions included in our cs1.graphics library, please see the reference link on Canvas (Graphics Reference).\n",
    "\n",
    "https://rhodes.instructure.com/courses/6822/pages/graphics-reference?module_item_id=190987"
   ]
  },
  {
   "cell_type": "code",
   "execution_count": 5,
   "metadata": {},
   "outputs": [
    {
     "data": {
      "application/vnd.jupyter.widget-view+json": {
       "model_id": "eed3b23b680c4be5ba2e094cdd5f9fd7",
       "version_major": 2,
       "version_minor": 0
      },
      "text/plain": [
       "AppLayout(children=(MultiCanvas(height=200, layout=Layout(grid_area='center'), sync_image_data=True, width=500…"
      ]
     },
     "metadata": {},
     "output_type": "display_data"
    }
   ],
   "source": [
    "from cs1.graphics import *\n",
    "\n",
    "def main():\n",
    "    open_canvas(500, 200) # the canvas is where we draw objects\n",
    "    #set_color_rgb(255,0,255) # you can set the color with rgb values\n",
    "    set_color(\"cyan\") # or you can set the color with a color name \n",
    "    # (the color you want may not be called what you think)\n",
    "    draw_line(100, 100, 400, 200) # draw_line(x0, y0, x1, y1)\n",
    "    draw_circle(250, 100, 50) # draw_circle(centerx, centery, radius)\n",
    "    set_color('red')\n",
    "    draw_filled_rect(240, 90, 20, 40) # draw_filled_rect(x, y, width, height)\n",
    "\n",
    "main()"
   ]
  },
  {
   "cell_type": "code",
   "execution_count": 17,
   "metadata": {},
   "outputs": [
    {
     "data": {
      "application/vnd.jupyter.widget-view+json": {
       "model_id": "20908d3f929a4028b212ebd53638e5cf",
       "version_major": 2,
       "version_minor": 0
      },
      "text/plain": [
       "AppLayout(children=(MultiCanvas(height=250, layout=Layout(grid_area='center'), sync_image_data=True, width=250…"
      ]
     },
     "metadata": {},
     "output_type": "display_data"
    }
   ],
   "source": [
    "# advanced practice\n",
    "def main():\n",
    "    # try using variables so that you can change\n",
    "    # values in one place to change everything!\n",
    "    n = 250\n",
    "    open_canvas(n, n)\n",
    "    \n",
    "    # don't worry about everything here right now, \n",
    "    # but experiment to see if you can make your own animations\n",
    "    for i in range(0, n, 5):\n",
    "        clear_canvas()\n",
    "        draw_line(i, i, i + 50, i + 50)\n",
    "        \n",
    "    set_color('green')\n",
    "#     for i in range(0, 100, 2):\n",
    "    draw_circle(10//2, 20//2, 10)\n",
    "        \n",
    "main()"
   ]
  },
  {
   "cell_type": "markdown",
   "metadata": {},
   "source": [
    "## Practice\n",
    "\n",
    "In the cell below, use the cs1.graphics library to draw whatever you'd like! Experiment with as many of the functions as possible. Here are some ideas for drawing inspiration!\n",
    "* a landscape (mountains, trees, houses, a cityscape, or something like that)\n",
    "* a self-portrait\n",
    "* A depiction of the solar system\n",
    "* the Mona Lisa\n",
    "* something else of your choice "
   ]
  },
  {
   "cell_type": "code",
   "execution_count": null,
   "metadata": {},
   "outputs": [],
   "source": [
    "from cs1.graphics import *\n",
    "\n",
    "# whatever you make happen, try to see if you can deduce a satisfying reason that it happened!\n",
    "# after all, python does *exactly* what you tell it to!\n",
    "def main():\n",
    "    open_canvas(500, 200)\n",
    "    #Your code goes here\n",
    "  \n",
    "  \n",
    "main()"
   ]
  },
  {
   "cell_type": "markdown",
   "metadata": {},
   "source": [
    "__Please do the following__:\n",
    "* Complete Project 02 -- due 2/4 by 11:59 PM\n",
    "* Complete Self-Assessment for Project 02\n",
    "* Assignment 4 due 2/6 by 11:59 PM\n",
    "* Complete Lab 02 on your own -- due 2/7 by 11:59 PM\n",
    "* Complete Self-Assessment for Lab 02"
   ]
  },
  {
   "cell_type": "code",
   "execution_count": null,
   "metadata": {},
   "outputs": [],
   "source": []
  }
 ],
 "metadata": {
  "kernelspec": {
   "display_name": "Python 3 (ipykernel)",
   "language": "python",
   "name": "python3"
  },
  "language_info": {
   "codemirror_mode": {
    "name": "ipython",
    "version": 3
   },
   "file_extension": ".py",
   "mimetype": "text/x-python",
   "name": "python",
   "nbconvert_exporter": "python",
   "pygments_lexer": "ipython3",
   "version": "3.11.4"
  },
  "varInspector": {
   "cols": {
    "lenName": 16,
    "lenType": 16,
    "lenVar": 40
   },
   "kernels_config": {
    "python": {
     "delete_cmd_postfix": "",
     "delete_cmd_prefix": "del ",
     "library": "var_list.py",
     "varRefreshCmd": "print(var_dic_list())"
    },
    "r": {
     "delete_cmd_postfix": ") ",
     "delete_cmd_prefix": "rm(",
     "library": "var_list.r",
     "varRefreshCmd": "cat(var_dic_list()) "
    }
   },
   "types_to_exclude": [
    "module",
    "function",
    "builtin_function_or_method",
    "instance",
    "_Feature"
   ],
   "window_display": false
  }
 },
 "nbformat": 4,
 "nbformat_minor": 2
}
