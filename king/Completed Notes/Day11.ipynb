{
 "cells": [
  {
   "cell_type": "markdown",
   "id": "1b14570f",
   "metadata": {},
   "source": [
    "## Questions"
   ]
  },
  {
   "cell_type": "code",
   "execution_count": null,
   "id": "2195b6ec",
   "metadata": {},
   "outputs": [],
   "source": []
  },
  {
   "cell_type": "markdown",
   "id": "7e3c2394",
   "metadata": {},
   "source": [
    "## Project 2"
   ]
  },
  {
   "cell_type": "code",
   "execution_count": null,
   "id": "33f5df16",
   "metadata": {},
   "outputs": [],
   "source": []
  },
  {
   "cell_type": "markdown",
   "id": "79c26b22",
   "metadata": {},
   "source": [
    "## Practice From Last Time\n",
    "1. Write a function called `direction` that takes two float arguments, `x` and `y`. Consider an arrow  on the Cartesian plane pointing from (0,0) to (x, y). This function should return the string \"NE\", \"SE\", \"SW\", or \"NW\" depending on the direction that the arrow points. Assume `x` and `y` will never be 0. The def line will be: `def direction(x, y):`"
   ]
  },
  {
   "cell_type": "code",
   "execution_count": 2,
   "id": "fac31d0b",
   "metadata": {},
   "outputs": [
    {
     "name": "stdout",
     "output_type": "stream",
     "text": [
      "NE  should be NE\n",
      "NW  should be NW\n",
      "SW  should be SW\n",
      "SE  should be SE\n"
     ]
    }
   ],
   "source": [
    "def direction(x, y):\n",
    "    # returns NE, SE, SW, or NW depending on the direction of (x, y), assuming x != 0 and y != o\n",
    "    ## what logic will tell you the answer?\n",
    "    if x > 0:\n",
    "        if y < 0:\n",
    "            return(\"SE\")\n",
    "        if y > 0:\n",
    "            return(\"NE\")\n",
    "    if x < 0:\n",
    "        if y < 0:\n",
    "            return(\"SW\")\n",
    "        if y > 0:\n",
    "            return(\"NW\")\n",
    "        \n",
    "def direction_alt(x, y):\n",
    "    if x > 0 and y > 0:\n",
    "        return(\"XX\")\n",
    "    if x < 0 and y < 0:\n",
    "        return(\"XX\")\n",
    "    if x < 0 and y > 0:\n",
    "        return(\"XX\")\n",
    "    if x > 0 and y < 0:\n",
    "        return(\"XX\")\n",
    "    \n",
    "def main():\n",
    "    # tests:\n",
    "    print(direction(1, 1), \"should be NE\")\n",
    "    print(direction(-2, 3), \"should be NW\")\n",
    "    print(direction(-4, -5), \"should be SW\")\n",
    "    print(direction(7, -3), \"should be SE\")\n",
    "    \n",
    "main()"
   ]
  },
  {
   "cell_type": "markdown",
   "id": "645103df",
   "metadata": {},
   "source": [
    "2. Write a function called `area_of_circle` that takes in one float argument `radius`. This function should return the area of a circle with that radius ($area= \\pi ∗ 𝑟^2$). The def line will be: `def area_of_circle(radius):`"
   ]
  },
  {
   "cell_type": "code",
   "execution_count": null,
   "id": "1df15637",
   "metadata": {},
   "outputs": [],
   "source": [
    "def area_of_circle(radius):\n",
    "    return 3.14 * radius * radius\n",
    "\n",
    "def main():\n",
    "    # tests:\n",
    "    print(area_of_circle(10))\n",
    "    print(area_of_circle(12))\n",
    "    print(area_of_cirlce(1))\n",
    "    print(area_of_cirlce(0.5))\n",
    "    \n",
    "main()"
   ]
  },
  {
   "cell_type": "code",
   "execution_count": 4,
   "id": "4be9b1f7",
   "metadata": {},
   "outputs": [
    {
     "data": {
      "application/vnd.jupyter.widget-view+json": {
       "model_id": "ea96c442d57e4fbcb85d42edaf6e455a",
       "version_major": 2,
       "version_minor": 0
      },
      "text/plain": [
       "AppLayout(children=(MultiCanvas(layout=Layout(grid_area='center'), sync_image_data=True, width=500),), layout=…"
      ]
     },
     "metadata": {},
     "output_type": "display_data"
    }
   ],
   "source": [
    "beige = (245, 245, 220)\n",
    "from cs1.graphics import *\n",
    "open_canvas(500, 500)\n",
    "set_background_color_rgb(245, 245, 220)"
   ]
  },
  {
   "cell_type": "code",
   "execution_count": null,
   "id": "e7bd721b",
   "metadata": {},
   "outputs": [],
   "source": []
  },
  {
   "cell_type": "markdown",
   "id": "bca4a52b",
   "metadata": {},
   "source": [
    "### To Do\n",
    "Please do the following:\n",
    "1. Submit Lab 02 - due 2/7 by 11:59 PM\n",
    "2. Complete self-assessment for Lab 02\n",
    "3. Begin Lab 03 - due 2/12 by 11:59 PM\n",
    "4. Complete self-assessment for Lab 03\n",
    "5. Quiz 4 - due 2/9 by 11:59pm\n",
    "6. Start Project 3 (project-03) - due 2/10 by 11:59pm\n"
   ]
  },
  {
   "cell_type": "code",
   "execution_count": null,
   "id": "a9cc7899",
   "metadata": {},
   "outputs": [],
   "source": []
  }
 ],
 "metadata": {
  "kernelspec": {
   "display_name": "Python 3 (ipykernel)",
   "language": "python",
   "name": "python3"
  },
  "language_info": {
   "codemirror_mode": {
    "name": "ipython",
    "version": 3
   },
   "file_extension": ".py",
   "mimetype": "text/x-python",
   "name": "python",
   "nbconvert_exporter": "python",
   "pygments_lexer": "ipython3",
   "version": "3.11.4"
  },
  "varInspector": {
   "cols": {
    "lenName": 16,
    "lenType": 16,
    "lenVar": 40
   },
   "kernels_config": {
    "python": {
     "delete_cmd_postfix": "",
     "delete_cmd_prefix": "del ",
     "library": "var_list.py",
     "varRefreshCmd": "print(var_dic_list())"
    },
    "r": {
     "delete_cmd_postfix": ") ",
     "delete_cmd_prefix": "rm(",
     "library": "var_list.r",
     "varRefreshCmd": "cat(var_dic_list()) "
    }
   },
   "types_to_exclude": [
    "module",
    "function",
    "builtin_function_or_method",
    "instance",
    "_Feature"
   ],
   "window_display": false
  }
 },
 "nbformat": 4,
 "nbformat_minor": 5
}
