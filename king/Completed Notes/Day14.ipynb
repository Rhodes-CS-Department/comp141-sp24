{
 "cells": [
  {
   "cell_type": "code",
   "execution_count": 2,
   "metadata": {},
   "outputs": [
    {
     "name": "stdout",
     "output_type": "stream",
     "text": [
      "17\n",
      "Guess a number between 0-100: 8\n",
      "Your number is too low.\n",
      "Please try again: 20\n",
      "Your guess was too high.\n",
      "Please try again: 17\n",
      "You guessed correctly! Great work!\n"
     ]
    }
   ],
   "source": [
    "#Guess that Number Game \n",
    "import random \n",
    "\n",
    "def main():\n",
    "    number = random.randint(0,100)\n",
    "    print(number)\n",
    "    guess = int(input(\"Guess a number between 0-100: \"))\n",
    "    \n",
    "    while number != guess:\n",
    "        if guess > number:\n",
    "            print (\"Your guess was too high.\")\n",
    "        else: \n",
    "            print(\"Your number is too low.\")\n",
    "        guess = int(input(\"Please try again: \"))\n",
    "        \n",
    "    print(\"You guessed correctly! Great work!\")\n",
    "\n",
    "main()\n",
    "         "
   ]
  },
  {
   "cell_type": "markdown",
   "metadata": {},
   "source": [
    "# Day 14: Loops that Count"
   ]
  },
  {
   "cell_type": "markdown",
   "metadata": {},
   "source": [
    "## Practice From Last Time\n",
    "Write a program that asks the user to type in two integers, over and over again. Print the sum of the two integers. Make the loop stop when the second integer is less than zero (and don’t print the sum in this case).\n",
    "\n",
    "a. Change the loop so the sum is printed while the second integer is less than zero.\n",
    "\n",
    "b. Make the loop stop when the sum of the two integers is odd. (try it both with printing the sum and not printing).\n",
    "\n",
    "c. Make the loop stop when the first integer is less than zero (and then don’t ask for the second one)."
   ]
  },
  {
   "cell_type": "code",
   "execution_count": 6,
   "metadata": {},
   "outputs": [
    {
     "name": "stdout",
     "output_type": "stream",
     "text": [
      "Enter the first number: 10\n",
      "Enter the second number: 12\n",
      "22\n",
      "Enter the first number: -2\n",
      "Enter the second number: -2\n"
     ]
    }
   ],
   "source": [
    "# Write a program that asks the user to type in two integers, over and over again. \n",
    "#Print the sum of the two integers. Make the loop stop when the second integer is \n",
    "# less than zero (and don’t print the sum in this case).\n",
    "keep_going = True\n",
    "\n",
    "# while keep_going:\n",
    "#     num_1 = int(input(\"Enter the first number: \"))\n",
    "#     num_2 = int(input(\"Enter the second number: \"))\n",
    "    \n",
    "#     if num_2 < 0:\n",
    "#         keep_going = False\n",
    "#         print(f\"you've stopped because {num_2} < 0\") # this is an f-string\n",
    "#     else:\n",
    "#         print(num_1 + num_2)\n",
    "        \n",
    "        \n",
    "        \n",
    "num_1 = int(input(\"Enter the first number: \"))\n",
    "num_2 = int(input(\"Enter the second number: \"))    \n",
    "while num_2 >= 0:\n",
    "    print(num_1 + num_2)\n",
    "    \n",
    "    num_1 = int(input(\"Enter the first number: \"))\n",
    "    num_2 = int(input(\"Enter the second number: \"))\n"
   ]
  },
  {
   "cell_type": "code",
   "execution_count": 7,
   "metadata": {},
   "outputs": [
    {
     "name": "stdout",
     "output_type": "stream",
     "text": [
      "Enter the first number: 10\n",
      "Enter the second number: -5\n",
      "5\n",
      "Enter the first number: 12\n",
      "Enter the second number: -10\n",
      "2\n",
      "Enter the first number: 10\n",
      "Enter the second number: 10\n"
     ]
    }
   ],
   "source": [
    "#Change the loop so the sum is printed when the second integer is less than zero.\n",
    "num_1 = int(input(\"Enter the first number: \"))\n",
    "num_2 = int(input(\"Enter the second number: \"))    \n",
    "while num_2 < 0:\n",
    "    print(num_1 + num_2)\n",
    "    \n",
    "    num_1 = int(input(\"Enter the first number: \"))\n",
    "    num_2 = int(input(\"Enter the second number: \"))\n",
    "    \n",
    "    \n",
    "# while keep_going:\n",
    "#     num_1 = int(input(\"Enter the first number: \"))\n",
    "#     num_2 = int(input(\"Enter the second number: \"))\n",
    "    \n",
    "#     if num_2 >= 0:\n",
    "#         keep_going = False\n",
    "#         print(f\"you've stopped because {num_2} >= 0\") # this is an f-string\n",
    "#     else:\n",
    "#         print(num_1 + num_2)"
   ]
  },
  {
   "cell_type": "code",
   "execution_count": 9,
   "metadata": {},
   "outputs": [
    {
     "name": "stdout",
     "output_type": "stream",
     "text": [
      "0\n",
      "1\n",
      "Enter the first number: 10\n",
      "Enter the second number: 20\n",
      "Enter the first number: 15\n",
      "Enter the second number: 0\n"
     ]
    }
   ],
   "source": [
    "#Make the loop stop when the sum of the two integers is odd. (with printing the sum).\n",
    "print(6 % 2) # this is how you see if a number is odd or even: n % 2 == 0 -> even\n",
    "print(5 % 2) # n % 2 == 1 -> odd\n",
    "# % is called \"mod\" or \"modulus\"\n",
    "\n",
    "num_sum = 4 # avoid using a name like sum, sum is a built-in function in python,\n",
    "# our variable names should never \"shadow\" built-ins: sum, int, float,\n",
    "while num_sum % 2 != 1: # this is the way to check if a number is odd\n",
    "    num_1 = int(input(\"Enter the first number: \"))\n",
    "    num_2 = int(input(\"Enter the second number: \"))\n",
    "    \n",
    "    num_sum = num_1 + num_2\n",
    "    print(num_sum)"
   ]
  },
  {
   "cell_type": "code",
   "execution_count": 10,
   "metadata": {},
   "outputs": [
    {
     "name": "stdout",
     "output_type": "stream",
     "text": [
      "Enter the first number: 10\n",
      "Enter the second number: 12\n",
      "22\n",
      "Enter the first number: 10\n",
      "Enter the second number: 15\n",
      "25\n",
      "Enter the first number: -5\n",
      "you've stopped because -5 < 0\n"
     ]
    }
   ],
   "source": [
    "#Make the loop stop when the first integer is less than zero (and then don’t ask for the second one).\n",
    "\n",
    "while keep_going:\n",
    "    num_1 = int(input(\"Enter the first number: \"))\n",
    "    \n",
    "    if num_1 < 0:\n",
    "        keep_going = False\n",
    "        print(f\"you've stopped because {num_1} < 0\") # this is an f-string\n",
    "    else:\n",
    "        num_2 = int(input(\"Enter the second number: \"))\n",
    "        print(num_1 + num_2)\n",
    "        "
   ]
  },
  {
   "cell_type": "code",
   "execution_count": null,
   "metadata": {},
   "outputs": [],
   "source": [
    "# your first recursion\n",
    "def is_even(n):\n",
    "    if n == 1:\n",
    "        return False\n",
    "    if n == 0:\n",
    "        return True\n",
    "    \n",
    "    return is_even(n - 2)"
   ]
  },
  {
   "cell_type": "markdown",
   "metadata": {},
   "source": [
    "A common type of loop is one that is controlled by an integer that counts up from a initial value to an upper limit. Such a loop is called a __counting loop__. The integer is called a **loop control variable**. \n",
    "\n",
    "For example, we could have a computer count up from 1 to 10. We will use a counter variable that we will increment inside the loop. Increment means increase the value by one. Note that  the loop continues as long as the counter is less than or equal to the desired last value."
   ]
  },
  {
   "cell_type": "code",
   "execution_count": 13,
   "metadata": {},
   "outputs": [
    {
     "name": "stdout",
     "output_type": "stream",
     "text": [
      "0\n",
      "1\n",
      "2\n",
      "3\n",
      "4\n",
      "5\n",
      "6\n",
      "7\n",
      "8\n",
      "9\n",
      "10\n"
     ]
    }
   ],
   "source": [
    "cnt = 0\n",
    "while cnt <= 10:\n",
    "    print(cnt)\n",
    "    cnt = cnt + 1"
   ]
  },
  {
   "cell_type": "code",
   "execution_count": 17,
   "metadata": {},
   "outputs": [
    {
     "name": "stdout",
     "output_type": "stream",
     "text": [
      "2\n",
      "13\n",
      "24\n",
      "35\n",
      "46\n",
      "57\n",
      "68\n",
      "79\n",
      "90\n"
     ]
    }
   ],
   "source": [
    "#This loop counts by 2s instead, from 2 up to and including 100\n",
    "cnt = 2\n",
    "while cnt < 100:\n",
    "    print(cnt)\n",
    "    cnt = cnt + 11 #cnt += 2\n",
    "# cnt = 2, 13, 24, 35, 46, 57, 68, 79, 90, 101"
   ]
  },
  {
   "cell_type": "code",
   "execution_count": 23,
   "metadata": {},
   "outputs": [
    {
     "name": "stdout",
     "output_type": "stream",
     "text": [
      "2\n",
      "6\n",
      "18\n",
      "54\n",
      "162\n"
     ]
    }
   ],
   "source": [
    "# What's the output of this loop?\n",
    "cnt = 2\n",
    "while cnt <= 100:\n",
    "    print(cnt)\n",
    "    cnt = cnt * 3\n",
    "    \n",
    "print(cnt)\n",
    "    \n",
    "# cnt = 2, 6, 18, 54, 162"
   ]
  },
  {
   "cell_type": "markdown",
   "metadata": {},
   "source": [
    "### Practice\n",
    "For each of the following cells, follow the instructions in the cell and write a loop that does as specifies.\n",
    "\n",
    "You don't need to write any functions or main() for these, just the loop code is fine."
   ]
  },
  {
   "cell_type": "code",
   "execution_count": null,
   "metadata": {},
   "outputs": [],
   "source": [
    "# Write a loop to print the multiples of 3 (between 3 and 60, inclusive).\n"
   ]
  },
  {
   "cell_type": "code",
   "execution_count": null,
   "metadata": {},
   "outputs": [],
   "source": [
    "# Write a loop to print the multiples of 5 (between 5 and 60, inclusive).\n"
   ]
  },
  {
   "cell_type": "code",
   "execution_count": null,
   "metadata": {},
   "outputs": [],
   "source": [
    "# Write a loop to print the multiples of 3 and/or 5 (between 3 and 60, inclusive).\n",
    "# (This should be one single increasing list of numbers.)\n",
    "# Hint: a value is a multiple of 3 if value % 3 == 0:\n"
   ]
  },
  {
   "cell_type": "code",
   "execution_count": null,
   "metadata": {},
   "outputs": [],
   "source": [
    "#  Write a loop to print the numbers from 1 to 30, each labeled with the word\n",
    "# \"even\" or \"odd\" depending on the number.\n"
   ]
  },
  {
   "cell_type": "code",
   "execution_count": null,
   "metadata": {},
   "outputs": [],
   "source": [
    "# Write a loop to print the numbers from 1 to 30, each labeled with whether the number is \n",
    "# divisible by 3, by 5, by both 3 and 5, or neither 3 nor 5.\n"
   ]
  },
  {
   "cell_type": "markdown",
   "metadata": {},
   "source": [
    "## Accumulating a String\n",
    "In addition to accumlating number values inside a loop, you can also accumulate a string using string concatenation.  One way to do this is to initialize an empty string and then accumulate the value inside the loop.\n",
    "\n",
    "` s = ''`\n",
    "\n",
    "` s = s + '*'  #the order of the additions here matters sometimes`\n",
    "\n",
    "### Practice\n",
    "Now you try.   Create a snippet of code that asks the user for the length of a fence.  The posts will be the '|' character and the beams will be the '-' character.   When the user gives the value 5, the fence that will be printed will look like:  '|-|-|-|-|-|'  (it has 6 posts and 5 beams).   For this problem, I want you to use a loop to solve it.  There is a shorter way to do it."
   ]
  },
  {
   "cell_type": "code",
   "execution_count": null,
   "metadata": {},
   "outputs": [],
   "source": [
    "def main():\n",
    "    x = int(input(\"Length of fence: \"))\n",
    "    #ADD the rest of your code here\n",
    "\n",
    "main()\n",
    "  "
   ]
  },
  {
   "cell_type": "markdown",
   "metadata": {},
   "source": [
    "## Greatest Common Divisor\n",
    "\n",
    "Finding the greatest common divisor of 2 numbers is a common problem that mathematicians need to solve. It is especially useful for reducing fractions to be in lowest terms. \n",
    "\n",
    "The greatest common divisor (gcd) of two or more integers, which are not all zero, is the largest positive integer that divides each of the integers. For example, the gcd of 8 and 12 is 4.\n",
    "\n",
    "### Practice \n",
    "Write code to find the gcd of any 2 numbers.\n",
    "\n",
    "1. Start by writing a loop that prints all divisors of 30. Your code should print out the following: 1, 2, 3, 5, 6, 10, 15, 30\n",
    "2. Next, modify this loop to print out all common divisors of 30 AND 50. Your code should print out 1, 2, 5, 10\n",
    "3. Now let the user select any 2 integers and print out the common divisors of these 2 integers.\n",
    "4. Finally, modify your code so it only prints out the largest of the common divisors of these 2 numbers."
   ]
  },
  {
   "cell_type": "code",
   "execution_count": null,
   "metadata": {},
   "outputs": [],
   "source": []
  },
  {
   "cell_type": "markdown",
   "metadata": {},
   "source": [
    "### More Practice\n",
    "If you're done early with the GCD problem above, please try the following.\n",
    "\n",
    "### Simulating Flipping Coins\n",
    "* Simulate a coin flip by randomly selecting between 0 (heads) and 1 (tails).\n",
    "* After you get that working, write a program that counts the number of times it takes to get 3 consecutive heads.\n",
    "* Hints:\n",
    "    * What is the condition of the while?\n",
    "    * A variable needs to initialized before the while and updated inside the while loop. What sort of information should this variable store?\n",
    "    * When a person gets tails what happens to the total count of heads?\n",
    "    * When a person gets heads what happens to the total count of heads?"
   ]
  },
  {
   "cell_type": "code",
   "execution_count": null,
   "metadata": {},
   "outputs": [],
   "source": [
    "import random\n",
    "\n",
    "#global constants to use in your program\n",
    "HEADS = 0\n",
    "TAILS = 1\n"
   ]
  },
  {
   "cell_type": "markdown",
   "metadata": {},
   "source": [
    "Please do the following:\n",
    "1. Quiz 5 due 2/14 by 11:59 PM\n",
    "2. Assignment 6 due 2/19 by 11:59 PM\n",
    "3. Project 4 due 2/20 by 11:59 PM"
   ]
  },
  {
   "cell_type": "code",
   "execution_count": null,
   "metadata": {},
   "outputs": [],
   "source": []
  }
 ],
 "metadata": {
  "kernelspec": {
   "display_name": "Python 3 (ipykernel)",
   "language": "python",
   "name": "python3"
  },
  "language_info": {
   "codemirror_mode": {
    "name": "ipython",
    "version": 3
   },
   "file_extension": ".py",
   "mimetype": "text/x-python",
   "name": "python",
   "nbconvert_exporter": "python",
   "pygments_lexer": "ipython3",
   "version": "3.11.4"
  },
  "varInspector": {
   "cols": {
    "lenName": 16,
    "lenType": 16,
    "lenVar": 40
   },
   "kernels_config": {
    "python": {
     "delete_cmd_postfix": "",
     "delete_cmd_prefix": "del ",
     "library": "var_list.py",
     "varRefreshCmd": "print(var_dic_list())"
    },
    "r": {
     "delete_cmd_postfix": ") ",
     "delete_cmd_prefix": "rm(",
     "library": "var_list.r",
     "varRefreshCmd": "cat(var_dic_list()) "
    }
   },
   "types_to_exclude": [
    "module",
    "function",
    "builtin_function_or_method",
    "instance",
    "_Feature"
   ],
   "window_display": false
  }
 },
 "nbformat": 4,
 "nbformat_minor": 2
}
