{
 "cells": [
  {
   "cell_type": "markdown",
   "metadata": {},
   "source": [
    "# Day 28: Strings IV"
   ]
  },
  {
   "cell_type": "markdown",
   "metadata": {},
   "source": [
    "## Generic Functions\n",
    "\n",
    "__Generic counting function:__\n",
    "```\n",
    "def some_counting_function(s):\n",
    "  count = 0\n",
    "  for pos in range(0, len(s), 1):\n",
    "    if <some condition>:\n",
    "      count = count + 1\n",
    "  return count\n",
    "```\n",
    "\n",
    "__Generic filtering function:__\n",
    "```\n",
    "def some_filtering_function(s):\n",
    "  answer = \"\"\n",
    "  for pos in range(0, len(s), 1):\n",
    "    if <some condition>:\n",
    "      answer = answer + s[pos]\n",
    "  return answer\n",
    "```\n",
    "__Generic filtering with multiple branches:__\n",
    "```\n",
    "def some_filtering_function(s):\n",
    "  answer = \"\"\n",
    "  for pos in range(0, len(s), 1):\n",
    "    if <some condition>:\n",
    "      answer = answer + <something>\n",
    "    else:\n",
    "      answer = answer + <something else>\n",
    "  return answer\n",
    "```"
   ]
  },
  {
   "cell_type": "markdown",
   "metadata": {},
   "source": [
    "## Practice From Last Time\n",
    "1. Web servers and Web browsers need to know a file's type so they know how to display the file. The file's type is based on the extension of the file's name. For example, we name our Python scripts with the .py extension and our HTML files with the .html extension. Using help(str), look at how to use the rfind method and compare with how the find method is used. Use the `rfind` method to determine a file's type. \n",
    "Example output:\n",
    "```\n",
    "What is the name of your file? index.html\n",
    "That is a html file.\n",
    "What is the name of your file? picture.jpg\n",
    "That is a jpg file.\n",
    "What is the name of your file? 16.functions.pdf\n",
    "That is a pdf file.\n",
    "```\n",
    "2. Write a function called `count_dups` that\tcounts the number of back-to-back duplicated characters\tin a string. Example: `count_dups(\"balloon\")` returns 2\n",
    "\n",
    "3. Write a function called `is_palindrome` that takes in a string as a parameter and returns True if it is a palindrome, and False otherwise. A palindrome is a word or phrase that is the same forwards and backwards.  In your algorithm, remove spaces from the string. You should consider upper and lower case letters as the same, .i.e., \"A man A plan A canal Panama\" is a palindrome. (What string methods can you use to accomplish this before processing?) However, you don't need to consider punctuation as special cases.\n",
    "Some example palindromes: \"kayak\", \"A man A plan A canal Panama\".  Example: `is_palindrome('kayak')` returns True"
   ]
  },
  {
   "cell_type": "code",
   "execution_count": null,
   "metadata": {},
   "outputs": [],
   "source": [
    "def main():\n",
    "\n",
    "    \n",
    "main()"
   ]
  },
  {
   "cell_type": "code",
   "execution_count": 8,
   "metadata": {},
   "outputs": [
    {
     "ename": "IndentationError",
     "evalue": "expected an indented block after function definition on line 1 (3424414497.py, line 5)",
     "output_type": "error",
     "traceback": [
      "\u001b[0;36m  Cell \u001b[0;32mIn[8], line 5\u001b[0;36m\u001b[0m\n\u001b[0;31m    count_dups(\"balloon\")\u001b[0m\n\u001b[0m    ^\u001b[0m\n\u001b[0;31mIndentationError\u001b[0m\u001b[0;31m:\u001b[0m expected an indented block after function definition on line 1\n"
     ]
    }
   ],
   "source": [
    "def count_dups(s):\n",
    "\n",
    "\n",
    "#Test case\n",
    "count_dups(\"balloon\")"
   ]
  },
  {
   "cell_type": "code",
   "execution_count": 12,
   "metadata": {},
   "outputs": [
    {
     "name": "stdout",
     "output_type": "stream",
     "text": [
      "amanaplanacanalpanama\n"
     ]
    },
    {
     "data": {
      "text/plain": [
       "True"
      ]
     },
     "execution_count": 12,
     "metadata": {},
     "output_type": "execute_result"
    }
   ],
   "source": [
    "#Write your code here\n",
    "def is_palindrome(s):\n",
    "    # check that the first character = the last character, the 2nd character = 2nd to last character, etc\n",
    "    s = s.replace(\" \", \"\").lower()\n",
    "    print(s)\n",
    "    for i in range(0, len(s) // 2, 1): # give us every index of the string\n",
    "        # compare s[i] with s[-1-i]\n",
    "        if s[i] != s[-1-i]:\n",
    "            return False\n",
    "    return True\n",
    "    # this is a \"all of\" pattern\n",
    "# is_palindrome('kayak')\n",
    "is_palindrome(\"A man A plan A canal Panama\")\n",
    "# is_palindrome(\"hello\")"
   ]
  },
  {
   "cell_type": "code",
   "execution_count": 2,
   "metadata": {},
   "outputs": [
    {
     "name": "stdout",
     "output_type": "stream",
     "text": [
      "k\n"
     ]
    },
    {
     "data": {
      "text/plain": [
       "True"
      ]
     },
     "execution_count": 2,
     "metadata": {},
     "output_type": "execute_result"
    }
   ],
   "source": [
    "s = 'kayak'\n",
    "print(s[0])\n",
    "s[0].isalpha()"
   ]
  },
  {
   "cell_type": "markdown",
   "metadata": {},
   "source": [
    "Please do the following:\n",
    "1. Assignment 10 due 3/25 by 11:59 PM\n",
    "2. Quiz 8 due 3/28 by 11:59 PM\n",
    "3. Complete Lab 07 - due 3/30 by 11:59pm\n",
    "4. Keep working on Project 7 - due 4/11 by 11:59 PM\n",
    "5. Midterm 2 on 4/3 - begin preparing now"
   ]
  },
  {
   "cell_type": "code",
   "execution_count": 14,
   "metadata": {},
   "outputs": [
    {
     "name": "stdout",
     "output_type": "stream",
     "text": [
      "None\n"
     ]
    }
   ],
   "source": [
    "def my_new_function(a, b, c):\n",
    "    if (d == 1) or (d == 2) or (d == 3):\n",
    "        return d\n",
    "    \n",
    "print(my_new_function(1, 2, 3))"
   ]
  },
  {
   "cell_type": "code",
   "execution_count": null,
   "metadata": {},
   "outputs": [],
   "source": []
  }
 ],
 "metadata": {
  "kernelspec": {
   "display_name": "Python 3 (ipykernel)",
   "language": "python",
   "name": "python3"
  },
  "language_info": {
   "codemirror_mode": {
    "name": "ipython",
    "version": 3
   },
   "file_extension": ".py",
   "mimetype": "text/x-python",
   "name": "python",
   "nbconvert_exporter": "python",
   "pygments_lexer": "ipython3",
   "version": "3.11.4"
  },
  "varInspector": {
   "cols": {
    "lenName": 16,
    "lenType": 16,
    "lenVar": 40
   },
   "kernels_config": {
    "python": {
     "delete_cmd_postfix": "",
     "delete_cmd_prefix": "del ",
     "library": "var_list.py",
     "varRefreshCmd": "print(var_dic_list())"
    },
    "r": {
     "delete_cmd_postfix": ") ",
     "delete_cmd_prefix": "rm(",
     "library": "var_list.r",
     "varRefreshCmd": "cat(var_dic_list()) "
    }
   },
   "types_to_exclude": [
    "module",
    "function",
    "builtin_function_or_method",
    "instance",
    "_Feature"
   ],
   "window_display": false
  }
 },
 "nbformat": 4,
 "nbformat_minor": 2
}
