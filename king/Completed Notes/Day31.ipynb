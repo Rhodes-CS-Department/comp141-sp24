{
 "cells": [
  {
   "cell_type": "markdown",
   "id": "fbb0705a",
   "metadata": {},
   "source": [
    "# Midterm 2 Review"
   ]
  },
  {
   "cell_type": "code",
   "execution_count": 2,
   "id": "a50ebc4e",
   "metadata": {},
   "outputs": [
    {
     "name": "stdout",
     "output_type": "stream",
     "text": [
      "2 3 4 5 6 6 "
     ]
    }
   ],
   "source": [
    "myList = [1, 2, 3, 4, 5, 6]\n",
    "for i in range(1, 6):\n",
    "    myList[i - 1] = myList[i]\n",
    "for i in range(0, 6):\n",
    "    print(myList[i], end = \" \")"
   ]
  },
  {
   "cell_type": "code",
   "execution_count": 1,
   "id": "e0386245",
   "metadata": {},
   "outputs": [],
   "source": [
    "# trace:\n",
    "# i = 1, 2, 3, 4, 5\n",
    "# myList[0] = myList[1]\n",
    "# so myList[0] becomes 2\n",
    "# myList[1] = myList[2]\n",
    "# so myList[1] becomes 3\n",
    "# myList[2] becomes 4\n",
    "# myList[3] becomes 5\n",
    "# myList[4] becomes 6\n",
    "\n",
    "# myList:\n",
    "# [2, 3, 4, 5, 6, 6]\n",
    "\n",
    "# i = 0, 1, 2, 3, 4, 5\n",
    "# output: 2 3 4 5 6 6"
   ]
  },
  {
   "cell_type": "raw",
   "id": "2ce56f62",
   "metadata": {},
   "source": []
  }
 ],
 "metadata": {
  "kernelspec": {
   "display_name": "Python 3 (ipykernel)",
   "language": "python",
   "name": "python3"
  },
  "language_info": {
   "codemirror_mode": {
    "name": "ipython",
    "version": 3
   },
   "file_extension": ".py",
   "mimetype": "text/x-python",
   "name": "python",
   "nbconvert_exporter": "python",
   "pygments_lexer": "ipython3",
   "version": "3.11.4"
  },
  "varInspector": {
   "cols": {
    "lenName": 16,
    "lenType": 16,
    "lenVar": 40
   },
   "kernels_config": {
    "python": {
     "delete_cmd_postfix": "",
     "delete_cmd_prefix": "del ",
     "library": "var_list.py",
     "varRefreshCmd": "print(var_dic_list())"
    },
    "r": {
     "delete_cmd_postfix": ") ",
     "delete_cmd_prefix": "rm(",
     "library": "var_list.r",
     "varRefreshCmd": "cat(var_dic_list()) "
    }
   },
   "types_to_exclude": [
    "module",
    "function",
    "builtin_function_or_method",
    "instance",
    "_Feature"
   ],
   "window_display": false
  }
 },
 "nbformat": 4,
 "nbformat_minor": 5
}
