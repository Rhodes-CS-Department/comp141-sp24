{
 "cells": [
  {
   "cell_type": "markdown",
   "metadata": {},
   "source": [
    "# Day 33: Lists III"
   ]
  },
  {
   "cell_type": "markdown",
   "metadata": {},
   "source": [
    "## Practice from last time\n",
    "<ol>\n",
    "<li> Write a program that randomly generates 20 integers between 1 and 50, and stores them in a list. Print out the lowest and the highest numbers in your list, as well as the sum of all the numbers in the list.</li>\n",
    "\n",
    "<li>Write a function called `sum_adjacent` that prints out sums of adjacent pairs of numbers in the list. (Hint: You don’t need the sliding window technique; instead, use math with list indices. )</li>\n",
    "\n",
    "__Example:__ `sum_adjacent([1, 2, 3, 4])` prints out 3 5 7\n",
    "\n",
    "<li>Write a function called `shift_left` that takes a list and shifts all the elements in the list one spot to the left, without using slices! (the left-most element disappears). Your function should return the shifted list.</li>\n",
    "\n",
    "__Example:__ `shift_left([1, 2, 3, 4, 5])` turns into [2, 3, 4, 5, 5]\n",
    "</ol>\n",
    "\n",
    "* If you’re done early, try to do part 1 without any using the built-in functions (max, min, sum)"
   ]
  },
  {
   "cell_type": "code",
   "execution_count": 11,
   "metadata": {},
   "outputs": [
    {
     "name": "stdout",
     "output_type": "stream",
     "text": [
      "[9, 11, 16, 38, 5, 9, 20, 25, 43, 12, 10, 50, 17, 18, 3, 12, 13, 32, 8, 4]\n",
      "3\n",
      "50\n",
      "355\n"
     ]
    }
   ],
   "source": [
    "#1\n",
    "import random\n",
    "\n",
    "n = 20 # in case we want to change the length of our random number list\n",
    "my_random_numbers = [0] * n # make a list full of 0s\n",
    "for i in range(n):\n",
    "    new_random_number = random.randint(1, 50) # create a random number\n",
    "    my_random_numbers[i] = new_random_number # store it in the list)\n",
    "    \n",
    "print(my_random_numbers)\n",
    "print(min(my_random_numbers))\n",
    "print(max(my_random_numbers))\n",
    "print(sum(my_random_numbers))"
   ]
  },
  {
   "cell_type": "code",
   "execution_count": 17,
   "metadata": {},
   "outputs": [
    {
     "name": "stdout",
     "output_type": "stream",
     "text": [
      "11\n",
      "13\n",
      "15\n",
      "11\n",
      "13\n",
      "15\n"
     ]
    }
   ],
   "source": [
    "#2\n",
    "my_numbers = [1, 2, 3, 4]\n",
    "my_numbers[0] + my_numbers[1]\n",
    "i = 3\n",
    "my_numbers[i - 1] + my_numbers[i]\n",
    "\n",
    "# for num in numbers:\n",
    "numbers = [5, 6, 7, 8]\n",
    "prev_num = numbers[0]\n",
    "for num in numbers[1:]:\n",
    "    adj_sum = num + prev_num\n",
    "    prev_num = num\n",
    "    print(adj_sum)\n",
    "    \n",
    "# for i in range():\n",
    "for i in range(len(numbers) - 1):\n",
    "    adj_sum = numbers[i] + numbers[i + 1]\n",
    "    print(adj_sum)\n",
    "    "
   ]
  },
  {
   "cell_type": "code",
   "execution_count": null,
   "metadata": {},
   "outputs": [],
   "source": [
    "#3\n"
   ]
  },
  {
   "cell_type": "code",
   "execution_count": null,
   "metadata": {},
   "outputs": [],
   "source": [
    "#1 Revisited without using min, max, or sum functions\n"
   ]
  },
  {
   "attachments": {
    "copyingLists.png": {
     "image/png": "[encoded data removed]"
    }
   },
   "cell_type": "markdown",
   "metadata": {},
   "source": [
    "## Copying Lists\n",
    "Because lists are large, mutable, collections of objects, you may observe some undesirable behavior when using assignment statements with lists. In particular, unless you explicitly tell Python to copy a list element by element, it will assume that you want to refer to the same list that already exists in memory. \n",
    "\n",
    "![copyingLists.png](attachment:copyingLists.png)\n",
    "\n",
    "__To make a copy of a list you must copy each element of the list__. There are 2 common methods for doing this.\n",
    "1. Create a new empty list and use a for loop to add a copy of each element from the original list to the new list\n",
    "2. Creating a new empty list and concatenating the old list to the new empty list\n"
   ]
  },
  {
   "cell_type": "code",
   "execution_count": 19,
   "metadata": {},
   "outputs": [
    {
     "name": "stdout",
     "output_type": "stream",
     "text": [
      "[5, 6, 7, 8]\n",
      "[5, 6, 10, 8]\n",
      "[5, 6, 10, 8]\n"
     ]
    }
   ],
   "source": [
    "my_list = [5, 6, 7, 8]\n",
    "my_other_list = my_list\n",
    "print(my_other_list)\n",
    "my_list[2] = 10\n",
    "print(my_list)\n",
    "print(my_other_list)"
   ]
  },
  {
   "cell_type": "code",
   "execution_count": 20,
   "metadata": {},
   "outputs": [
    {
     "name": "stdout",
     "output_type": "stream",
     "text": [
      "List 1: [1, 2, 3, 4]\n",
      "List 2: [1, 2, 3, 4]\n",
      "List 1: [99, 2, 3, 4]\n",
      "List 2: [99, 2, 3, 4]\n"
     ]
    }
   ],
   "source": [
    "#Example of what happens when you use an assignment operator to copy one list into another\n",
    "\n",
    "list1 = [1,2,3,4]\n",
    "list2 = list1\n",
    "print(\"List 1:\", list1)\n",
    "print(\"List 2:\", list2)\n",
    "list1[0] = 99\n",
    "print(\"List 1:\", list1)\n",
    "print(\"List 2:\", list2)"
   ]
  },
  {
   "cell_type": "code",
   "execution_count": 21,
   "metadata": {},
   "outputs": [
    {
     "name": "stdout",
     "output_type": "stream",
     "text": [
      "List 1: [1, 2, 3, 4]\n",
      "List 2: [1, 2, 3, 4]\n",
      "List 1: [99, 2, 3, 4]\n",
      "List 2: [1, 2, 3, 4]\n"
     ]
    }
   ],
   "source": [
    "#Example 1 of how to properly create a separate copy of a list\n",
    "\n",
    "list1 = [1,2,3,4]\n",
    "list2 = []\n",
    "for i in range(0, len(list1), 1):\n",
    "    list2.append(list1[i])\n",
    "\n",
    "print(\"List 1:\", list1)\n",
    "print(\"List 2:\", list2)\n",
    "list1[0] = 99\n",
    "print(\"List 1:\", list1)\n",
    "print(\"List 2:\", list2)"
   ]
  },
  {
   "cell_type": "code",
   "execution_count": 22,
   "metadata": {},
   "outputs": [
    {
     "name": "stdout",
     "output_type": "stream",
     "text": [
      "List 1: [1, 2, 3, 4]\n",
      "List 2: [1, 2, 3, 4]\n",
      "List 1: [99, 2, 3, 4]\n",
      "List 2: [1, 2, 3, 7]\n"
     ]
    }
   ],
   "source": [
    "#Example 2 of how to properly create a separate copy of a list\n",
    "\n",
    "list1 = [1,2,3,4]\n",
    "list2 = []\n",
    "list2 += list1 # shortcut for the for loop in the previous cell\n",
    "  \n",
    "print(\"List 1:\", list1)\n",
    "print(\"List 2:\", list2)\n",
    "list1[0] = 99\n",
    "list2[3] = 7\n",
    "print(\"List 1:\", list1)\n",
    "print(\"List 2:\", list2)"
   ]
  },
  {
   "cell_type": "code",
   "execution_count": null,
   "metadata": {},
   "outputs": [],
   "source": [
    "list1 = [1, 2, 3, 4]\n",
    "list2 = list1[:] # also a shortcut for the previous cell\n",
    "# THE way to copy lists"
   ]
  },
  {
   "cell_type": "markdown",
   "metadata": {},
   "source": [
    "## Savings lists to files\n",
    "Despite the fact that you could simply typecast a list into a string and write it out to a file object, you should avoid doing this. Recall that we always want our files to be nicely formatted so they are easy for a program to parse. If you simply typecast a list to string, the string will look as follows:\n"
   ]
  },
  {
   "cell_type": "code",
   "execution_count": 23,
   "metadata": {},
   "outputs": [
    {
     "name": "stdout",
     "output_type": "stream",
     "text": [
      "['a', 'b', 'c', 'd']\n"
     ]
    }
   ],
   "source": [
    "#Example of what not to do\n",
    "\n",
    "lst = ['a', 'b', 'c', 'd']\n",
    "print(str(lst))"
   ]
  },
  {
   "cell_type": "markdown",
   "metadata": {},
   "source": [
    "Instead, when you are writing a list out to a file, use a for loop to write each element and '\\n'\n"
   ]
  },
  {
   "cell_type": "code",
   "execution_count": 24,
   "metadata": {},
   "outputs": [],
   "source": [
    "#Example of properly writing a list out to a file.\n",
    "def main():\n",
    "  \n",
    "    file = open(\"cities.txt\", 'w')\n",
    "    cities = ['New York', 'Boston', 'Atlanta', 'Chicago', 'Dallas']\n",
    "    for i in range(len(cities)):\n",
    "        file.write(cities[i] + '\\n')  \n",
    "  \n",
    "    file.close()\n",
    "    \n",
    "main()"
   ]
  },
  {
   "cell_type": "markdown",
   "metadata": {},
   "source": [
    "## Reading Files into Lists\n",
    "Don’t read a file into a list more than once per program.\n",
    "* This is the true power of lists – you only need to create them once and then you can use them over and over.\n"
   ]
  },
  {
   "cell_type": "code",
   "execution_count": null,
   "metadata": {},
   "outputs": [],
   "source": [
    "#Example of reading a file into a list \n",
    "def main():\n",
    "  \n",
    "    file = open(\"cities.txt\", 'r')\n",
    "    cities = []\n",
    "    for line in file:\n",
    "        line = line.rstrip()\n",
    "        cities.append(line)\n",
    "  \n",
    "    file.close()\n",
    "    print(cities)\n",
    "  \n",
    "    #Now we can easily sort the cities in alphabetical order using the sort function\n",
    "    cities.sort()\n",
    "    print(cities)\n",
    "\n",
    "main()"
   ]
  },
  {
   "cell_type": "markdown",
   "metadata": {},
   "source": [
    "### Practice\n",
    "<ol>\n",
    "    <li>Text Shorthand Generator: Write a program that creates a text shorthand message for a phrase using the first letters of each word from a phrase/sentence.</li>\n",
    "        \n",
    "__Hint:__ Using one of the string methods to **split** the phrase into a list of words, and another method to make the resulting phrase all lowercase.\n",
    "\n",
    "__Example interations:__\n",
    "```\n",
    "Enter a phrase: This phrase doesn't stand for anything\n",
    "Shorthand is: tpdsfa\n",
    "       \n",
    "Enter a phrase: Laughing out loud\n",
    "Shorthand is: lol\n",
    "```\n",
    "<li> Dot Products: The dot product of two vectors, $A = [A_1, A_2,...A_n]$ and $B=[B_1, B_2, ..., B_n]$, is defined as $A_1*B_1 + A_2 * B_2 + ... + A_n * B_n$. Write a function called `dot_product` that takes in 2 lists of equal length, and returns the dot product of these two lists (vectors). The dot product of two empty lists is 0.</li>\n",
    "\n",
    "__Example:__ `dot_product([2, 3, 4], [4, 5, 6])` returns 47\n",
    "</ol>"
   ]
  },
  {
   "cell_type": "code",
   "execution_count": 33,
   "metadata": {},
   "outputs": [
    {
     "name": "stdout",
     "output_type": "stream",
     "text": [
      "Enter a phrase: laugh out loud\n",
      "lol"
     ]
    }
   ],
   "source": [
    "#1\n",
    "# phrase = input(\"Enter a phrase: \")\n",
    "# word_list = phrase.split(' ')\n",
    "# shorthand = \"\" # empty string\n",
    "# for word in word_list:\n",
    "#     first_letter = word[0]\n",
    "#     shorthand += first_letter\n",
    "    \n",
    "# print(shorthand)\n",
    "\n",
    "s = input(\"Enter a phrase: \")\n",
    "print(s[0], end='')\n",
    "for i in range(len(s)):\n",
    "    if s[i] == ' ':\n",
    "        print(s[i + 1], end='')\n",
    "        \n",
    "# print(shorthand)"
   ]
  },
  {
   "cell_type": "code",
   "execution_count": 36,
   "metadata": {},
   "outputs": [
    {
     "name": "stdout",
     "output_type": "stream",
     "text": [
      "13\n"
     ]
    }
   ],
   "source": [
    "A = [2, 2, 3]\n",
    "B = [3, 2, 1]\n",
    "#2 \n",
    "dot_product = 0\n",
    "for i in range(len(A)):\n",
    "    dot_product += A[i] * B[i]\n",
    "print(\"dot_product\")\n",
    "    \n",
    "# finished = False\n",
    "# a_index = 0\n",
    "# b_index = 0\n",
    "# while not finished:\n",
    "#     # use A[a_index]\n",
    "#     a_index += 1\n",
    "#     # use B[b_index]\n",
    "#     b_index += 1\n",
    "    \n",
    "#     # check if you're finished\n",
    "#     if b_index >= len(B) or a_index >= len(A):\n",
    "#         finished = True"
   ]
  },
  {
   "cell_type": "markdown",
   "metadata": {},
   "source": [
    "# Additional Practice\n",
    "1. Write a function `multiply_lists(list1, list2)` which takes in two lists of the same length and creates a new list of that length, where each element of the new list is the produce of the elements of the input lists. Example: `list1 = [4, 5, 6], list2 = [2, 2, 2], output_list = [8, 10, 12]`.\n",
    "\n",
    "2. Write a function `find_shortest_word(word_list)` which takes in a list of strings `word_list` and returns the shortest word in the list."
   ]
  },
  {
   "cell_type": "code",
   "execution_count": null,
   "metadata": {},
   "outputs": [],
   "source": []
  },
  {
   "cell_type": "code",
   "execution_count": null,
   "metadata": {},
   "outputs": [],
   "source": []
  },
  {
   "cell_type": "markdown",
   "metadata": {},
   "source": [
    "Please do the following:\n",
    "1. Assignment 12 due 4/10 by 11:59 PM\n",
    "2. Quiz 9 due 4/11 by 11:59 PM\n",
    "3. Project 7 due 4/11 by 11:59 PM\n",
    "4. Lab 08 due 4/11 by 11:59 PM\n"
   ]
  },
  {
   "cell_type": "code",
   "execution_count": null,
   "metadata": {},
   "outputs": [],
   "source": []
  }
 ],
 "metadata": {
  "kernelspec": {
   "display_name": "Python 3 (ipykernel)",
   "language": "python",
   "name": "python3"
  },
  "language_info": {
   "codemirror_mode": {
    "name": "ipython",
    "version": 3
   },
   "file_extension": ".py",
   "mimetype": "text/x-python",
   "name": "python",
   "nbconvert_exporter": "python",
   "pygments_lexer": "ipython3",
   "version": "3.11.4"
  },
  "varInspector": {
   "cols": {
    "lenName": 16,
    "lenType": 16,
    "lenVar": 40
   },
   "kernels_config": {
    "python": {
     "delete_cmd_postfix": "",
     "delete_cmd_prefix": "del ",
     "library": "var_list.py",
     "varRefreshCmd": "print(var_dic_list())"
    },
    "r": {
     "delete_cmd_postfix": ") ",
     "delete_cmd_prefix": "rm(",
     "library": "var_list.r",
     "varRefreshCmd": "cat(var_dic_list()) "
    }
   },
   "types_to_exclude": [
    "module",
    "function",
    "builtin_function_or_method",
    "instance",
    "_Feature"
   ],
   "window_display": false
  }
 },
 "nbformat": 4,
 "nbformat_minor": 2
}
