{
 "cells": [
  {
   "cell_type": "markdown",
   "metadata": {},
   "source": [
    "# Day 34: Parallel Lists"
   ]
  },
  {
   "cell_type": "code",
   "execution_count": 1,
   "metadata": {},
   "outputs": [
    {
     "name": "stdout",
     "output_type": "stream",
     "text": [
      "Before: x: [1, 2, 3, 4, 5] y: 1\n",
      "After: x: [0, 2, 3, 4, 5] y: 1\n"
     ]
    }
   ],
   "source": [
    "#WarmUp  What does this print?\n",
    "def changeMe(param1, param2):\n",
    "    param1[0] = 0\n",
    "    param2 = 0\n",
    "    return\n",
    "\n",
    "\n",
    "x = [1,2,3,4,5]\n",
    "y = 1\n",
    "print(\"Before: x:\", x,\"y:\", y) # x: [1, 2, 3, 4, 5], y: 1\n",
    "changeMe(x, y)\n",
    "print(\"After: x:\", x,\"y:\", y) # x: [0, 2, 3, 4, 5], y: 0"
   ]
  },
  {
   "cell_type": "code",
   "execution_count": 2,
   "metadata": {},
   "outputs": [
    {
     "name": "stdout",
     "output_type": "stream",
     "text": [
      "[1, 2, 3]\n",
      "[1, 5, 3]\n"
     ]
    }
   ],
   "source": [
    "# a short experiment\n",
    "my_list = [1, 2, 3]\n",
    "my_new_list = my_list # this is NOT a copy\n",
    "print(my_new_list)\n",
    "my_list[1] = 5\n",
    "print(my_new_list) # the list that i DID NOT change has changed!!\n",
    "# this is because lists are stored by reference, so both of these lists\n",
    "# reference the SAME memory location, so changing one changes both"
   ]
  },
  {
   "cell_type": "code",
   "execution_count": 4,
   "metadata": {},
   "outputs": [
    {
     "name": "stdout",
     "output_type": "stream",
     "text": [
      "[1, 2, 3]\n",
      "[1, 2, 3]\n"
     ]
    }
   ],
   "source": [
    "# but what if i wanted to make a copy of the list?\n",
    "my_list = [1, 2, 3]\n",
    "my_new_list = my_list[:] # this is a slice of the entire list, which copies the list\n",
    "print(my_new_list)\n",
    "my_list[1] = 5\n",
    "print(my_new_list)\n",
    "\n",
    "# this is THE way to copy\n",
    "my_new_list = my_list[:]\n",
    "\n",
    "# in reality, \"under the hood\" python does this:\n",
    "my_new_list = []\n",
    "for item in my_list:\n",
    "    my_new_list.append(item)"
   ]
  },
  {
   "cell_type": "markdown",
   "metadata": {},
   "source": [
    "### Solutions to Practice Problems from Last Time\n",
    "<ol>\n",
    "    <li>Text Shorthand Generator: Write a program that creates a text shorthand message for a phrase using the first letters of each word from a phrase/sentence.</li>\n",
    "        \n",
    "__Hint:__ Using one of the string methods to break the phrase into a list of words, and another method to make the resulting phrase all lowercase.\n",
    "\n",
    "__Example interations:__\n",
    "```\n",
    "Enter a phrase: This phrase doesn't stand for anything\n",
    "Shorthand is: tpdsfa\n",
    "       \n",
    "Enter a phrase: Laughing out loud\n",
    "Shorthand is: lol\n",
    "```\n",
    "<li> Dot Products: The dot product of two vectors, $A = [A_1, A_2,...A_n]$ and $B=[B_1, B_2, ..., B_n]$, is defined as $A_1*B_1 + A_2 * B_2 + ... + A_n * B_n$. Write a function called `dot_product` that takes in 2 lists of equal length, and returns the dot product of these two lists (vectors). The dot product of two empty lists is 0.</li>\n",
    "\n",
    "__Example:__ `dot_product([2, 3, 4], [4, 5, 6])` returns 47\n",
    "</ol>"
   ]
  },
  {
   "cell_type": "code",
   "execution_count": 5,
   "metadata": {},
   "outputs": [
    {
     "name": "stdout",
     "output_type": "stream",
     "text": [
      "Enter a phrase: what does this do\n",
      "Shorthand is:  wdtd\n"
     ]
    }
   ],
   "source": [
    "#1\n",
    "def main():\n",
    "    \n",
    "    phrase = input(\"Enter a phrase: \")\n",
    "    phrase = phrase.lower()\n",
    "    \n",
    "    #create an empty string to build the acronym\n",
    "    shorthand = '' # for the purpose of string accumulation\n",
    "    \n",
    "    words = phrase.split() #split apart the phrase by spaces, into a list of strings\n",
    "    #loop over the list of strings by index\n",
    "    for i in range(0, len(words)):\n",
    "        #get a single string from the list by its index\n",
    "        first_letter = words[i]\n",
    "        #add the first letter of word to the acronym\n",
    "        shorthand += first_letter[0]\n",
    "        \n",
    "    print(\"Shorthand is: \", shorthand)\n",
    "\n",
    "main()\n"
   ]
  },
  {
   "cell_type": "code",
   "execution_count": 6,
   "metadata": {},
   "outputs": [
    {
     "name": "stdout",
     "output_type": "stream",
     "text": [
      "a\n",
      "b\n",
      "c\n",
      "a\n",
      "b\n",
      "c\n"
     ]
    }
   ],
   "source": [
    "# review: there are two ways to loop over lists:\n",
    "my_list = ['a', 'b', 'c']\n",
    "\n",
    "for letter in my_list: # loops over elements\n",
    "    print(letter)\n",
    "    \n",
    "for i in range(len(my_list)): # loops over the indexes of the list\n",
    "    print(my_list[i])"
   ]
  },
  {
   "cell_type": "code",
   "execution_count": 7,
   "metadata": {},
   "outputs": [
    {
     "data": {
      "text/plain": [
       "47"
      ]
     },
     "execution_count": 7,
     "metadata": {},
     "output_type": "execute_result"
    }
   ],
   "source": [
    "def dot_product(A, B):\n",
    "    total = 0\n",
    "    #since A and B are 2 lists of equal length, you can iterate over either of them by index\n",
    "    for i in range(0, len(A)):\n",
    "        total += A[i] * B[i]\n",
    "        \n",
    "    return total\n",
    "\n",
    "dot_product([2, 3, 4], [4, 5, 6])"
   ]
  },
  {
   "cell_type": "markdown",
   "metadata": {},
   "source": [
    "Parallel lists are two or more lists of the same length, where there is a relationship between `list1[p]` and `list2[p]`  (for any index/position p.)\n",
    "\n",
    "\n",
    "<table>\n",
    "    <tr>\n",
    "        <td></td>\n",
    "        <td>0</td>\n",
    "        <td>1</td>\n",
    "        <td>2</td>\n",
    "    </tr>\n",
    "    <tr>\n",
    "        <td>list1</td>\n",
    "        <td>\"hello\"</td>\n",
    "        <td>\"my\"</td>\n",
    "        <td>\"friend\"</td>\n",
    "    </tr>\n",
    "    <tr>\n",
    "        <td>list2</td>\n",
    "        <td>\"ahoy\"</td>\n",
    "        <td>\"me\"</td>\n",
    "        <td>\"matey\"</td>\n",
    "    </tr>\n",
    "</table>\n",
    "\n",
    "\n",
    "|          | 0        | 1         | 2         | 3         | 4       |\n",
    "|----------|----------|-----------|-----------|-----------|---------|\n",
    "| products  | \"apples\" | \"oranges\" | \"peaches\" | \"bananas\" | \"pears\" |\n",
    "| quantities | 100      | 50        | 75        | 125       | 80      |\n",
    "\n",
    "```\n",
    "products = [\"apples\", \"oranges\", \"peaches\", \"bananas\", \"pears\"]\n",
    "quantities = [100, 50, 75, 125, 80]\n",
    "```"
   ]
  },
  {
   "cell_type": "code",
   "execution_count": 2,
   "metadata": {},
   "outputs": [
    {
     "name": "stdout",
     "output_type": "stream",
     "text": [
      "Products are:  ['apples', 'oranges', 'peaches', 'bananas', 'pears']\n",
      "Quantities are:  [100, 50, 75, 125, 80]\n",
      "Product 0 is apples and the quantity is 100\n",
      "Product 1 is oranges and the quantity is 50\n",
      "Product 2 is peaches and the quantity is 75\n",
      "Product 3 is bananas and the quantity is 125\n",
      "Product 4 is pears and the quantity is 80\n"
     ]
    }
   ],
   "source": [
    "# Using Parallel Lists with Files Example\n",
    "\n",
    "def main():\n",
    "    file = open(\"products.txt\", \"r\")\n",
    "    \n",
    "    products = []  # empty lists for products and quantities\n",
    "    quantities = []  # initialize empty lists\n",
    "    \n",
    "    for line in file:\n",
    "        product, quantity = line.split(\" \") #can also call line.split() since default argument is space\n",
    "        quantity = int(quantity)\n",
    "        \n",
    "        products.append(product)\n",
    "        quantities.append(quantity)\n",
    "        \n",
    "    file.close()\n",
    "        \n",
    "    print(\"Products are: \", products)\n",
    "    print(\"Quantities are: \", quantities)\n",
    "    \n",
    "    # Loop over both lists simultaneously:\n",
    "    for i in range(0, len(products)):\n",
    "        print(\"Product\", i, \"is\", products[i], \"and the quantity is\", quantities[i])\n",
    "    \n",
    "main()"
   ]
  },
  {
   "cell_type": "markdown",
   "metadata": {},
   "source": [
    "## Maximum and minimum for lists\n",
    "\n",
    "Find the smallest item in a list called `lst`:\n",
    "\n",
    "```python\n",
    "smallest = lst[0]                # no longer use \"a really big number\"\n",
    "for idx in range(1, len(lst)):   # start at index 1\n",
    "    if lst[idx] < smallest:\n",
    "        smallest = lst[idx]\n",
    "```\n",
    "\n",
    "After this loop finishes, `smallest` holds the minimum\n",
    "item in `lst`."
   ]
  },
  {
   "cell_type": "code",
   "execution_count": 6,
   "metadata": {},
   "outputs": [
    {
     "name": "stdout",
     "output_type": "stream",
     "text": [
      "Highest quantity: 125\n",
      "Lowest quantity: 50\n"
     ]
    }
   ],
   "source": [
    "# Demonstration of minimum and maximum for lists:\n",
    "\n",
    "def main():\n",
    "    # Read the products file.\n",
    "    \n",
    "    file = open(\"products.txt\", \"r\")\n",
    "    \n",
    "    products = []\n",
    "    quantities = []  \n",
    "    \n",
    "    for line in file:\n",
    "        product, quantity = line.split(\" \")\n",
    "        quantity = int(quantity)\n",
    "        \n",
    "        products.append(product)\n",
    "        quantities.append(quantity)\n",
    "        \n",
    "    file.close()\n",
    "    \n",
    "    # Find the minimum and maximum quantities.\n",
    "        \n",
    "    least_quantity = quantities[0] # initialize as the first value\n",
    "    most_quantity = quantities[0] # initialize as the first value\n",
    "\n",
    "    for i in range(1, len(quantities)):\n",
    "        if quantities[i] < least_quantity:  # minimum algorithm\n",
    "            least_quantity = quantities[i]\n",
    "            \n",
    "        if quantities[i] > most_quantity:  # maximum algorithm\n",
    "            most_quantity = quantities[i]\n",
    "            \n",
    "    print(\"Highest quantity:\", most_quantity)\n",
    "    print(\"Lowest quantity:\", least_quantity)\n",
    "    \n",
    "main()"
   ]
  },
  {
   "cell_type": "code",
   "execution_count": 8,
   "metadata": {},
   "outputs": [
    {
     "name": "stdout",
     "output_type": "stream",
     "text": [
      "200\n"
     ]
    }
   ],
   "source": [
    "# old way:\n",
    "numbers = [10, 30, -10, 50, 200]\n",
    "max_number = -100000000 # some very small number\n",
    "for num in numbers:\n",
    "    if num > max_number:\n",
    "        max_number = num\n",
    "\n",
    "# new way:\n",
    "numbers = [10, 30, -10, 50, 200]\n",
    "max_number = numbers[0]\n",
    "for num in numbers:\n",
    "    if num > max_number:\n",
    "        max_number = num\n",
    "        \n",
    "print(max_number)"
   ]
  },
  {
   "cell_type": "markdown",
   "metadata": {},
   "source": [
    "#### But why does this code below not work?"
   ]
  },
  {
   "cell_type": "code",
   "execution_count": 8,
   "metadata": {},
   "outputs": [
    {
     "name": "stdout",
     "output_type": "stream",
     "text": [
      "Lowest quantity: 50\n",
      "Product 0 is apples and the quantity is 100\n",
      "Product 1 is oranges and the quantity is 50\n",
      "Product 2 is peaches and the quantity is 75\n",
      "Product 3 is bananas and the quantity is 125\n",
      "Product 4 is pears and the quantity is 80\n"
     ]
    }
   ],
   "source": [
    "# goal: identify the product with lowest quantity and order 10 more of it\n",
    "def main():\n",
    "    # Read the products file.\n",
    "    file = open(\"products.txt\", \"r\")\n",
    "    \n",
    "    products = []\n",
    "    quantities = []  \n",
    "    \n",
    "    for line in file:\n",
    "        product, quantity = line.split(\" \")\n",
    "        quantity = int(quantity)\n",
    "        \n",
    "        products.append(product)\n",
    "        quantities.append(quantity)\n",
    "        \n",
    "    file.close()\n",
    "    \n",
    "    # Find the smallest quantity.\n",
    "    least_quantity = quantities[0]\n",
    "    least_quantity_product = products[0]\n",
    "    for i in range(1, len(quantities)):\n",
    "        if quantities[i] < least_quantity:\n",
    "            least_quantity = quantities[i]\n",
    "            least_quantity_product = products[i]\n",
    "            \n",
    "    print(\"Lowest quantity:\", least_quantity)\n",
    "    \n",
    "    # Buy ten more of the least-quantity product:\n",
    "    least_quantity += 10\n",
    "    \n",
    "    # Print out the products, after buying more of the least one:\n",
    "    for i in range(0, len(products)):\n",
    "        print(\"Product\", i, \"is\", products[i], \"and the quantity is\", quantities[i])\n",
    "    \n",
    "main()"
   ]
  },
  {
   "cell_type": "markdown",
   "metadata": {},
   "source": [
    "**Key idea**: To modify an item in a list, we must know **what index the item is at.**\n",
    "\n",
    "Therefore, we should save the **index** of the smallest item,\n",
    "alongside the value of the item itself."
   ]
  },
  {
   "cell_type": "code",
   "execution_count": 9,
   "metadata": {},
   "outputs": [
    {
     "name": "stdout",
     "output_type": "stream",
     "text": [
      "Lowest quantity: 50\n",
      "...is located at index: 0\n",
      "...and the product is apples\n",
      "Product 0 is apples and the quantity is 110\n",
      "Product 1 is oranges and the quantity is 50\n",
      "Product 2 is peaches and the quantity is 75\n",
      "Product 3 is bananas and the quantity is 125\n",
      "Product 4 is pears and the quantity is 80\n"
     ]
    }
   ],
   "source": [
    "# does this work correctly?\n",
    "def main():\n",
    "    file = open(\"products.txt\", \"r\")\n",
    "    \n",
    "    products = []\n",
    "    quantities = []  \n",
    "    \n",
    "    for line in file:\n",
    "        product, quantity = line.split(\" \")\n",
    "        quantity = int(quantity)\n",
    "        \n",
    "        products.append(product)\n",
    "        quantities.append(quantity)\n",
    "        \n",
    "    file.close()\n",
    "        \n",
    "    # Find the smallest quantity.\n",
    "    least_quantity = quantities[0]\n",
    "    least_quantity_index = 0             # save the index!\n",
    "    for i in range(1, len(quantities)):\n",
    "        if quantities[i] < least_quantity:\n",
    "            least_quantity = quantities[i]\n",
    "            least_quant_index = i   # save the index!\n",
    "            \n",
    "    # Key idea for the loop above: whenever we change least_quant,\n",
    "    # we also change least_quant_idx, so they are always kept in sync.\n",
    "            \n",
    "    print(\"Lowest quantity:\", least_quantity)\n",
    "    print(\"...is located at index:\", least_quantity_index)\n",
    "    print(\"...and the product is\", products[least_quantity_index])\n",
    "    # Look at the line above: I can also use the saved index to\n",
    "    # print the name of the product corresponding to the smallest quantity!\n",
    "    \n",
    "    # Buy ten more of the least-quantity product:\n",
    "    # least_quant += 10  <--- No, doesn't work.\n",
    "    quantities[least_quantity_index] += 10   # <--- This works!\n",
    "    \n",
    "    # Print out the products, after buying more of the least one:\n",
    "    for i in range(0, len(products)):\n",
    "        print(\"Product\", i, \"is\", products[i], \"and the quantity is\", quantities[i])\n",
    "    \n",
    "    \n",
    "main()"
   ]
  },
  {
   "cell_type": "markdown",
   "metadata": {},
   "source": [
    "Please do the following:\n",
    "1. Projects 1-7: final deadline 4/18\n",
    "2. Labs 1-8: Final deadline 4/18\n",
    "3. Project 8: Final deadline 4/25\n",
    "\n",
    "Project 8 will take you much longer than most programs you have written this semester. Be sure to start early and ask questions! I'm giving you quite a few days to work on the program, so that you have ample time to finish it before the deadline.\n"
   ]
  },
  {
   "cell_type": "code",
   "execution_count": null,
   "metadata": {},
   "outputs": [],
   "source": []
  }
 ],
 "metadata": {
  "kernelspec": {
   "display_name": "Python 3 (ipykernel)",
   "language": "python",
   "name": "python3"
  },
  "language_info": {
   "codemirror_mode": {
    "name": "ipython",
    "version": 3
   },
   "file_extension": ".py",
   "mimetype": "text/x-python",
   "name": "python",
   "nbconvert_exporter": "python",
   "pygments_lexer": "ipython3",
   "version": "3.11.4"
  },
  "varInspector": {
   "cols": {
    "lenName": 16,
    "lenType": 16,
    "lenVar": 40
   },
   "kernels_config": {
    "python": {
     "delete_cmd_postfix": "",
     "delete_cmd_prefix": "del ",
     "library": "var_list.py",
     "varRefreshCmd": "print(var_dic_list())"
    },
    "r": {
     "delete_cmd_postfix": ") ",
     "delete_cmd_prefix": "rm(",
     "library": "var_list.r",
     "varRefreshCmd": "cat(var_dic_list()) "
    }
   },
   "types_to_exclude": [
    "module",
    "function",
    "builtin_function_or_method",
    "instance",
    "_Feature"
   ],
   "window_display": false
  }
 },
 "nbformat": 4,
 "nbformat_minor": 2
}
