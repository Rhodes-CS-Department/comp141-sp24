{
 "cells": [
  {
   "cell_type": "markdown",
   "id": "1b14570f",
   "metadata": {},
   "source": [
    "## Questions"
   ]
  },
  {
   "cell_type": "code",
   "execution_count": null,
   "id": "2195b6ec",
   "metadata": {},
   "outputs": [],
   "source": []
  },
  {
   "cell_type": "markdown",
   "id": "7e3c2394",
   "metadata": {},
   "source": [
    "## Project 2"
   ]
  },
  {
   "cell_type": "code",
   "execution_count": null,
   "id": "33f5df16",
   "metadata": {},
   "outputs": [],
   "source": []
  },
  {
   "cell_type": "markdown",
   "id": "79c26b22",
   "metadata": {},
   "source": [
    "## Practice From Last Time\n",
    "1. Write a function called `direction` that takes two float arguments, `x` and `y`. Consider an arrow  on the Cartesian plane pointing from (0,0) to (x, y). This function should return the string \"NE\", \"SE\", \"SW\", or \"NW\" depending on the direction that the arrow points. Assume `x` and `y` will never be 0. The def line will be: `def direction(x, y):`"
   ]
  },
  {
   "cell_type": "code",
   "execution_count": null,
   "id": "fac31d0b",
   "metadata": {},
   "outputs": [],
   "source": []
  },
  {
   "cell_type": "markdown",
   "id": "645103df",
   "metadata": {},
   "source": [
    "2. Write a function called `area_of_circle` that takes in one float argument `radius`. This function should return the area of a circle with that radius ($area= \\pi ∗ 𝑟^2$). The def line will be: `def area_of_circle(radius):`"
   ]
  },
  {
   "cell_type": "code",
   "execution_count": null,
   "id": "1df15637",
   "metadata": {},
   "outputs": [],
   "source": []
  },
  {
   "cell_type": "markdown",
   "id": "bca4a52b",
   "metadata": {},
   "source": [
    "### To Do\n",
    "Please do the following:\n",
    "1. Submit Lab 02 - due 2/7 by 11:59 PM\n",
    "2. Complete self-assessment for Lab 02\n",
    "3. Begin Lab 03 - due 2/12 by 11:59 PM\n",
    "4. Complete self-assessment for Lab 03\n",
    "5. Quiz 4 - due 2/9 by 11:59pm\n",
    "6. Start Project 3 (project-03) - due 2/10 by 11:59pm\n"
   ]
  },
  {
   "cell_type": "code",
   "execution_count": null,
   "id": "a9cc7899",
   "metadata": {},
   "outputs": [],
   "source": []
  }
 ],
 "metadata": {
  "kernelspec": {
   "display_name": "Python 3 (ipykernel)",
   "language": "python",
   "name": "python3"
  },
  "language_info": {
   "codemirror_mode": {
    "name": "ipython",
    "version": 3
   },
   "file_extension": ".py",
   "mimetype": "text/x-python",
   "name": "python",
   "nbconvert_exporter": "python",
   "pygments_lexer": "ipython3",
   "version": "3.11.4"
  },
  "varInspector": {
   "cols": {
    "lenName": 16,
    "lenType": 16,
    "lenVar": 40
   },
   "kernels_config": {
    "python": {
     "delete_cmd_postfix": "",
     "delete_cmd_prefix": "del ",
     "library": "var_list.py",
     "varRefreshCmd": "print(var_dic_list())"
    },
    "r": {
     "delete_cmd_postfix": ") ",
     "delete_cmd_prefix": "rm(",
     "library": "var_list.r",
     "varRefreshCmd": "cat(var_dic_list()) "
    }
   },
   "types_to_exclude": [
    "module",
    "function",
    "builtin_function_or_method",
    "instance",
    "_Feature"
   ],
   "window_display": false
  }
 },
 "nbformat": 4,
 "nbformat_minor": 5
}
