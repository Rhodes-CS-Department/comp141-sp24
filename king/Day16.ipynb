{
 "cells": [
  {
   "cell_type": "markdown",
   "metadata": {},
   "source": [
    "# Day 16: Count-Controlled Loops\n"
   ]
  },
  {
   "cell_type": "markdown",
   "metadata": {},
   "source": [
    "***Where we left off last class:***\n",
    "\n",
    "When writing loops, you should be careful not to make any 1 variable do too many things. It's okay to use 1 variable to control the loop, another to keep track of total, and a 3rd variable to handle some other functionality. Here's an example of a loop we can write that is easiest to write with a few different variables.\n",
    "\n",
    "Write a while loop that will compute the sum of the first $n$ positive odd numbers.  For example, if $n$ is 5, you should compute 1 + 3 + 5 + 7 + 9."
   ]
  },
  {
   "cell_type": "code",
   "execution_count": null,
   "metadata": {},
   "outputs": [],
   "source": [
    "n = int(input(\"N: \")) #assume we get n from the user\n"
   ]
  },
  {
   "cell_type": "markdown",
   "metadata": {},
   "source": [
    "## For-Loops\n",
    "\n",
    "__Count-Controlled loop:__ iterates a specific number of times\n",
    "* Use a for statement to write count-controlled loop \n",
    "* Designed to work with sequence of data items\n",
    "* Iterates once for each item in the sequence\n",
    "* General Format: \n",
    "```\n",
    "for variable in [val1, val2, etc]:\n",
    "\tstatements\n",
    "```\n",
    "* In the format above, variable is a new variable that gets created as part of this for statement - you can use this variable anywhere inside the loop body or after the loop is done iterating\n"
   ]
  },
  {
   "cell_type": "code",
   "execution_count": null,
   "metadata": {},
   "outputs": [],
   "source": [
    "for num in [10, 23, 36, 4, 5]:\n",
    "    print(num)"
   ]
  },
  {
   "cell_type": "markdown",
   "metadata": {},
   "source": [
    "## Using the range function\n",
    "\n",
    "* The range function simplifies the process of writing a for loop\n",
    "* range returns an iterable object\n",
    "* __Iterable:__ contains a sequence of values that can be iterated over\n",
    "\n",
    "__range characteristics:__\n",
    "* One argument: used as ending limit \n",
    "* Two arguments: starting value and ending limit\n",
    "* Three arguments: third argument is step value\n",
    "\n",
    "`range(start=0, end, step=1)` shows that range can take in up to 3 arguments, and if not specified the default value for start is 0, and the default value for step is 1"
   ]
  },
  {
   "cell_type": "code",
   "execution_count": null,
   "metadata": {},
   "outputs": [],
   "source": [
    "# When you using a single argument, it describes the end value\n",
    "#The default value for start is used (0), and the default value for step is used (1)\n",
    "\n",
    "#equivalent while loop to the below for loop\n",
    "i = 0\n",
    "while i < 5:\n",
    "    print(i)\n",
    "    i += 1\n",
    "\n",
    "print(\"here's the for loop: \")\n",
    "for i in range(5):\n",
    "    print(i)"
   ]
  },
  {
   "cell_type": "code",
   "execution_count": null,
   "metadata": {},
   "outputs": [],
   "source": [
    "# When using range with 2 arguments, they describe the start and end values\n",
    "#The default value for step is used (1)\n",
    "for i in range(2, 10):\n",
    "    print(i)"
   ]
  },
  {
   "cell_type": "code",
   "execution_count": null,
   "metadata": {},
   "outputs": [],
   "source": [
    "# While loop equivalent for the above for loop\n",
    "i = 2\n",
    "while i < 10:\n",
    "    print(i)\n",
    "    i += 1"
   ]
  },
  {
   "cell_type": "code",
   "execution_count": null,
   "metadata": {},
   "outputs": [],
   "source": [
    "# When using range with 3 arguments, all values are specified\n",
    "# Including the step value, allows you to count by 2s, or 3s, or any integer value you'd like\n",
    "\n",
    "for i in range(2, 16, 3):\n",
    "    print(i)\n",
    "\n",
    "print(i)\n"
   ]
  },
  {
   "cell_type": "code",
   "execution_count": null,
   "metadata": {},
   "outputs": [],
   "source": [
    "# While loop equivalent of the above for loop\n",
    "\n",
    "i = 2\n",
    "while i < 16:\n",
    "    print(i)\n",
    "    i += 3"
   ]
  },
  {
   "cell_type": "markdown",
   "metadata": {},
   "source": [
    "The range function can be used to generate a sequence with numbers in descending order\n",
    "* Make sure starting number is larger than end limit, and step value is negative\n"
   ]
  },
  {
   "cell_type": "code",
   "execution_count": null,
   "metadata": {},
   "outputs": [],
   "source": [
    "for i in range(10, 0, -1):\n",
    "    print(i)"
   ]
  },
  {
   "cell_type": "code",
   "execution_count": null,
   "metadata": {},
   "outputs": [],
   "source": [
    "#While loop equivalent of the above for loop\n",
    "i = 10\n",
    "while i > 0:\n",
    "    print(i)\n",
    "    i -= 1"
   ]
  },
  {
   "cell_type": "markdown",
   "metadata": {},
   "source": [
    "## Trace that code\n",
    "Let's trace through the following programs to see what they output\n"
   ]
  },
  {
   "cell_type": "code",
   "execution_count": null,
   "metadata": {},
   "outputs": [],
   "source": [
    "for num in range(1, 11, 1):\n",
    "    square = num * num\n",
    "    if square % 3 != 0:\n",
    "        print(\"The square of\", num, \"is\", square)"
   ]
  },
  {
   "cell_type": "code",
   "execution_count": null,
   "metadata": {},
   "outputs": [],
   "source": [
    "total = 0\n",
    "for num in range(2, 11, 2):\n",
    "    total += num\n",
    "print(total)"
   ]
  },
  {
   "cell_type": "code",
   "execution_count": null,
   "metadata": {},
   "outputs": [],
   "source": [
    "def f_to_c(degrees_f):\n",
    "    c = (degrees_f - 32)  * 5/9\n",
    "    return c\n",
    "\n",
    "def main():\n",
    "    fmin = int(input(\"Min temp: \"))\n",
    "    fmax = int(input(\"Max temp: \"))\n",
    "  \n",
    "    for fah_temp in range(fmin, fmax+1, 10):\n",
    "        cel_temp = f_to_c(fah_temp)\n",
    "        print(fah_temp, cel_temp)\n",
    "    \n",
    "main()"
   ]
  },
  {
   "cell_type": "markdown",
   "metadata": {},
   "source": [
    "## Practice\n",
    "\n",
    "1. Re-write the GCD program from before with a for loop instead of a while loop."
   ]
  },
  {
   "cell_type": "code",
   "execution_count": null,
   "metadata": {},
   "outputs": [],
   "source": [
    "#This is the GCD program using a while loop - modify it to use a for loop instead\n",
    "def main():\n",
    "    \n",
    "    cnt = 1\n",
    "    #Initialize gcd to 1 here, so it always has a value after the loop\n",
    "    gcd = 1\n",
    "    num1 = int(input(\"Integer 1: \"))\n",
    "    num2 = int(input(\"Integer 2: \"))\n",
    "      \n",
    "    while cnt <= num1 and cnt <= num2:\n",
    "        if num1 % cnt == 0 and num2 % cnt == 0:\n",
    "            gcd = cnt\n",
    "      \n",
    "        cnt += 1\n",
    "\n",
    "    print(\"GCD is: \", gcd)\n",
    "main()"
   ]
  },
  {
   "cell_type": "markdown",
   "metadata": {},
   "source": [
    "## break and continue\n",
    "\n",
    "* __break__: immediately terminate a loop (breaks out of loop)\n",
    "* __continue__: ends the current iteration and goes to the end of the loop body (breaks out of iteration) (Typically used with while loops, but can be used in a for loop as well.)\n",
    "\n",
    "* __DO NOT OVERUSE!__ Can make code difficult to read and debug!"
   ]
  },
  {
   "cell_type": "code",
   "execution_count": null,
   "metadata": {},
   "outputs": [],
   "source": [
    "# Example Using break\n",
    "\n",
    "total = 0\n",
    "number = 0\n",
    "\n",
    "while number < 20:\n",
    "    number += 1\n",
    "    total += number\n",
    "    if total >= 100:\n",
    "        break\n",
    "\n",
    "print(\"The number is:\", number)\n",
    "print(\"The total is:\", total)"
   ]
  },
  {
   "cell_type": "code",
   "execution_count": null,
   "metadata": {},
   "outputs": [],
   "source": [
    "# Example using continue\n",
    "\n",
    "total = 0\n",
    "number = 0\n",
    "\n",
    "while number < 20:\n",
    "    number += 1\n",
    "    if number == 10 or number == 11:\n",
    "        continue\n",
    "    total += number\n",
    "\n",
    "print(\"The number is:\", number)\n",
    "print(\"The total is:\", total)"
   ]
  },
  {
   "cell_type": "markdown",
   "metadata": {},
   "source": [
    "## Using boolean variables in loops\n",
    "\n",
    "* Given a positive integer $n$, assign True to `prime` if $n$ has no factors other than 1 and itself. \n",
    "* If at any time during the loop, you find a factor of $n$ other than 1 or $n$, set value of `prime` to False and `break` out of the loop\n",
    "* Remember, $m$ is a factor of $n$ if $m$ divides $n$ evenly."
   ]
  },
  {
   "cell_type": "code",
   "execution_count": null,
   "metadata": {},
   "outputs": [],
   "source": [
    "# Using boolean variables in loops example\n",
    "def main():\n",
    "    n = int(input(\"N: \"))\n",
    "    prime = True\n",
    "  \n",
    "    for i in range(2, n):\n",
    "        if n % i == 0:\n",
    "            prime = False\n",
    "            break\n",
    "\n",
    "    print(i, \"after the loop\")\n",
    "    if prime:\n",
    "        print(n, \"is prime\")\n",
    "    else:\n",
    "        print(n, \"is not prime\")\n",
    "main()"
   ]
  },
  {
   "cell_type": "markdown",
   "metadata": {},
   "source": [
    "Recall that a while condition can be any condition that evaluates to True or False. Some programmers abuse this idea by writing \n",
    "`while True:` loops, that have a break statement inside of them. While I don't recommend this technique, you need to be able to read it. Here's an example."
   ]
  },
  {
   "cell_type": "code",
   "execution_count": null,
   "metadata": {},
   "outputs": [],
   "source": [
    "total_scores = 0\n",
    "while True:\n",
    "    score = int(input(\"Score? \"))\n",
    "    if score == 0:\n",
    "        break\n",
    "\n",
    "    total_scores += score\n",
    "\n",
    "print(\"The total is\", total_scores)\n",
    "  "
   ]
  },
  {
   "cell_type": "code",
   "execution_count": null,
   "metadata": {},
   "outputs": [],
   "source": [
    "#This code is equivalent to the code above - but does not require a break statement\n",
    "total_scores = 0\n",
    "score = int(input(\"Score? \"))\n",
    "while score != 0:\n",
    "    total_scores += score\n",
    "    score = int(input(\"Score? \"))\n",
    "\n",
    "print(\"The total is\", total_scores)"
   ]
  },
  {
   "cell_type": "markdown",
   "metadata": {},
   "source": [
    "## Sentinels\n",
    "\n",
    "__Sentinel:__ special value that marks the end of a sequence of items\n",
    "* When program reaches a sentinel, it knows that the end of the sequence of items was reached, and the loop terminates\n",
    "* Must be distinctive enough so as not to be mistaken for a regular value in the sequence\n",
    "* Example: in the example above, a score of 0 is a sentinel\n",
    "\n",
    "(You have been using these since the first day we introduced while loops. We're just giving them a name now.)"
   ]
  },
  {
   "cell_type": "markdown",
   "metadata": {},
   "source": [
    "###  Practice\n",
    "1. Compute the sum of the first $n$ odd positive integers using a __for__ loop\n",
    "\n",
    "Example: if $n$ is 5, you should compute 1 + 3 + 5 + 7 + 9."
   ]
  },
  {
   "cell_type": "code",
   "execution_count": null,
   "metadata": {},
   "outputs": [],
   "source": []
  },
  {
   "cell_type": "markdown",
   "metadata": {},
   "source": [
    "2. Using a for loop, draw a diagonal line that looks as follows: \n",
    "\n",
    "```\n",
    "\\\n",
    " \\\n",
    "  \\\n",
    "   \\\n",
    "    \\\n",
    "```\n",
    "Remember that `\\` is a special escape character, so to get it to display, you'll have to `print(\"\\\\\")`\n",
    "\n",
    "Once you have that working, allow the user to enter an integer representing the size of the line, and draw a diagonal line of the appropriate size."
   ]
  },
  {
   "cell_type": "code",
   "execution_count": null,
   "metadata": {},
   "outputs": [],
   "source": []
  },
  {
   "cell_type": "markdown",
   "metadata": {},
   "source": [
    "Please do the following:\n",
    "1. Assignment 6 due 2/19 by 11:59 PM\n",
    "2. Project 04 due 2/20 by 11:59 PM\n",
    "3. Study for midterm 1 - (on Friday, Feb. 24 in class) - See Review Packet in Canvas"
   ]
  },
  {
   "cell_type": "code",
   "execution_count": null,
   "metadata": {},
   "outputs": [],
   "source": []
  }
 ],
 "metadata": {
  "kernelspec": {
   "display_name": "Python 3 (ipykernel)",
   "language": "python",
   "name": "python3"
  },
  "language_info": {
   "codemirror_mode": {
    "name": "ipython",
    "version": 3
   },
   "file_extension": ".py",
   "mimetype": "text/x-python",
   "name": "python",
   "nbconvert_exporter": "python",
   "pygments_lexer": "ipython3",
   "version": "3.11.4"
  },
  "varInspector": {
   "cols": {
    "lenName": 16,
    "lenType": 16,
    "lenVar": 40
   },
   "kernels_config": {
    "python": {
     "delete_cmd_postfix": "",
     "delete_cmd_prefix": "del ",
     "library": "var_list.py",
     "varRefreshCmd": "print(var_dic_list())"
    },
    "r": {
     "delete_cmd_postfix": ") ",
     "delete_cmd_prefix": "rm(",
     "library": "var_list.r",
     "varRefreshCmd": "cat(var_dic_list()) "
    }
   },
   "types_to_exclude": [
    "module",
    "function",
    "builtin_function_or_method",
    "instance",
    "_Feature"
   ],
   "window_display": false
  }
 },
 "nbformat": 4,
 "nbformat_minor": 2
}
