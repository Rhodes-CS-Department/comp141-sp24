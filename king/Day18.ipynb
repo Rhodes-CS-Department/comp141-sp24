{
 "cells": [
  {
   "cell_type": "markdown",
   "metadata": {},
   "source": [
    "# Day 18: Break & Continue"
   ]
  },
  {
   "cell_type": "markdown",
   "metadata": {},
   "source": [
    "## Warm-up\n",
    "\n",
    "Using a for loop, write a function that computes the factorial of a number. Reminder:\n",
    "factorial is $n!$ or $(1*2*3…*n)$. Get $n$ as input from the user and assume it is a positive integer. \n",
    "\n",
    "__Examples:__  \n",
    "* `factorial(5)` returns 120 #$(1*2*3*4*5)$\n",
    "* `factorial(8)` returns 40320 #$(1*2*3*4*5*6*7*8)$"
   ]
  },
  {
   "cell_type": "code",
   "execution_count": null,
   "metadata": {},
   "outputs": [],
   "source": []
  },
  {
   "cell_type": "markdown",
   "metadata": {},
   "source": [
    "## break and continue\n",
    "\n",
    "* __break__: immediately terminate a loop (breaks out of loop)\n",
    "* __continue__: ends the current iteration and goes to the end of the loop body (breaks out of iteration) (Typically used with while loops, but can be used in a for loop as well.)\n",
    "\n",
    "* __DO NOT OVERUSE!__ Can make code difficult to read and debug!\n"
   ]
  },
  {
   "cell_type": "code",
   "execution_count": null,
   "metadata": {},
   "outputs": [],
   "source": [
    "# Example Using break\n",
    "\n",
    "total = 0\n",
    "number = 0\n",
    "\n",
    "while number < 20:\n",
    "    number += 1\n",
    "    total += number\n",
    "    if total >= 100:\n",
    "        break\n",
    "\n",
    "print(\"The number is:\", number)\n",
    "print(\"The total is:\", total)"
   ]
  },
  {
   "cell_type": "code",
   "execution_count": null,
   "metadata": {},
   "outputs": [],
   "source": [
    "# Example using continue\n",
    "\n",
    "total = 0\n",
    "number = 0\n",
    "\n",
    "while number < 20:\n",
    "    number += 1\n",
    "    if number == 10 or number == 11:\n",
    "        continue\n",
    "    total += number\n",
    "\n",
    "print(\"The number is:\", number)\n",
    "print(\"The total is:\", total)"
   ]
  },
  {
   "cell_type": "markdown",
   "metadata": {},
   "source": [
    "## Using boolean variables in loops\n",
    "\n",
    "* Given a positive integer $n$, assign True to `prime` if $n$ has no factors other than 1 and itself. \n",
    "* If at any time during the loop, you find a factor of $n$ other than 1 or $n$, set value of `prime` to False and `break` out of the loop\n",
    "* Remember, $m$ is a factor of $n$ if $m$ divides $n$ evenly."
   ]
  },
  {
   "cell_type": "code",
   "execution_count": null,
   "metadata": {},
   "outputs": [],
   "source": [
    "# Using boolean variables in loops example\n",
    "def main():\n",
    "    n = int(input(\"N: \"))\n",
    "    prime = True\n",
    "  \n",
    "    for i in range(2, n):\n",
    "        if n % i == 0:\n",
    "            prime = False\n",
    "            break\n",
    "\n",
    "    print(i, \"after the loop\")\n",
    "    if prime:\n",
    "        print(n, \"is prime\")\n",
    "    else:\n",
    "        print(n, \"is not prime\")\n",
    "main()"
   ]
  },
  {
   "cell_type": "markdown",
   "metadata": {},
   "source": [
    "Recall that a while condition can be any condition that evaluates to True or False. Some programmers abuse this idea by writing \n",
    "`while True:` loops, that have a break statement inside of them. While I don't recommend this technique, you need to be able to read it. Here's an example."
   ]
  },
  {
   "cell_type": "code",
   "execution_count": null,
   "metadata": {},
   "outputs": [],
   "source": [
    "total_scores = 0\n",
    "while True:\n",
    "    score = int(input(\"Score? \"))\n",
    "    if score == 0:\n",
    "        break\n",
    "\n",
    "    total_scores += score\n",
    "\n",
    "print(\"The total is\", total_scores)\n",
    "  "
   ]
  },
  {
   "cell_type": "code",
   "execution_count": null,
   "metadata": {},
   "outputs": [],
   "source": [
    "#This code is equivalent to the code above - but does not require a break statement\n",
    "total_scores = 0\n",
    "score = int(input(\"Score? \"))\n",
    "while score != 0:\n",
    "    total_scores += score\n",
    "    score = int(input(\"Score? \"))\n",
    "\n",
    "print(\"The total is\", total_scores)"
   ]
  },
  {
   "cell_type": "markdown",
   "metadata": {},
   "source": [
    "## Sentinels\n",
    "\n",
    "__Sentinel:__ special value that marks the end of a sequence of items\n",
    "* When program reaches a sentinel, it knows that the end of the sequence of items was reached, and the loop terminates\n",
    "* Must be distinctive enough so as not to be mistaken for a regular value in the sequence\n",
    "* Example: in the example above, a score of 0 is a sentinel\n",
    "\n",
    "(You have been using these since the first day we introduced while loops. We're just giving them a name now.)"
   ]
  },
  {
   "cell_type": "markdown",
   "metadata": {},
   "source": [
    "###  Practice\n",
    "1. Compute the sum of the first $n$ odd positive integers using a __for__ loop\n",
    "\n",
    "Example: if $n$ is 5, you should compute 1 + 3 + 5 + 7 + 9."
   ]
  },
  {
   "cell_type": "code",
   "execution_count": null,
   "metadata": {},
   "outputs": [],
   "source": []
  },
  {
   "cell_type": "markdown",
   "metadata": {},
   "source": [
    "2. Using a for loop, draw a diagonal line that looks as follows: \n",
    "\n",
    "```\n",
    "\\\n",
    " \\\n",
    "  \\\n",
    "   \\\n",
    "    \\\n",
    "```\n",
    "Remember that `\\` is a special escape character, so to get it to display, you'll have to `print(\"\\\\\")`\n",
    "\n",
    "Once you have that working, allow the user to enter an integer representing the size of the line, and draw a diagonal line of the appropriate size."
   ]
  },
  {
   "cell_type": "code",
   "execution_count": null,
   "metadata": {},
   "outputs": [],
   "source": []
  },
  {
   "cell_type": "markdown",
   "metadata": {},
   "source": [
    "Please do the following:\n",
    "1. Complete Project 4 - no submissions accepted after 2/25 by 11:59 PM\n",
    "2. Complete Lab 04 - due 2/28 by 11:59pm\n",
    "2. Zybooks Assignment 7 - due 3/1 by 11:59pm (it's really short!)\n"
   ]
  },
  {
   "cell_type": "code",
   "execution_count": null,
   "metadata": {},
   "outputs": [],
   "source": []
  }
 ],
 "metadata": {
  "kernelspec": {
   "display_name": "Python 3 (ipykernel)",
   "language": "python",
   "name": "python3"
  },
  "language_info": {
   "codemirror_mode": {
    "name": "ipython",
    "version": 3
   },
   "file_extension": ".py",
   "mimetype": "text/x-python",
   "name": "python",
   "nbconvert_exporter": "python",
   "pygments_lexer": "ipython3",
   "version": "3.11.4"
  },
  "varInspector": {
   "cols": {
    "lenName": 16,
    "lenType": 16,
    "lenVar": 40
   },
   "kernels_config": {
    "python": {
     "delete_cmd_postfix": "",
     "delete_cmd_prefix": "del ",
     "library": "var_list.py",
     "varRefreshCmd": "print(var_dic_list())"
    },
    "r": {
     "delete_cmd_postfix": ") ",
     "delete_cmd_prefix": "rm(",
     "library": "var_list.r",
     "varRefreshCmd": "cat(var_dic_list()) "
    }
   },
   "types_to_exclude": [
    "module",
    "function",
    "builtin_function_or_method",
    "instance",
    "_Feature"
   ],
   "window_display": false
  }
 },
 "nbformat": 4,
 "nbformat_minor": 2
}
