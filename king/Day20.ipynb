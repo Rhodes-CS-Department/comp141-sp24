{
 "cells": [
  {
   "cell_type": "markdown",
   "metadata": {},
   "source": [
    "# Day 20: Nested Loops\n",
    "\n",
    "1. Write a loop that outputs `'*****'` (each iteration of the loop should print out 1 star)\n",
    "2. Now modify that code so it outputs the following:\n",
    "\n",
    "```\n",
    "*****\n",
    "*****\n",
    "*****\n",
    "*****\n",
    "*****\n",
    "```\n",
    "\n"
   ]
  },
  {
   "cell_type": "code",
   "execution_count": 9,
   "metadata": {},
   "outputs": [
    {
     "name": "stdout",
     "output_type": "stream",
     "text": [
      "*\n",
      "*\n",
      "*\n",
      "*\n",
      "*\n"
     ]
    }
   ],
   "source": [
    "\n"
   ]
  },
  {
   "cell_type": "markdown",
   "metadata": {},
   "source": [
    "__Nested Loop__:A loop that is inside another loop.\n",
    "* An inner loop goes through all of its iterations for every single iteration of an outer loop.\n",
    "* Inner loops complete their iterations faster than outer loops.\n",
    "* To get the total number of iterations of a nested loop, multiply the number of iterations of all the loops\n",
    "\n",
    "How many iterations occurred in the nested loop we wrote above? __25__\n",
    "\n",
    "\n",
    "Syntax of nested loop:\n",
    "```\n",
    "while expression:\n",
    "    while expression:\n",
    "        statement(s)\n",
    "    statement(s)\n",
    "```\n",
    "```\n",
    "for iterating_var in sequence:\n",
    "    for iterating_var in sequence:\n",
    "        statement(s)\n",
    "    statement(s)\n",
    "```\n",
    "```\n",
    "for iterating_var in sequence:\n",
    "    while expression:\n",
    "        statement(s)\n",
    "    statement(s)\n",
    "```\n",
    "\n",
    "```\n",
    "while expression:\n",
    "    for iterating_var in sequence:\n",
    "        statement(s)\n",
    "    statement(s)\n",
    "```\n"
   ]
  },
  {
   "cell_type": "code",
   "execution_count": null,
   "metadata": {},
   "outputs": [],
   "source": [
    "# Nested Loop Example 1\n",
    "# Times Tables\n",
    "for i in range(1, 6):\n",
    "    for j in range(1, 11):\n",
    "        print(format(i*j, '4d'), end=' ')\n",
    "    print()"
   ]
  },
  {
   "cell_type": "code",
   "execution_count": null,
   "metadata": {},
   "outputs": [],
   "source": [
    "# Nested Loop Example 2\n",
    "# Dependent Loops\n",
    "\n",
    "for i in range(1, 8, 3):\n",
    "    for j in range(8, i, -2):\n",
    "        print(j, end=' ')\n",
    "    "
   ]
  },
  {
   "cell_type": "code",
   "execution_count": null,
   "metadata": {},
   "outputs": [],
   "source": [
    "# Nested Loop Example 3\n",
    "# Prime Numbers\n",
    "\n",
    "i = 2\n",
    "while i < 100:\n",
    "    prime = True\n",
    "    for j in range(2, i):\n",
    "        if i % j == 0:\n",
    "            prime = False\n",
    "            break\n",
    "    if prime:\n",
    "        print(i, \"is prime\")\n",
    "    i = i + 1\n"
   ]
  },
  {
   "cell_type": "code",
   "execution_count": null,
   "metadata": {},
   "outputs": [],
   "source": [
    "# Nested Loops Example 4\n",
    "# Clock Example\n",
    "\n",
    "for hrs in range(0, 24):\n",
    "    for mins in range(0, 60):\n",
    "        for secs in range(0, 60):\n",
    "            print (hrs, \":\", mins, \":\", secs)\n"
   ]
  },
  {
   "cell_type": "markdown",
   "metadata": {},
   "source": [
    "## Writing Nested Loops\n",
    "* Design the outer loop without worrying about what goes inside\n",
    "* Design what goes inside, ignoring the outer loop.\n",
    "* Put the pieces together, preserving the nesting."
   ]
  },
  {
   "cell_type": "markdown",
   "metadata": {},
   "source": [
    "## Practice 1\n",
    "Using two for loops, a variable with value \"She loves you,\" and another variable with value\n",
    "\"yeah\", print out the Beatles lyrics:\n",
    "\n",
    "```\n",
    "She loves you, yeah, yeah, yeah \n",
    "She loves you, yeah, yeah, yeah \n",
    "She loves you, yeah, yeah, yeah\n",
    "Yea-aahh\n",
    "```"
   ]
  },
  {
   "cell_type": "code",
   "execution_count": null,
   "metadata": {},
   "outputs": [],
   "source": [
    "\n"
   ]
  },
  {
   "cell_type": "markdown",
   "metadata": {},
   "source": [
    "## Practice 2\n",
    "\n",
    "Write a program that displays the multiplication tables from 0 to 12. Example output:\n",
    "\n",
    "\n",
    "```\n",
    " x |   0 |   1 |   2 |   3 |   4 |   5 |   6 |   7 |   8 |   9 |  10 |  11 |  12 |\n",
    "----------------------------------------------------------------------------------\n",
    " 0 |   0 |   0 |   0 |   0 |   0 |   0 |   0 |   0 |   0 |   0 |   0 |   0 |   0 |\n",
    " 1 |   0 |   1 |   2 |   3 |   4 |   5 |   6 |   7 |   8 |   9 |  10 |  11 |  12 |\n",
    " 2 |   0 |   2 |   4 |   6 |   8 |  10 |  12 |  14 |  16 |  18 |  20 |  22 |  24 |\n",
    " 3 |   0 |   3 |   6 |   9 |  12 |  15 |  18 |  21 |  24 |  27 |  30 |  33 |  36 |\n",
    " 4 |   0 |   4 |   8 |  12 |  16 |  20 |  24 |  28 |  32 |  36 |  40 |  44 |  48 |\n",
    " 5 |   0 |   5 |  10 |  15 |  20 |  25 |  30 |  35 |  40 |  45 |  50 |  55 |  60 |\n",
    " 6 |   0 |   6 |  12 |  18 |  24 |  30 |  36 |  42 |  48 |  54 |  60 |  66 |  72 |\n",
    " 7 |   0 |   7 |  14 |  21 |  28 |  35 |  42 |  49 |  56 |  63 |  70 |  77 |  84 |\n",
    " 8 |   0 |   8 |  16 |  24 |  32 |  40 |  48 |  56 |  64 |  72 |  80 |  88 |  96 |\n",
    " 9 |   0 |   9 |  18 |  27 |  36 |  45 |  54 |  63 |  72 |  81 |  90 |  99 | 108 |\n",
    "10 |   0 |  10 |  20 |  30 |  40 |  50 |  60 |  70 |  80 |  90 | 100 | 110 | 120 |\n",
    "11 |   0 |  11 |  22 |  33 |  44 |  55 |  66 |  77 |  88 |  99 | 110 | 121 | 132 |\n",
    "12 |   0 |  12 |  24 |  36 |  48 |  60 |  72 |  84 |  96 | 108 | 120 | 132 | 144 |\n",
    "```"
   ]
  },
  {
   "cell_type": "code",
   "execution_count": null,
   "metadata": {},
   "outputs": [],
   "source": []
  },
  {
   "cell_type": "markdown",
   "metadata": {},
   "source": [
    "Please do the following:\n",
    "1. Lab 04 - due 2/28 by 11:59 pm\n",
    "2. Zybooks Assignment 7 - due 3/1 by 11:59pm\n",
    "3. Zybooks Assignment 8 - due 3/5 by 11:59pm \n",
    "4. Quiz 6 - due 3/7 by 11:59pm\n",
    "3. Work on Project 5 - due by 3/9 by 11:59pm\n"
   ]
  },
  {
   "cell_type": "code",
   "execution_count": null,
   "metadata": {},
   "outputs": [],
   "source": []
  }
 ],
 "metadata": {
  "kernelspec": {
   "display_name": "Python 3 (ipykernel)",
   "language": "python",
   "name": "python3"
  },
  "language_info": {
   "codemirror_mode": {
    "name": "ipython",
    "version": 3
   },
   "file_extension": ".py",
   "mimetype": "text/x-python",
   "name": "python",
   "nbconvert_exporter": "python",
   "pygments_lexer": "ipython3",
   "version": "3.11.4"
  },
  "varInspector": {
   "cols": {
    "lenName": 16,
    "lenType": 16,
    "lenVar": 40
   },
   "kernels_config": {
    "python": {
     "delete_cmd_postfix": "",
     "delete_cmd_prefix": "del ",
     "library": "var_list.py",
     "varRefreshCmd": "print(var_dic_list())"
    },
    "r": {
     "delete_cmd_postfix": ") ",
     "delete_cmd_prefix": "rm(",
     "library": "var_list.r",
     "varRefreshCmd": "cat(var_dic_list()) "
    }
   },
   "types_to_exclude": [
    "module",
    "function",
    "builtin_function_or_method",
    "instance",
    "_Feature"
   ],
   "window_display": false
  }
 },
 "nbformat": 4,
 "nbformat_minor": 2
}
