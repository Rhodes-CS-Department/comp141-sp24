{
 "cells": [
  {
   "cell_type": "markdown",
   "metadata": {},
   "source": [
    "# Day 32: Lists II"
   ]
  },
  {
   "cell_type": "code",
   "execution_count": null,
   "metadata": {},
   "outputs": [],
   "source": [
    "# what will the output be?\n",
    "a = [1,2,3]\n",
    "b = [4,5,6]\n",
    "c = a + b\n",
    "print(c)\n",
    "\n",
    "mylist = ['a','b','c']\n",
    "other = ['d','e','f']\n",
    "print(mylist + other)"
   ]
  },
  {
   "cell_type": "code",
   "execution_count": null,
   "metadata": {},
   "outputs": [],
   "source": [
    "# what will the output be?\n",
    "\n",
    "lst = [2] * 3\n",
    "lst2 = [4] * 2\n",
    "lst3 = lst + lst2\n",
    "for x in range(0, len(lst3), 2):\n",
    "    lst3[x] = -1\n",
    "\n",
    "print(lst3)"
   ]
  },
  {
   "cell_type": "code",
   "execution_count": null,
   "metadata": {},
   "outputs": [],
   "source": [
    "# Examples of list slices \n",
    "# What will the following print statements output?\n",
    "numbers = [1, 2, 3, 4, 5, 6, 7, 8, 9, 10]\n",
    "print(numbers[2: ])\n",
    "print(numbers[:-2])\n",
    "print(numbers[1:8:2])\n",
    "print(numbers[5::-1])\n",
    "print(numbers[::-1])"
   ]
  },
  {
   "cell_type": "code",
   "execution_count": null,
   "metadata": {},
   "outputs": [],
   "source": [
    "# Running total with lists program\n",
    "\n",
    "def main():\n",
    "    total = 0\n",
    "    numbers = [2, 4, 6, 8, 10]\n",
    "    for i in range(0, len(numbers)):\n",
    "        value = numbers[i]\n",
    "        total += value\n",
    "\n",
    "    print(\"The total of the items is: \", total)\n",
    "\n",
    "main()"
   ]
  },
  {
   "cell_type": "code",
   "execution_count": null,
   "metadata": {},
   "outputs": [],
   "source": [
    "# starting with an empty list, append the first 10 even numbers to it\n",
    "my_numbers = []\n",
    "my_numbers.append(6)\n",
    "\n",
    "# starting with a list of 10 0s, replace each 0 with the first 10 evens\n",
    "my_numbers = [0] * 10\n",
    "my_numbers[3] = 6"
   ]
  },
  {
   "cell_type": "code",
   "execution_count": null,
   "metadata": {},
   "outputs": [],
   "source": [
    "# Example using the repetition operator to initialize the list to all zeroes\n",
    "\n",
    "def main():\n",
    "    NUM_DAYS = 5\n",
    "    sales = [0] * NUM_DAYS\n",
    "    print(sales)\n",
    "  \n",
    "    print(\"Enter the sales for each day.\")\n",
    "  \n",
    "    for i in range(0, NUM_DAYS):\n",
    "        print(\"Day #\", i+1, \":\", sep='', end='')\n",
    "        sales[i] = float(input())\n",
    "\n",
    "    \n",
    "    print(\"Here are the values you entered.\")\n",
    "    for i in range(0, len(sales)):\n",
    "        print(sales[i])\n",
    "\n",
    "main()"
   ]
  },
  {
   "cell_type": "markdown",
   "metadata": {},
   "source": [
    "## Practice\n",
    "The following program has the main function written for you and stubs for 2 other functions that you will need to write.\n",
    "* `findAverage(numbers)` – will return the average of all the numbers in the list\n",
    "* `countNumbers(numbers, average)` - will return 2 values; it counts the number of above average and below average numbers in a list"
   ]
  },
  {
   "cell_type": "code",
   "execution_count": null,
   "metadata": {},
   "outputs": [],
   "source": [
    "#Fill in the code for the following 2 functions, findAverage and countNumbers\n",
    "\n",
    "#This function finds the average of a list of numbers\n",
    "#Parameters: numbers, a list of integers\n",
    "#Returns: average, a floating point number \n",
    "def findAverage(numbers):\n",
    "  #REPLACE the pass call with your code\n",
    "  pass\n",
    "  \n",
    "\n",
    "#This function counts the number of above average and below average numbers in a list\n",
    "#Parameters: numbers, a list of integers; average, the average of the values in the list\n",
    "#Returns: numBelow, the # of values below average; numAbove, the number of values above average\n",
    "def countNumbers(numbers, average):\n",
    "    numBelow = 0\n",
    "    numAbove = 0\n",
    "\n",
    "    #YOUR CODE GOES HERE\n",
    "    \n",
    "    return numBelow, numAbove\n",
    "\n",
    "def main():\n",
    "    numList = [62, 57, 35, 27, 45, 44, 46, 68, 86, 27, 88, 33,\n",
    "               11, 61, 64, 45, 56, 9, 33, 32, 56, 63, 24, 26,\n",
    "               100, 95, 62, 10, 87, 58, 69, 54, 75, 41, 22, 93,\n",
    "               82, 16, 92, 49, 6, 71, 85, 59, 56, 22, 3, 50, 1,\n",
    "               20, 54, 18, 27, 78, 17, 7, 41, 83, 92, 38, 5, 64,\n",
    "               60, 92, 15, 26, 57, 39, 80, 41, 67, 56, 24, 77,\n",
    "               28, 90, 24, 72, 2, 46, 75, 53, 58, 47, 50, 18,\n",
    "               40, 65, 24, 58, 4, 58, 81, 40, 6, 77, 85, 86, 68]\n",
    "    \n",
    "    avg = findAverage(numList)\n",
    "    print(\"Average is:\", avg)\n",
    "    below, above = countNumbers(numList, avg)\n",
    "    print(\"Below Average:\", below, \"\\nAbove Average:\", above)\n",
    "\n",
    "main()"
   ]
  },
  {
   "cell_type": "code",
   "execution_count": null,
   "metadata": {},
   "outputs": [],
   "source": []
  },
  {
   "cell_type": "markdown",
   "metadata": {},
   "source": [
    "## Finding Items in Lists with the in Operator\n",
    "* You can use the `in` operator to determine whether an item is contained in a list\n",
    "* General format: `item in list`\n",
    "* Returns True if the item is in the list, or False if it is not in the list\n",
    "* Similarly you can use the `not in` operator to determine whether an item is not in a list"
   ]
  },
  {
   "cell_type": "code",
   "execution_count": null,
   "metadata": {},
   "outputs": [],
   "source": [
    "# Example using the in operator\n",
    "def main():\n",
    "    prod_nums = ['V475', 'F987', 'Q143', 'R688']\n",
    "  \n",
    "    search = input(\"Enter a product number: \")\n",
    "  \n",
    "    if search in prod_nums:\n",
    "        print(search, \"was found in the list.\")\n",
    "    else:\n",
    "        print(search, \"was not found in the list.\")\n",
    "\n",
    "main()"
   ]
  },
  {
   "cell_type": "markdown",
   "metadata": {},
   "source": [
    "## List Methods and Useful Built-in Functions\n",
    "(See [list reference](https://rhodes.box.com/s/iif401r8va0qkkcbe2m0yfso9gg4pant) for a complete list of list methods)\n",
    "\n",
    "* `append(item):` used to add items to a list – item is appended to the end of the existing list\n",
    "* `index(item):` used to determine where an item is located in a list. It returns the index of the first element in the list containing item, and raises ValueError exception if item not in the list\n",
    "* `insert(index, item):` used to insert item at position index in the list\n",
    "* `sort():` used to sort the elements of the list in ascending order\n",
    "* `remove(item):` removes the first occurrence of item in the list\n",
    "* `reverse():` reverses the order of the elements in the list\n",
    "* `del` statement: removes an element from a specific index in a list (General format: `del list[i]`)\n",
    "* `min` and `max` functions: built-in functions that returns the item that has the lowest or highest value in a sequence. The sequence is passed as an argument (General format: `min(lst)`)\n",
    "* `sum` function: built-in functions that returns the total of all the values in a sequence. The sequence is passed as an argument (General format: `sum(lst)`)\n",
    "\n",
    "### `find` method does NOT exist for lists\n",
    "`list_var.index(item)`: Searches left to right, returns position where found, but crashes if not found.\t\n",
    "\n",
    "Let’s build an algorithm that replicates find(), but works for lists (returns -1 if not found).\n"
   ]
  },
  {
   "cell_type": "code",
   "execution_count": null,
   "metadata": {},
   "outputs": [],
   "source": [
    "#find method for lists"
   ]
  },
  {
   "cell_type": "code",
   "execution_count": null,
   "metadata": {},
   "outputs": [],
   "source": [
    "# Example using the append method\n",
    "\n",
    "def main():\n",
    "    file = open(\"randomNums.txt\", 'r')\n",
    "    numbers = []\n",
    "  \n",
    "    for line in file:\n",
    "        value = int(line)\n",
    "        numbers.append(value)\n",
    "    \n",
    "    file.close()\n",
    "    print(numbers)\n",
    "\n",
    "main()"
   ]
  },
  {
   "cell_type": "code",
   "execution_count": null,
   "metadata": {},
   "outputs": [],
   "source": [
    "# Example using the sort and insert methods\n",
    "\n",
    "def main():\n",
    "    names = ['James', 'Kathryn', 'Bill']\n",
    "    names.sort()\n",
    "\n",
    "    print(\"The list before the insert: \", names)\n",
    "  \n",
    "    names.insert(0, 'Joe')\n",
    "  \n",
    "    print(\"The list after the first insert: \", names)\n",
    "  \n",
    "    names.insert(2, 'Mary')\n",
    "  \n",
    "    print(\"The list after the second insert:\", names)\n",
    "\n",
    "main()"
   ]
  },
  {
   "cell_type": "code",
   "execution_count": null,
   "metadata": {},
   "outputs": [],
   "source": [
    "# Examples using del, min, max, sum, and sort\n",
    "\n",
    "def main():\n",
    "    my_list = [5, 4, 3, 2, 50, 40, 30]\n",
    "    print(\"Before Deletion: \", my_list)\n",
    "    del my_list[2]\n",
    "    print(\"After Deletion: \", my_list)\n",
    "\n",
    "    print(\"The lowest value is\", min(my_list))\n",
    "    print(\"The highest value is\", max(my_list))\n",
    "    print(\"The sum of the values in my list is\", sum(my_list))\n",
    "\n",
    "    #Sorting a list - this will permanately change the order of the items in my_list \n",
    "    #There is no way to return my_list to it's orginal order after running the sort function\n",
    "    my_list.sort()\n",
    "    print(\"The sorted list is: \", my_list)\n",
    "    print()\n",
    "\n",
    "    alpha_list = ['a', 'b','c', 'd']\n",
    "    print(\"The lowest value is\", min(alpha_list))\n",
    "    print(\"The highest value is\", max(alpha_list))\n",
    "    #You cannot take the sum of a list that has strings in it.\n",
    "\n",
    "main()"
   ]
  },
  {
   "cell_type": "code",
   "execution_count": null,
   "metadata": {},
   "outputs": [],
   "source": [
    "# Comparing Consecutive Items in a list\n",
    "\n",
    "def main():\n",
    "    numbers = [9, 1, 0, 2, 8, 6, 7, 5, 3, 4]\n",
    "    deltas = []\n",
    "  \n",
    "    for i in range(1, len(numbers)):\n",
    "        diff = numbers[i] - numbers[i-1]\n",
    "        deltas.append(diff)\n",
    "    \n",
    "    print(deltas)\n",
    "\n",
    "main()\n"
   ]
  },
  {
   "cell_type": "markdown",
   "metadata": {},
   "source": [
    "## Practice\n",
    "<ol>\n",
    "<li> Write a program that randomly generates 20 integers between 1 and 50, and stores them in a list. Print out the lowest and the highest numbers in your list, as well as the sum of all the numbers in the list.</li>\n",
    "\n",
    "<li>Write a function called `sum_adjacent` that prints out sums of adjacent pairs of numbers in the list. (Hint: You don’t need the sliding window technique; instead, use math with list indices. )</li>\n",
    "\n",
    "__Example:__ `sum_adjacent([1, 2, 3, 4])` prints out 3 5 7\n",
    "\n",
    "<li>Write a function called `shift_left` that takes a list and shifts all the elements in the list one spot to the left, without using slices! (the left-most element disappears). Your function should return the shifted list.</li>\n",
    "\n",
    "__Example:__ `shift_left([1, 2, 3, 4, 5])` turns into [2, 3, 4, 5, 5]\n",
    "</ol>\n",
    "\n",
    "* If you’re done early, try to do part 1 without any using the built-in functions (max, min, sum)"
   ]
  },
  {
   "cell_type": "markdown",
   "metadata": {},
   "source": [
    "Don't forget to check for due assignments!"
   ]
  },
  {
   "cell_type": "code",
   "execution_count": null,
   "metadata": {},
   "outputs": [],
   "source": []
  }
 ],
 "metadata": {
  "kernelspec": {
   "display_name": "Python 3 (ipykernel)",
   "language": "python",
   "name": "python3"
  },
  "language_info": {
   "codemirror_mode": {
    "name": "ipython",
    "version": 3
   },
   "file_extension": ".py",
   "mimetype": "text/x-python",
   "name": "python",
   "nbconvert_exporter": "python",
   "pygments_lexer": "ipython3",
   "version": "3.11.4"
  },
  "varInspector": {
   "cols": {
    "lenName": 16,
    "lenType": 16,
    "lenVar": 40
   },
   "kernels_config": {
    "python": {
     "delete_cmd_postfix": "",
     "delete_cmd_prefix": "del ",
     "library": "var_list.py",
     "varRefreshCmd": "print(var_dic_list())"
    },
    "r": {
     "delete_cmd_postfix": ") ",
     "delete_cmd_prefix": "rm(",
     "library": "var_list.r",
     "varRefreshCmd": "cat(var_dic_list()) "
    }
   },
   "types_to_exclude": [
    "module",
    "function",
    "builtin_function_or_method",
    "instance",
    "_Feature"
   ],
   "window_display": false
  }
 },
 "nbformat": 4,
 "nbformat_minor": 2
}
