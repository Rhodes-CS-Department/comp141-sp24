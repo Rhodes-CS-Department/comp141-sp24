{
 "cells": [
  {
   "cell_type": "markdown",
   "metadata": {},
   "source": [
    "# Day 38: More on 2-D Lists"
   ]
  },
  {
   "cell_type": "code",
   "execution_count": null,
   "metadata": {},
   "outputs": [],
   "source": [
    "#Solution to Lab 9: #1\n",
    "def add_diagonal2(grid):\n",
    "    total = 0\n",
    "    for row in range(len(grid)):\n",
    "        col = len(grid)-1-row\n",
    "        total += grid[row][col]\n",
    "\n",
    "    return total\n",
    "\n",
    "add_diagonal2([[1, 2, 3], [4, 5, 6], [7, 8, 9]])\n",
    "    "
   ]
  },
  {
   "cell_type": "code",
   "execution_count": null,
   "metadata": {},
   "outputs": [],
   "source": [
    "# Solution to Lab 9: #2\n",
    "def mult5(grid):\n",
    "    for row in range(len(grid)):\n",
    "        for col in range(len(grid[row])):\n",
    "            grid[row][col] = 5*grid[row][col]\n",
    "    return grid\n",
    "\n",
    "mult5([[5, 2, -1, 4], [-9, 0, 4, 1], [5, 6, 4, -8]])"
   ]
  },
  {
   "cell_type": "code",
   "execution_count": null,
   "metadata": {},
   "outputs": [],
   "source": [
    "#Solution to Lab 9: #4\n",
    "def mult2OddRows(grid):\n",
    "    for row in range(0, len(grid)):\n",
    "        for col in range(0, len(grid[row])):\n",
    "            if row % 2 != 0:\n",
    "                grid[row][col] = grid[row][col] * 2\n",
    "    return grid\n",
    "\n",
    "mult2OddRows([[5, 2, -1, 4], [-9, 0, 4, 1], [5, 6, 4, -8]])"
   ]
  },
  {
   "cell_type": "code",
   "execution_count": null,
   "metadata": {},
   "outputs": [],
   "source": [
    "#Solution to Lab 9: #6\n",
    "def print_smallest_in_col(grid):\n",
    "    for col in range(0, len(grid[0])):\n",
    "        smallest = grid[0][col]\n",
    "        for row in range(0, len(grid)):\n",
    "            if grid[row][col] < smallest:\n",
    "                smallest = grid[row][col]\n",
    "        print(smallest)\n",
    "\n",
    "print_smallest_in_col([[5, 2, -1, 4], [-9, 0, 4, 1], [5, 6, 4, -8]])"
   ]
  },
  {
   "cell_type": "code",
   "execution_count": null,
   "metadata": {},
   "outputs": [],
   "source": [
    "#Solution to Lab 9: # 5 (short-cut)\n",
    "def print_smallest_in_row(grid):\n",
    "    for row in range(0, len(grid)):\n",
    "        smallest = min(grid[row])\n",
    "        print(smallest)\n",
    "print_smallest_in_row([[5, 2, -1, 4], [-9, 0, 4, 1], [5, 6, 4, -8]])"
   ]
  },
  {
   "cell_type": "code",
   "execution_count": null,
   "metadata": {},
   "outputs": [],
   "source": [
    "#Solution to Lab 9 Challenge\n",
    "def return_smallest_in_col(grid):\n",
    "    small_cols = []\n",
    "    for col in range(0, len(grid[0])):\n",
    "        smallest = grid[0][col]\n",
    "        for row in range(0, len(grid)):\n",
    "            if grid[row][col] < smallest:\n",
    "                smallest = grid[row][col]\n",
    "        small_cols.append(smallest)\n",
    "    return small_cols\n",
    "return_smallest_in_col([[5, 2, -1, 4], [-9, 0, 4, 1], [5, 6, 4, -8]])"
   ]
  },
  {
   "cell_type": "markdown",
   "metadata": {},
   "source": [
    "## Ways to initialize a 2D list"
   ]
  },
  {
   "cell_type": "code",
   "execution_count": null,
   "metadata": {},
   "outputs": [],
   "source": [
    "#One Way\n",
    "rows = 5\n",
    "cols = 6\n",
    "matrix = [[0]*cols]*rows \n",
    "print(matrix) "
   ]
  },
  {
   "cell_type": "code",
   "execution_count": null,
   "metadata": {},
   "outputs": [],
   "source": [
    "#Another way\n",
    "rows = 5\n",
    "cols = 6\n",
    "matrix = [] \n",
    "for i in range(rows): \n",
    "    oneRow = [] \n",
    "    for j in range(cols): \n",
    "        oneRow.append(0) \n",
    "    matrix.append(oneRow) \n",
    "print(matrix) "
   ]
  },
  {
   "cell_type": "markdown",
   "metadata": {},
   "source": [
    "Please do the following:\n",
    "* Good practice: [List Worksheet](https://rhodes.box.com/s/lkdzrh5rbpgva8wqz8cub6mvnw57lhhq) - you do not need to hand it in.\n",
    "* Project 1-8 and Labs 1-8 due this week.\n",
    "* Project 8 and Labs 9-10 due next week."
   ]
  },
  {
   "cell_type": "code",
   "execution_count": null,
   "metadata": {},
   "outputs": [],
   "source": []
  }
 ],
 "metadata": {
  "kernelspec": {
   "display_name": "Python 3 (ipykernel)",
   "language": "python",
   "name": "python3"
  },
  "language_info": {
   "codemirror_mode": {
    "name": "ipython",
    "version": 3
   },
   "file_extension": ".py",
   "mimetype": "text/x-python",
   "name": "python",
   "nbconvert_exporter": "python",
   "pygments_lexer": "ipython3",
   "version": "3.11.4"
  },
  "varInspector": {
   "cols": {
    "lenName": 16,
    "lenType": 16,
    "lenVar": 40
   },
   "kernels_config": {
    "python": {
     "delete_cmd_postfix": "",
     "delete_cmd_prefix": "del ",
     "library": "var_list.py",
     "varRefreshCmd": "print(var_dic_list())"
    },
    "r": {
     "delete_cmd_postfix": ") ",
     "delete_cmd_prefix": "rm(",
     "library": "var_list.r",
     "varRefreshCmd": "cat(var_dic_list()) "
    }
   },
   "types_to_exclude": [
    "module",
    "function",
    "builtin_function_or_method",
    "instance",
    "_Feature"
   ],
   "window_display": false
  }
 },
 "nbformat": 4,
 "nbformat_minor": 2
}
