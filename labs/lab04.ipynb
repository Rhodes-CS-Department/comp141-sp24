{
 "cells": [
  {
   "cell_type": "markdown",
   "id": "standing-heater",
   "metadata": {
    "deletable": false,
    "editable": false
   },
   "source": [
    "# Lab 04: Non-Nested Loop Practice\n",
    "\n",
    "This lab contains a series of practice exercises for non-nested loops."
   ]
  },
  {
   "cell_type": "markdown",
   "id": "agricultural-joshua",
   "metadata": {
    "deletable": false,
    "editable": false
   },
   "source": [
    "### Exercise 1\n",
    "\n",
    "Write a function called `count_factors` that takes a single parameter called `num`. This function should return the number of positive factors of `num`. A positive factor is a number between `1` and `num` that divides `num`. For example, the number 10 has 4 factors: 1, 2, 5, and 10. So calling `count_factors(10)` should return 4.\n",
    "\n",
    "Hint: Write a loop that counts from 1 to `num` and tests the remainder of dividing `num` by whatever the counting variable is."
   ]
  },
  {
   "cell_type": "code",
   "execution_count": null,
   "id": "preceding-example",
   "metadata": {},
   "outputs": [],
   "source": [
    "def count_factors(num):\n",
    "    # Your code here\n",
    "\n",
    "# Test your code"
   ]
  },
  {
   "cell_type": "markdown",
   "id": "mediterranean-guard",
   "metadata": {
    "deletable": false,
    "editable": false
   },
   "source": [
    "### Exercise 2\n",
    "\n",
    "Write a function called `roman` that takes a single parameter called `num`. This function should print out the pseudo-Roman numeral equivalent of a number. \n",
    "\n",
    "Note that we are going to call this \"pseudo-Roman\", because we will get rid of the weird subtraction rules for Roman numbers. For example, normally 9 is written as IX (10-1). But we can just print VIIII. \n",
    "\n",
    "Use a loop that runs until the parameter becomes equal to zero. Inside the loop, write `if` statements that test how big the number is (compared to the letter numeral values). Print the first numeral it is larger than or equal to, and then subtract that numeral's value.\n",
    "\n",
    "e.g., if the number is 127, my program would first print C (127 > 100), then X (27 > 10), then X (17 > 10), then V (7 > 5), then I (2 > 1), and finally I (1 >= 1).\n",
    "\n",
    "So, `roman(127)` should print `CXXVII`.\n",
    "\n",
    "Reference: M = 1000, D = 500, C = 100, L = 50, X = 10, V = 5, I = 1\n",
    "\n",
    "As a bonus challenge, make this work for \"real\" Roman numerals (9 = IX)."
   ]
  },
  {
   "cell_type": "code",
   "execution_count": null,
   "id": "static-effects",
   "metadata": {},
   "outputs": [],
   "source": [
    "# Write your function and test it"
   ]
  },
  {
   "cell_type": "markdown",
   "id": "searching-miracle",
   "metadata": {
    "deletable": false,
    "editable": false
   },
   "source": [
    "### Exercise 3\n",
    "\n",
    "Write a program that starts off by asking the user how much money they have in their bank account. Then enter a loop that continuously asks the user to enter an amount of money they want to withdraw from an ATM. Keep looping until the account is empty.\n",
    "\n",
    "Next, add a menu that allows a user to add money, subtract money, or quit the ATM program. Let the user keep going until they choose to quit. If the user requests to withdraw more money than is the account, the code should reject the request and withdraw nothing. "
   ]
  },
  {
   "cell_type": "code",
   "execution_count": null,
   "id": "intelligent-brand",
   "metadata": {},
   "outputs": [],
   "source": [
    "def main():\n",
    "    # Write your ATM simulator here\n",
    "\n",
    "main()"
   ]
  },
  {
   "cell_type": "markdown",
   "id": "educated-director",
   "metadata": {
    "deletable": false,
    "editable": false
   },
   "source": [
    "### Exercise 4\n",
    "\n",
    "Use `cs1.graphics` to draw any __2__ of the following images. These were all drawn using for loops. No nested loops are required for these.\n",
    "\n",
    "   <table>\n",
    "     <tr>\n",
    "       <td><img src=\"https://catiewelsh.github.io/cs141/for-loops0.png\"/></td>\n",
    "       <td><img src=\"https://catiewelsh.github.io/cs141/for-loops1.png\"/></td>\n",
    "       <td><img src=\"https://catiewelsh.github.io/cs141/for-loops2.png\"/></td>\n",
    "       <td><img src=\"https://catiewelsh.github.io/cs141/for-loops3.png\"/></td>\n",
    "     </tr>\n",
    "     <tr>\n",
    "       <td><img src=\"https://catiewelsh.github.io/cs141/for-loops4.png\"/></td>\n",
    "       <td><img src=\"https://catiewelsh.github.io/cs141/for-loops5.png\"/></td>\n",
    "       <td><img src=\"https://catiewelsh.github.io/cs141/for-loops6.png\"/></td>\n",
    "       <td><img src=\"https://catiewelsh.github.io/cs141/for-loops7.png\"/></td>\n",
    "     </tr>\n",
    "   </table>"
   ]
  },
  {
   "cell_type": "code",
   "execution_count": null,
   "id": "strong-constitutional",
   "metadata": {},
   "outputs": [],
   "source": [
    "from cs1.graphics import *\n",
    "\n",
    "def main():\n",
    "    # Drawing 1\n",
    "\n",
    "main()"
   ]
  },
  {
   "cell_type": "code",
   "execution_count": null,
   "id": "nearby-indiana",
   "metadata": {},
   "outputs": [],
   "source": [
    "from cs1.graphics import *\n",
    "\n",
    "def main():\n",
    "    # Drawing 2\n",
    "\n",
    "main()"
   ]
  },
  {
   "cell_type": "markdown",
   "id": "b558743f",
   "metadata": {
    "deletable": false,
    "editable": false
   },
   "source": [
    "## Feedback Questions \n",
    "\n",
    "Answer the following questions in the cell below.\n",
    "1. Are there any particular questions from the lab that you'd like to go over in class?\n",
    "2. Any comments/questions/concerns about any material we've gone over so far?"
   ]
  },
  {
   "cell_type": "markdown",
   "id": "3c1be8de",
   "metadata": {},
   "source": [
    "Put your feedback here:  (double click this cell to fill it in) \n",
    "\n",
    "1. \n",
    "\n",
    "2. "
   ]
  },
  {
   "cell_type": "markdown",
   "id": "intelligent-japan",
   "metadata": {},
   "source": [
    "# Submitting\n",
    "\n",
    "To submit your lab, run the cell below. You can submit as many times as you would like. Make sure that you click the link returned to you by okpy to verify that your notebook submitted correctly (note that you won't see images in the submission)."
   ]
  },
  {
   "cell_type": "code",
   "execution_count": null,
   "id": "fundamental-intelligence",
   "metadata": {
    "deletable": false,
    "editable": false
   },
   "outputs": [],
   "source": [
    "# Run this cell to log in to okpy.org so that you can submit\n",
    "# at the end of the lab.\n",
    "from cs1.notebooks import *\n",
    "ok_submit('lab04.ok')"
   ]
  },
  {
   "cell_type": "code",
   "execution_count": null,
   "id": "1cca04a0",
   "metadata": {},
   "outputs": [],
   "source": []
  }
 ],
 "metadata": {
  "kernelspec": {
   "display_name": "Python 3 (ipykernel)",
   "language": "python",
   "name": "python3"
  },
  "language_info": {
   "codemirror_mode": {
    "name": "ipython",
    "version": 3
   },
   "file_extension": ".py",
   "mimetype": "text/x-python",
   "name": "python",
   "nbconvert_exporter": "python",
   "pygments_lexer": "ipython3",
   "version": "3.10.5"
  },
  "varInspector": {
   "cols": {
    "lenName": 16,
    "lenType": 16,
    "lenVar": 40
   },
   "kernels_config": {
    "python": {
     "delete_cmd_postfix": "",
     "delete_cmd_prefix": "del ",
     "library": "var_list.py",
     "varRefreshCmd": "print(var_dic_list())"
    },
    "r": {
     "delete_cmd_postfix": ") ",
     "delete_cmd_prefix": "rm(",
     "library": "var_list.r",
     "varRefreshCmd": "cat(var_dic_list()) "
    }
   },
   "types_to_exclude": [
    "module",
    "function",
    "builtin_function_or_method",
    "instance",
    "_Feature"
   ],
   "window_display": false
  }
 },
 "nbformat": 4,
 "nbformat_minor": 5
}
