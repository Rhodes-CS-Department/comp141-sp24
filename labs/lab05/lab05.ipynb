{
 "cells": [
  {
   "cell_type": "markdown",
   "id": "standing-heater",
   "metadata": {},
   "source": [
    "# Lab 05: All Loop Practice\n",
    "\n",
    "This lab contains a series of practice exercises for both nested and non-nested loops."
   ]
  },
  {
   "cell_type": "markdown",
   "id": "embedded-german",
   "metadata": {},
   "source": [
    "### Exercise 1\n",
    "\n",
    "Write a function called `upper_left` that takes a parameter called `size` and prints triangles with the base of the triangle in the upper left corner, like this:\n",
    "\n",
    "```\n",
    "upper_left(5)\n",
    "\n",
    "12345\n",
    "1234\n",
    "123\n",
    "12\n",
    "1\n",
    "```\n",
    "\n",
    "Hint: What is the value of `size - 0`? `size - size`? `size - (size-1)`?"
   ]
  },
  {
   "cell_type": "code",
   "execution_count": null,
   "id": "needed-peninsula",
   "metadata": {},
   "outputs": [],
   "source": [
    "def upper_left(size):\n",
    "    # code here\n",
    "            \n",
    "    \n",
    "upper_left(5)\n",
    "# test with other sizes"
   ]
  },
  {
   "cell_type": "markdown",
   "id": "lightweight-rachel",
   "metadata": {},
   "source": [
    "### Exercise 2\n",
    "\n",
    "Write a function called `lower_right` that takes a parameter called `size` and prints triangles with the 90 degree vertex of the triangle in the lower right corner, like this (note that the periods should be spaces):\n",
    "\n",
    "```\n",
    "lower_right(5)\n",
    "\n",
    "....1\n",
    "...12\n",
    "..123\n",
    ".1234\n",
    "12345\n",
    "```\n",
    "\n",
    "Hint: You will have two inner loops."
   ]
  },
  {
   "cell_type": "code",
   "execution_count": null,
   "id": "baking-element",
   "metadata": {},
   "outputs": [],
   "source": [
    "def lower_right(size):\n",
    "    # Your code here\n",
    "    \n",
    "lower_right(5)\n",
    "# Test with other sizes"
   ]
  },
  {
   "cell_type": "markdown",
   "id": "entitled-statistics",
   "metadata": {},
   "source": [
    "### Exercise 3\n",
    "\n",
    "Write a function called `upper_right` that takes a parameter called `size` and prints triangles with the 90 degree vertex of the triangle in the upper right corner, like this (note that the periods should be spaces):\n",
    "\n",
    "```\n",
    "upper_right(5)\n",
    "\n",
    "12345\n",
    ".1234\n",
    "..123\n",
    "...12\n",
    "....1\n",
    "```\n",
    "\n",
    "Hint: Combine the \"tricks\" you used in exercises 1 and 2."
   ]
  },
  {
   "cell_type": "code",
   "execution_count": null,
   "id": "motivated-migration",
   "metadata": {},
   "outputs": [],
   "source": [
    "def upper_right(size):\n",
    "    # Your code here\n",
    "    \n",
    "upper_right(5)\n",
    "# Test with other sizes"
   ]
  },
  {
   "cell_type": "markdown",
   "id": "shaped-progressive",
   "metadata": {},
   "source": [
    "### Exercise 4\n",
    "\n",
    "Write a function called `is_prime` that takes a single parameter called `num`.  This function returns `True` if `num` is prime; that is, if `num` has only two factors: itself and 1.  Do this similarly to `count_factors`, but take advantage of the fact that once you find a single number that divides evenly into `num` (that is not 1 or `num` itself), then you can stop searching for more factors, because `num` can no longer be prime."
   ]
  },
  {
   "cell_type": "code",
   "execution_count": null,
   "id": "received-horizontal",
   "metadata": {},
   "outputs": [],
   "source": [
    "def is_prime(num):\n",
    "    # Your code here\n",
    "    \n",
    "# Test your code"
   ]
  },
  {
   "cell_type": "markdown",
   "id": "forced-great",
   "metadata": {},
   "source": [
    "### Exercise 5\n",
    "\n",
    "Write a program/code that __uses your function from exercise 4__ to print all prime numbers less than 100. Note that 1 is not a prime number--2 is the first prime."
   ]
  },
  {
   "cell_type": "code",
   "execution_count": null,
   "id": "single-harvard",
   "metadata": {},
   "outputs": [],
   "source": [
    "def main():\n",
    "    # Find all primes <100\n",
    "    \n",
    "main()"
   ]
  },
  {
   "cell_type": "markdown",
   "id": "expanded-broadcast",
   "metadata": {},
   "source": [
    "### Exercise 6\n",
    "\n",
    "Using your code from exercise 4, write code that finds the first 50 prime numbers. Do not do this by figuring the 50th prime number ahead of time. Instead, write a loop that stops when it finds the 50th prime number."
   ]
  },
  {
   "cell_type": "code",
   "execution_count": null,
   "id": "threatened-metropolitan",
   "metadata": {},
   "outputs": [],
   "source": [
    "def main():\n",
    "    # Find the first 50 primes\n",
    "    \n",
    "main()"
   ]
  },
  {
   "cell_type": "markdown",
   "id": "mature-software",
   "metadata": {},
   "source": [
    "### Exercise 7\n",
    "\n",
    "Using `cs1.graphics`, write code using nested loops that generates the following image.\n",
    "\n",
    "<img src=\"https://catiewelsh.github.io/cs141/nested.png\"/>"
   ]
  },
  {
   "cell_type": "code",
   "execution_count": null,
   "id": "eleven-senior",
   "metadata": {},
   "outputs": [],
   "source": [
    "from cs1.graphics import *\n",
    "\n",
    "def main():\n",
    "    open_canvas(500, 500)\n",
    "    # Draw a grid of circles\n",
    "\n",
    "main()"
   ]
  },
  {
   "cell_type": "markdown",
   "id": "2fd18908",
   "metadata": {
    "deletable": false,
    "editable": false
   },
   "source": [
    "## Feedback Questions \n",
    "\n",
    "Answer the following questions in the cell below.\n",
    "1. Are there any particular questions from the lab that you'd like to go over in class?\n",
    "2. Any comments/questions/concerns about any material we've gone over so far?"
   ]
  },
  {
   "cell_type": "markdown",
   "id": "6e0fbbc3",
   "metadata": {},
   "source": [
    "Put your feedback here:  (double click this cell to fill it in) \n",
    "\n",
    "1. \n",
    "\n",
    "2. "
   ]
  },
  {
   "cell_type": "markdown",
   "id": "intelligent-japan",
   "metadata": {},
   "source": [
    "# Submitting\n",
    "\n",
    "To submit your lab, run the cell below. You can submit as many times as you would like. Make sure that you click the link returned to you by okpy to verify that your notebook submitted correctly (note that you won't see images in the submission)."
   ]
  },
  {
   "cell_type": "code",
   "execution_count": null,
   "id": "16b6550e",
   "metadata": {},
   "outputs": [],
   "source": [
    "# Run this cell to log in to okpy.org so that you can submit\n",
    "# at the end of the lab.\n",
    "from cs1.notebooks import *\n",
    "ok_submit('lab05.ok')"
   ]
  },
  {
   "cell_type": "code",
   "execution_count": null,
   "id": "c1fc273c",
   "metadata": {},
   "outputs": [],
   "source": []
  }
 ],
 "metadata": {
  "kernelspec": {
   "display_name": "Python 3 (ipykernel)",
   "language": "python",
   "name": "python3"
  },
  "language_info": {
   "codemirror_mode": {
    "name": "ipython",
    "version": 3
   },
   "file_extension": ".py",
   "mimetype": "text/x-python",
   "name": "python",
   "nbconvert_exporter": "python",
   "pygments_lexer": "ipython3",
   "version": "3.9.6"
  },
  "varInspector": {
   "cols": {
    "lenName": 16,
    "lenType": 16,
    "lenVar": 40
   },
   "kernels_config": {
    "python": {
     "delete_cmd_postfix": "",
     "delete_cmd_prefix": "del ",
     "library": "var_list.py",
     "varRefreshCmd": "print(var_dic_list())"
    },
    "r": {
     "delete_cmd_postfix": ") ",
     "delete_cmd_prefix": "rm(",
     "library": "var_list.r",
     "varRefreshCmd": "cat(var_dic_list()) "
    }
   },
   "types_to_exclude": [
    "module",
    "function",
    "builtin_function_or_method",
    "instance",
    "_Feature"
   ],
   "window_display": false
  }
 },
 "nbformat": 4,
 "nbformat_minor": 5
}
